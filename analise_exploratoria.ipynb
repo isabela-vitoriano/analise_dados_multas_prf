{
 "cells": [
  {
   "cell_type": "markdown",
   "metadata": {},
   "source": [
    "## Bibliotecas"
   ]
  },
  {
   "cell_type": "code",
   "execution_count": 1,
   "metadata": {},
   "outputs": [],
   "source": [
    "# Manipulação de dados\n",
    "import numpy as np\n",
    "import pandas as pd\n",
    "\n",
    "# Visualização de dados\n",
    "import plotly.express as px\n",
    "import kaleido\n",
    "\n",
    "# Ignorar avisos\n",
    "import warnings\n",
    "warnings.filterwarnings('ignore')"
   ]
  },
  {
   "cell_type": "markdown",
   "metadata": {},
   "source": [
    "## Leitura das bases"
   ]
  },
  {
   "cell_type": "code",
   "execution_count": 2,
   "metadata": {},
   "outputs": [],
   "source": [
    "# Mostrar mais colunas no display\n",
    "pd.set_option('display.max_columns', None)"
   ]
  },
  {
   "cell_type": "code",
   "execution_count": 3,
   "metadata": {},
   "outputs": [],
   "source": [
    "# Importa a base de dados em parquet\n",
    "df = pd.read_parquet('Base_Consolidada.parquet')"
   ]
  },
  {
   "cell_type": "markdown",
   "metadata": {},
   "source": [
    "## Estudo da base"
   ]
  },
  {
   "cell_type": "markdown",
   "metadata": {},
   "source": [
    "Inicialmente, vamos verificar a estrutura de dados da nossa base. Para isso, começaremos analizando as 5 primeiras e as 5 últimas entradas, analisando as colunas disponíveis e observando a quantidade de nulos."
   ]
  },
  {
   "cell_type": "code",
   "execution_count": 4,
   "metadata": {},
   "outputs": [
    {
     "data": {
      "text/html": [
       "<div>\n",
       "<style scoped>\n",
       "    .dataframe tbody tr th:only-of-type {\n",
       "        vertical-align: middle;\n",
       "    }\n",
       "\n",
       "    .dataframe tbody tr th {\n",
       "        vertical-align: top;\n",
       "    }\n",
       "\n",
       "    .dataframe thead th {\n",
       "        text-align: right;\n",
       "    }\n",
       "</style>\n",
       "<table border=\"1\" class=\"dataframe\">\n",
       "  <thead>\n",
       "    <tr style=\"text-align: right;\">\n",
       "      <th></th>\n",
       "      <th>Número do Auto</th>\n",
       "      <th>Data da Infração (DD/MM/AAAA)</th>\n",
       "      <th>Indicador de Abordagem</th>\n",
       "      <th>Assinatura do Auto</th>\n",
       "      <th>Indicador Veiculo Estrangeiro</th>\n",
       "      <th>Sentido Trafego</th>\n",
       "      <th>UF Placa</th>\n",
       "      <th>UF Infração</th>\n",
       "      <th>BR Infração</th>\n",
       "      <th>Km Infração</th>\n",
       "      <th>Município</th>\n",
       "      <th>Código da Infração</th>\n",
       "      <th>Descrição Abreviada Infração</th>\n",
       "      <th>Enquadramento da Infração</th>\n",
       "      <th>Início Vigência da Infração</th>\n",
       "      <th>Fim Vigência Infração</th>\n",
       "      <th>Medição Infração</th>\n",
       "      <th>Descrição Especie Veículo</th>\n",
       "      <th>Descrição Marca Veículo</th>\n",
       "      <th>Hora Infração</th>\n",
       "      <th>Medição Considerada</th>\n",
       "      <th>Excesso Verificado</th>\n",
       "      <th>Qtd Infrações</th>\n",
       "      <th>Descrição Tipo Veículo</th>\n",
       "      <th>Descrição Modelo Veiculo</th>\n",
       "    </tr>\n",
       "  </thead>\n",
       "  <tbody>\n",
       "    <tr>\n",
       "      <th>0</th>\n",
       "      <td>2b0d033ac754fc6</td>\n",
       "      <td>2020-01-16</td>\n",
       "      <td>S</td>\n",
       "      <td>N</td>\n",
       "      <td>N</td>\n",
       "      <td>C</td>\n",
       "      <td>'-1</td>\n",
       "      <td>RS</td>\n",
       "      <td>290</td>\n",
       "      <td>111</td>\n",
       "      <td>ELDORADO DO SUL</td>\n",
       "      <td>58350</td>\n",
       "      <td>Desobedecer às ordens emanadas da autorid comp...</td>\n",
       "      <td>195</td>\n",
       "      <td>2016-11-01</td>\n",
       "      <td>nan</td>\n",
       "      <td>Nenhuma</td>\n",
       "      <td>CARGA</td>\n",
       "      <td>VW</td>\n",
       "      <td>0</td>\n",
       "      <td>0</td>\n",
       "      <td>0</td>\n",
       "      <td>1</td>\n",
       "      <td>nan</td>\n",
       "      <td>nan</td>\n",
       "    </tr>\n",
       "    <tr>\n",
       "      <th>1</th>\n",
       "      <td>e1f8917e70ebf38</td>\n",
       "      <td>2020-01-18</td>\n",
       "      <td>S</td>\n",
       "      <td>N</td>\n",
       "      <td>N</td>\n",
       "      <td>C</td>\n",
       "      <td>'-1</td>\n",
       "      <td>RS</td>\n",
       "      <td>116</td>\n",
       "      <td>327</td>\n",
       "      <td>BARRA DO RIBEIRO</td>\n",
       "      <td>58350</td>\n",
       "      <td>Desobedecer às ordens emanadas da autorid comp...</td>\n",
       "      <td>195</td>\n",
       "      <td>2016-11-01</td>\n",
       "      <td>nan</td>\n",
       "      <td>Nenhuma</td>\n",
       "      <td>CARGA</td>\n",
       "      <td>OUTRA</td>\n",
       "      <td>0</td>\n",
       "      <td>0</td>\n",
       "      <td>0</td>\n",
       "      <td>1</td>\n",
       "      <td>nan</td>\n",
       "      <td>nan</td>\n",
       "    </tr>\n",
       "    <tr>\n",
       "      <th>2</th>\n",
       "      <td>dfd71eeac1fe06b</td>\n",
       "      <td>2020-01-25</td>\n",
       "      <td>C</td>\n",
       "      <td>N</td>\n",
       "      <td>N</td>\n",
       "      <td>D</td>\n",
       "      <td>RS</td>\n",
       "      <td>RS</td>\n",
       "      <td>116</td>\n",
       "      <td>292</td>\n",
       "      <td>ELDORADO DO SUL</td>\n",
       "      <td>65992</td>\n",
       "      <td>Conduzir o veículo registrado que não esteja d...</td>\n",
       "      <td>230 * V</td>\n",
       "      <td>2016-11-01</td>\n",
       "      <td>nan</td>\n",
       "      <td>Nenhuma</td>\n",
       "      <td>PASSAGEIRO</td>\n",
       "      <td>FORD</td>\n",
       "      <td>21</td>\n",
       "      <td>0</td>\n",
       "      <td>0</td>\n",
       "      <td>1</td>\n",
       "      <td>nan</td>\n",
       "      <td>nan</td>\n",
       "    </tr>\n",
       "    <tr>\n",
       "      <th>3</th>\n",
       "      <td>558685c5e4dbcca</td>\n",
       "      <td>2020-01-30</td>\n",
       "      <td>C</td>\n",
       "      <td>N</td>\n",
       "      <td>N</td>\n",
       "      <td>C</td>\n",
       "      <td>GO</td>\n",
       "      <td>MT</td>\n",
       "      <td>364</td>\n",
       "      <td>387</td>\n",
       "      <td>CUIABA</td>\n",
       "      <td>65991</td>\n",
       "      <td>Conduzir o veículo que não esteja registrado</td>\n",
       "      <td>230 * V</td>\n",
       "      <td>2016-11-01</td>\n",
       "      <td>nan</td>\n",
       "      <td>Nenhuma</td>\n",
       "      <td>TRAÇÃO</td>\n",
       "      <td>OUTRA</td>\n",
       "      <td>14</td>\n",
       "      <td>0</td>\n",
       "      <td>0</td>\n",
       "      <td>1</td>\n",
       "      <td>nan</td>\n",
       "      <td>nan</td>\n",
       "    </tr>\n",
       "    <tr>\n",
       "      <th>4</th>\n",
       "      <td>aac0a90d941bb4e</td>\n",
       "      <td>2020-01-31</td>\n",
       "      <td>C</td>\n",
       "      <td>N</td>\n",
       "      <td>N</td>\n",
       "      <td>C</td>\n",
       "      <td>RJ</td>\n",
       "      <td>RJ</td>\n",
       "      <td>101</td>\n",
       "      <td>65</td>\n",
       "      <td>CAMPOS DOS GOITACAZES</td>\n",
       "      <td>65992</td>\n",
       "      <td>Conduzir o veículo registrado que não esteja d...</td>\n",
       "      <td>230 * V</td>\n",
       "      <td>2016-11-01</td>\n",
       "      <td>nan</td>\n",
       "      <td>Nenhuma</td>\n",
       "      <td>PASSAGEIRO</td>\n",
       "      <td>OUTRA</td>\n",
       "      <td>15</td>\n",
       "      <td>0</td>\n",
       "      <td>0</td>\n",
       "      <td>1</td>\n",
       "      <td>nan</td>\n",
       "      <td>nan</td>\n",
       "    </tr>\n",
       "    <tr>\n",
       "      <th>...</th>\n",
       "      <td>...</td>\n",
       "      <td>...</td>\n",
       "      <td>...</td>\n",
       "      <td>...</td>\n",
       "      <td>...</td>\n",
       "      <td>...</td>\n",
       "      <td>...</td>\n",
       "      <td>...</td>\n",
       "      <td>...</td>\n",
       "      <td>...</td>\n",
       "      <td>...</td>\n",
       "      <td>...</td>\n",
       "      <td>...</td>\n",
       "      <td>...</td>\n",
       "      <td>...</td>\n",
       "      <td>...</td>\n",
       "      <td>...</td>\n",
       "      <td>...</td>\n",
       "      <td>...</td>\n",
       "      <td>...</td>\n",
       "      <td>...</td>\n",
       "      <td>...</td>\n",
       "      <td>...</td>\n",
       "      <td>...</td>\n",
       "      <td>...</td>\n",
       "    </tr>\n",
       "    <tr>\n",
       "      <th>14559354</th>\n",
       "      <td>60b97427863ac79</td>\n",
       "      <td>2020-12-31</td>\n",
       "      <td>S</td>\n",
       "      <td>N</td>\n",
       "      <td>N</td>\n",
       "      <td>C</td>\n",
       "      <td>nan</td>\n",
       "      <td>SP</td>\n",
       "      <td>381</td>\n",
       "      <td>88</td>\n",
       "      <td>SAO PAULO</td>\n",
       "      <td>52070</td>\n",
       "      <td>Dirigir sem atenção ou sem os cuidados indispe...</td>\n",
       "      <td>169</td>\n",
       "      <td>2016-11-01</td>\n",
       "      <td>nan</td>\n",
       "      <td>Nenhuma</td>\n",
       "      <td>PASSAGEIRO</td>\n",
       "      <td>YAMAHA</td>\n",
       "      <td>16</td>\n",
       "      <td>0</td>\n",
       "      <td>0</td>\n",
       "      <td>1</td>\n",
       "      <td>nan</td>\n",
       "      <td>nan</td>\n",
       "    </tr>\n",
       "    <tr>\n",
       "      <th>14559355</th>\n",
       "      <td>6aaf2f7cd1925a5</td>\n",
       "      <td>2020-12-31</td>\n",
       "      <td>S</td>\n",
       "      <td>N</td>\n",
       "      <td>N</td>\n",
       "      <td>C</td>\n",
       "      <td>nan</td>\n",
       "      <td>SP</td>\n",
       "      <td>381</td>\n",
       "      <td>88</td>\n",
       "      <td>SAO PAULO</td>\n",
       "      <td>67690</td>\n",
       "      <td>Conduzir o veíc c/ com defeito no sist de ilum...</td>\n",
       "      <td>230 XXII</td>\n",
       "      <td>2016-11-01</td>\n",
       "      <td>nan</td>\n",
       "      <td>Nenhuma</td>\n",
       "      <td>PASSAGEIRO</td>\n",
       "      <td>FIAT</td>\n",
       "      <td>16</td>\n",
       "      <td>0</td>\n",
       "      <td>0</td>\n",
       "      <td>1</td>\n",
       "      <td>nan</td>\n",
       "      <td>nan</td>\n",
       "    </tr>\n",
       "    <tr>\n",
       "      <th>14559356</th>\n",
       "      <td>5f77ab593b62b93</td>\n",
       "      <td>2020-12-31</td>\n",
       "      <td>C</td>\n",
       "      <td>N</td>\n",
       "      <td>N</td>\n",
       "      <td>C</td>\n",
       "      <td>nan</td>\n",
       "      <td>MG</td>\n",
       "      <td>381</td>\n",
       "      <td>218</td>\n",
       "      <td>NAQUE</td>\n",
       "      <td>66450</td>\n",
       "      <td>Conduzir o veículo com equip obrigatório em de...</td>\n",
       "      <td>230 X</td>\n",
       "      <td>2016-11-01</td>\n",
       "      <td>nan</td>\n",
       "      <td>Nenhuma</td>\n",
       "      <td>CARGA</td>\n",
       "      <td>FORD</td>\n",
       "      <td>6</td>\n",
       "      <td>0</td>\n",
       "      <td>0</td>\n",
       "      <td>1</td>\n",
       "      <td>nan</td>\n",
       "      <td>nan</td>\n",
       "    </tr>\n",
       "    <tr>\n",
       "      <th>14559357</th>\n",
       "      <td>fe3d0ab71ecfba9</td>\n",
       "      <td>2020-12-31</td>\n",
       "      <td>C</td>\n",
       "      <td>N</td>\n",
       "      <td>N</td>\n",
       "      <td>C</td>\n",
       "      <td>nan</td>\n",
       "      <td>MG</td>\n",
       "      <td>381</td>\n",
       "      <td>218</td>\n",
       "      <td>NAQUE</td>\n",
       "      <td>66450</td>\n",
       "      <td>Conduzir o veículo com equip obrigatório em de...</td>\n",
       "      <td>230 X</td>\n",
       "      <td>2016-11-01</td>\n",
       "      <td>nan</td>\n",
       "      <td>Nenhuma</td>\n",
       "      <td>PASSAGEIRO</td>\n",
       "      <td>MERCEDES BENZ</td>\n",
       "      <td>6</td>\n",
       "      <td>0</td>\n",
       "      <td>0</td>\n",
       "      <td>1</td>\n",
       "      <td>nan</td>\n",
       "      <td>nan</td>\n",
       "    </tr>\n",
       "    <tr>\n",
       "      <th>14559358</th>\n",
       "      <td>a16f601ec68f19e</td>\n",
       "      <td>2020-12-31</td>\n",
       "      <td>C</td>\n",
       "      <td>N</td>\n",
       "      <td>N</td>\n",
       "      <td>C</td>\n",
       "      <td>nan</td>\n",
       "      <td>MG</td>\n",
       "      <td>381</td>\n",
       "      <td>218</td>\n",
       "      <td>NAQUE</td>\n",
       "      <td>66880</td>\n",
       "      <td>Conduzir veíc c/ registrador instan inalt de v...</td>\n",
       "      <td>230 XIV</td>\n",
       "      <td>2016-11-01</td>\n",
       "      <td>nan</td>\n",
       "      <td>Nenhuma</td>\n",
       "      <td>PASSAGEIRO</td>\n",
       "      <td>MERCEDES BENZ</td>\n",
       "      <td>6</td>\n",
       "      <td>0</td>\n",
       "      <td>0</td>\n",
       "      <td>1</td>\n",
       "      <td>nan</td>\n",
       "      <td>nan</td>\n",
       "    </tr>\n",
       "  </tbody>\n",
       "</table>\n",
       "<p>14559359 rows × 25 columns</p>\n",
       "</div>"
      ],
      "text/plain": [
       "           Número do Auto Data da Infração (DD/MM/AAAA)  \\\n",
       "0         2b0d033ac754fc6                    2020-01-16   \n",
       "1         e1f8917e70ebf38                    2020-01-18   \n",
       "2         dfd71eeac1fe06b                    2020-01-25   \n",
       "3         558685c5e4dbcca                    2020-01-30   \n",
       "4         aac0a90d941bb4e                    2020-01-31   \n",
       "...                   ...                           ...   \n",
       "14559354  60b97427863ac79                    2020-12-31   \n",
       "14559355  6aaf2f7cd1925a5                    2020-12-31   \n",
       "14559356  5f77ab593b62b93                    2020-12-31   \n",
       "14559357  fe3d0ab71ecfba9                    2020-12-31   \n",
       "14559358  a16f601ec68f19e                    2020-12-31   \n",
       "\n",
       "         Indicador de Abordagem Assinatura do Auto  \\\n",
       "0                             S                  N   \n",
       "1                             S                  N   \n",
       "2                             C                  N   \n",
       "3                             C                  N   \n",
       "4                             C                  N   \n",
       "...                         ...                ...   \n",
       "14559354                      S                  N   \n",
       "14559355                      S                  N   \n",
       "14559356                      C                  N   \n",
       "14559357                      C                  N   \n",
       "14559358                      C                  N   \n",
       "\n",
       "         Indicador Veiculo Estrangeiro Sentido Trafego UF Placa UF Infração  \\\n",
       "0                                    N               C      '-1          RS   \n",
       "1                                    N               C      '-1          RS   \n",
       "2                                    N               D       RS          RS   \n",
       "3                                    N               C       GO          MT   \n",
       "4                                    N               C       RJ          RJ   \n",
       "...                                ...             ...      ...         ...   \n",
       "14559354                             N               C      nan          SP   \n",
       "14559355                             N               C      nan          SP   \n",
       "14559356                             N               C      nan          MG   \n",
       "14559357                             N               C      nan          MG   \n",
       "14559358                             N               C      nan          MG   \n",
       "\n",
       "         BR Infração Km Infração              Município Código da Infração  \\\n",
       "0                290         111        ELDORADO DO SUL              58350   \n",
       "1                116         327       BARRA DO RIBEIRO              58350   \n",
       "2                116         292        ELDORADO DO SUL              65992   \n",
       "3                364         387                 CUIABA              65991   \n",
       "4                101          65  CAMPOS DOS GOITACAZES              65992   \n",
       "...              ...         ...                    ...                ...   \n",
       "14559354         381          88              SAO PAULO              52070   \n",
       "14559355         381          88              SAO PAULO              67690   \n",
       "14559356         381         218                  NAQUE              66450   \n",
       "14559357         381         218                  NAQUE              66450   \n",
       "14559358         381         218                  NAQUE              66880   \n",
       "\n",
       "                               Descrição Abreviada Infração  \\\n",
       "0         Desobedecer às ordens emanadas da autorid comp...   \n",
       "1         Desobedecer às ordens emanadas da autorid comp...   \n",
       "2         Conduzir o veículo registrado que não esteja d...   \n",
       "3              Conduzir o veículo que não esteja registrado   \n",
       "4         Conduzir o veículo registrado que não esteja d...   \n",
       "...                                                     ...   \n",
       "14559354  Dirigir sem atenção ou sem os cuidados indispe...   \n",
       "14559355  Conduzir o veíc c/ com defeito no sist de ilum...   \n",
       "14559356  Conduzir o veículo com equip obrigatório em de...   \n",
       "14559357  Conduzir o veículo com equip obrigatório em de...   \n",
       "14559358  Conduzir veíc c/ registrador instan inalt de v...   \n",
       "\n",
       "         Enquadramento da Infração Início Vigência da Infração  \\\n",
       "0                              195                  2016-11-01   \n",
       "1                              195                  2016-11-01   \n",
       "2                          230 * V                  2016-11-01   \n",
       "3                          230 * V                  2016-11-01   \n",
       "4                          230 * V                  2016-11-01   \n",
       "...                            ...                         ...   \n",
       "14559354                       169                  2016-11-01   \n",
       "14559355                  230 XXII                  2016-11-01   \n",
       "14559356                     230 X                  2016-11-01   \n",
       "14559357                     230 X                  2016-11-01   \n",
       "14559358                   230 XIV                  2016-11-01   \n",
       "\n",
       "         Fim Vigência Infração Medição Infração Descrição Especie Veículo  \\\n",
       "0                          nan          Nenhuma                     CARGA   \n",
       "1                          nan          Nenhuma                     CARGA   \n",
       "2                          nan          Nenhuma                PASSAGEIRO   \n",
       "3                          nan          Nenhuma                    TRAÇÃO   \n",
       "4                          nan          Nenhuma                PASSAGEIRO   \n",
       "...                        ...              ...                       ...   \n",
       "14559354                   nan          Nenhuma                PASSAGEIRO   \n",
       "14559355                   nan          Nenhuma                PASSAGEIRO   \n",
       "14559356                   nan          Nenhuma                     CARGA   \n",
       "14559357                   nan          Nenhuma                PASSAGEIRO   \n",
       "14559358                   nan          Nenhuma                PASSAGEIRO   \n",
       "\n",
       "         Descrição Marca Veículo Hora Infração Medição Considerada  \\\n",
       "0                             VW             0                   0   \n",
       "1                          OUTRA             0                   0   \n",
       "2                           FORD            21                   0   \n",
       "3                          OUTRA            14                   0   \n",
       "4                          OUTRA            15                   0   \n",
       "...                          ...           ...                 ...   \n",
       "14559354                  YAMAHA            16                   0   \n",
       "14559355                    FIAT            16                   0   \n",
       "14559356                    FORD             6                   0   \n",
       "14559357           MERCEDES BENZ             6                   0   \n",
       "14559358           MERCEDES BENZ             6                   0   \n",
       "\n",
       "         Excesso Verificado Qtd Infrações Descrição Tipo Veículo  \\\n",
       "0                         0             1                    nan   \n",
       "1                         0             1                    nan   \n",
       "2                         0             1                    nan   \n",
       "3                         0             1                    nan   \n",
       "4                         0             1                    nan   \n",
       "...                     ...           ...                    ...   \n",
       "14559354                  0             1                    nan   \n",
       "14559355                  0             1                    nan   \n",
       "14559356                  0             1                    nan   \n",
       "14559357                  0             1                    nan   \n",
       "14559358                  0             1                    nan   \n",
       "\n",
       "         Descrição Modelo Veiculo  \n",
       "0                             nan  \n",
       "1                             nan  \n",
       "2                             nan  \n",
       "3                             nan  \n",
       "4                             nan  \n",
       "...                           ...  \n",
       "14559354                      nan  \n",
       "14559355                      nan  \n",
       "14559356                      nan  \n",
       "14559357                      nan  \n",
       "14559358                      nan  \n",
       "\n",
       "[14559359 rows x 25 columns]"
      ]
     },
     "metadata": {},
     "output_type": "display_data"
    }
   ],
   "source": [
    "# Visualizar a base que importamos\n",
    "display(df)"
   ]
  },
  {
   "cell_type": "code",
   "execution_count": 5,
   "metadata": {},
   "outputs": [
    {
     "data": {
      "text/plain": [
       "Index(['Número do Auto', 'Data da Infração (DD/MM/AAAA)',\n",
       "       'Indicador de Abordagem', 'Assinatura do Auto',\n",
       "       'Indicador Veiculo Estrangeiro', 'Sentido Trafego', 'UF Placa',\n",
       "       'UF Infração', 'BR Infração', 'Km Infração', 'Município',\n",
       "       'Código da Infração', 'Descrição Abreviada Infração',\n",
       "       'Enquadramento da Infração', 'Início Vigência da Infração',\n",
       "       'Fim Vigência Infração', 'Medição Infração',\n",
       "       'Descrição Especie Veículo', 'Descrição Marca Veículo', 'Hora Infração',\n",
       "       'Medição Considerada', 'Excesso Verificado', 'Qtd Infrações',\n",
       "       'Descrição Tipo Veículo', 'Descrição Modelo Veiculo'],\n",
       "      dtype='object')"
      ]
     },
     "execution_count": 5,
     "metadata": {},
     "output_type": "execute_result"
    }
   ],
   "source": [
    "# Exibe colunas disponíveis\n",
    "df.columns"
   ]
  },
  {
   "cell_type": "code",
   "execution_count": 6,
   "metadata": {},
   "outputs": [
    {
     "name": "stdout",
     "output_type": "stream",
     "text": [
      "<class 'pandas.core.frame.DataFrame'>\n",
      "RangeIndex: 14559359 entries, 0 to 14559358\n",
      "Data columns (total 25 columns):\n",
      " #   Column                         Dtype \n",
      "---  ------                         ----- \n",
      " 0   Número do Auto                 object\n",
      " 1   Data da Infração (DD/MM/AAAA)  object\n",
      " 2   Indicador de Abordagem         object\n",
      " 3   Assinatura do Auto             object\n",
      " 4   Indicador Veiculo Estrangeiro  object\n",
      " 5   Sentido Trafego                object\n",
      " 6   UF Placa                       object\n",
      " 7   UF Infração                    object\n",
      " 8   BR Infração                    object\n",
      " 9   Km Infração                    object\n",
      " 10  Município                      object\n",
      " 11  Código da Infração             object\n",
      " 12  Descrição Abreviada Infração   object\n",
      " 13  Enquadramento da Infração      object\n",
      " 14  Início Vigência da Infração    object\n",
      " 15  Fim Vigência Infração          object\n",
      " 16  Medição Infração               object\n",
      " 17  Descrição Especie Veículo      object\n",
      " 18  Descrição Marca Veículo        object\n",
      " 19  Hora Infração                  object\n",
      " 20  Medição Considerada            object\n",
      " 21  Excesso Verificado             object\n",
      " 22  Qtd Infrações                  object\n",
      " 23  Descrição Tipo Veículo         object\n",
      " 24  Descrição Modelo Veiculo       object\n",
      "dtypes: object(25)\n",
      "memory usage: 2.7+ GB\n"
     ]
    }
   ],
   "source": [
    "# Verifica tipo de dados\n",
    "df.info()"
   ]
  },
  {
   "cell_type": "code",
   "execution_count": 7,
   "metadata": {},
   "outputs": [
    {
     "data": {
      "text/plain": [
       "Número do Auto                   0\n",
       "Data da Infração (DD/MM/AAAA)    0\n",
       "Indicador de Abordagem           0\n",
       "Assinatura do Auto               0\n",
       "Indicador Veiculo Estrangeiro    0\n",
       "Sentido Trafego                  0\n",
       "UF Placa                         0\n",
       "UF Infração                      0\n",
       "BR Infração                      0\n",
       "Km Infração                      0\n",
       "Município                        0\n",
       "Código da Infração               0\n",
       "Descrição Abreviada Infração     0\n",
       "Enquadramento da Infração        0\n",
       "Início Vigência da Infração      0\n",
       "Fim Vigência Infração            0\n",
       "Medição Infração                 0\n",
       "Descrição Especie Veículo        0\n",
       "Descrição Marca Veículo          0\n",
       "Hora Infração                    0\n",
       "Medição Considerada              0\n",
       "Excesso Verificado               0\n",
       "Qtd Infrações                    0\n",
       "Descrição Tipo Veículo           0\n",
       "Descrição Modelo Veiculo         0\n",
       "dtype: int64"
      ]
     },
     "execution_count": 7,
     "metadata": {},
     "output_type": "execute_result"
    }
   ],
   "source": [
    "# Verifica a existência de valores nulos\n",
    "df.isnull().sum()"
   ]
  },
  {
   "cell_type": "code",
   "execution_count": 8,
   "metadata": {},
   "outputs": [
    {
     "data": {
      "text/plain": [
       "Número do Auto                   14559326\n",
       "Data da Infração (DD/MM/AAAA)        1096\n",
       "Indicador de Abordagem                  2\n",
       "Assinatura do Auto                      2\n",
       "Indicador Veiculo Estrangeiro           4\n",
       "Sentido Trafego                         3\n",
       "UF Placa                               91\n",
       "UF Infração                            27\n",
       "BR Infração                           132\n",
       "Km Infração                          1261\n",
       "Município                            2355\n",
       "Código da Infração                    389\n",
       "Descrição Abreviada Infração          398\n",
       "Enquadramento da Infração             246\n",
       "Início Vigência da Infração             9\n",
       "Fim Vigência Infração                   2\n",
       "Medição Infração                        5\n",
       "Descrição Especie Veículo              14\n",
       "Descrição Marca Veículo             20570\n",
       "Hora Infração                          24\n",
       "Medição Considerada                 21401\n",
       "Excesso Verificado                  13985\n",
       "Qtd Infrações                           2\n",
       "Descrição Tipo Veículo                 24\n",
       "Descrição Modelo Veiculo            25720\n",
       "dtype: int64"
      ]
     },
     "execution_count": 8,
     "metadata": {},
     "output_type": "execute_result"
    }
   ],
   "source": [
    "# Verifica a quantidade de valores únicos\n",
    "df.nunique()"
   ]
  },
  {
   "cell_type": "markdown",
   "metadata": {},
   "source": [
    "**Observações iniciais:**\n",
    "\n",
    "• Observamos aqui que a base possui 25 colunas e 14.559.359 linhas (que também representa a quantidade de infrações nesses três anos de análise).\n",
    "\n",
    "• Ainda, vemos que todas as colunas estão definidas como \"object\", requerendo conversão de tipos.\n",
    "\n",
    "• Sobre os valores nulos, observamos que todos estão com zero, mas isso provavelmente é uma interpretação incorreta, já que a base parece considerar o valor \"nan\" como string. Portanto, é importante tratar esses valores adequadamente, convertendo-os para o formato nulo (NaN) reconhecido pelo pandas.\n",
    "\n",
    "• Também interessante de notar é que a coluna \"Número do Auto\", que representa uma espécie de identificador da infração, tem menos valores únicos que o total de linha. Isso sugere a possibilidade de existirem duplicatas ou repetições na coluna. É essencial investigar e tratar esses casos para garantir a integridade dos dados e a precisão das análises realizadas.\n"
   ]
  },
  {
   "cell_type": "markdown",
   "metadata": {},
   "source": [
    "## Tratamento da base"
   ]
  },
  {
   "cell_type": "code",
   "execution_count": 9,
   "metadata": {},
   "outputs": [],
   "source": [
    "# Converte \"nan\" que está como string, para valor nulo\n",
    "df = df.replace('nan', np.nan)"
   ]
  },
  {
   "cell_type": "code",
   "execution_count": 10,
   "metadata": {},
   "outputs": [
    {
     "data": {
      "text/plain": [
       "Número do Auto                          0\n",
       "Data da Infração (DD/MM/AAAA)           0\n",
       "Indicador de Abordagem                  0\n",
       "Assinatura do Auto                      0\n",
       "Indicador Veiculo Estrangeiro         744\n",
       "Sentido Trafego                         0\n",
       "UF Placa                          9940077\n",
       "UF Infração                             0\n",
       "BR Infração                             0\n",
       "Km Infração                             0\n",
       "Município                               0\n",
       "Código da Infração                      0\n",
       "Descrição Abreviada Infração            0\n",
       "Enquadramento da Infração               0\n",
       "Início Vigência da Infração             0\n",
       "Fim Vigência Infração            14559358\n",
       "Medição Infração                        0\n",
       "Descrição Especie Veículo             794\n",
       "Descrição Marca Veículo              1792\n",
       "Hora Infração                           0\n",
       "Medição Considerada                     0\n",
       "Excesso Verificado                      0\n",
       "Qtd Infrações                           0\n",
       "Descrição Tipo Veículo           10434367\n",
       "Descrição Modelo Veiculo         10423836\n",
       "dtype: int64"
      ]
     },
     "execution_count": 10,
     "metadata": {},
     "output_type": "execute_result"
    }
   ],
   "source": [
    "# Verifica novamente a existência de valores nulos\n",
    "df.isnull().sum()"
   ]
  },
  {
   "cell_type": "code",
   "execution_count": 11,
   "metadata": {},
   "outputs": [],
   "source": [
    "# Excluir colunas com valores nulos: Indicador Veiculo Estrangeiro, UF Placa, Fim Vigência Infração, Descrição Especie Veículo, Descrição Marca Veículo, Descrição Tipo Veículo, Descrição Modelo Veiculo\n",
    "df = df.dropna(axis='columns')"
   ]
  },
  {
   "cell_type": "code",
   "execution_count": 12,
   "metadata": {},
   "outputs": [],
   "source": [
    "# Converte data para datetime\n",
    "df['Data da Infração (DD/MM/AAAA)'] = pd.to_datetime( df['Data da Infração (DD/MM/AAAA)'])"
   ]
  },
  {
   "cell_type": "code",
   "execution_count": 13,
   "metadata": {},
   "outputs": [
    {
     "name": "stdout",
     "output_type": "stream",
     "text": [
      "Data inicial: 2020-01-01\n",
      "Data final: 2022-12-31\n"
     ]
    }
   ],
   "source": [
    "# Verificar período da base\n",
    "inicio = df['Data da Infração (DD/MM/AAAA)'].dt.date.min()\n",
    "print(f'Data inicial: {inicio}')\n",
    "\n",
    "fim = df['Data da Infração (DD/MM/AAAA)'].dt.date.max()\n",
    "print(f'Data final: {fim}')"
   ]
  },
  {
   "cell_type": "code",
   "execution_count": 14,
   "metadata": {},
   "outputs": [],
   "source": [
    "# Converte a coluna 'Hora Infação' para int\n",
    "df['Hora Infração'] = df['Hora Infração'].astype(int)\n",
    "\n",
    "# Define intervalos e rótulos\n",
    "bins = [0, 6, 12, 18, 24.01]\n",
    "labels = ['Entre 0 e 6 horas', 'Entre 6 e 12 horas', 'Entre 12 e 18 horas', 'Entre 18 e 24 horas']\n",
    "\n",
    "# Cria categorização da coluna 'Hora Infração', que será utilizada posteriormente em análise\n",
    "df['Hora Infração Categorizada'] = pd.cut(df['Hora Infração'], bins = bins, labels = labels, right = False)"
   ]
  },
  {
   "cell_type": "code",
   "execution_count": 15,
   "metadata": {},
   "outputs": [],
   "source": [
    "# Extraindo mês e dia das datas\n",
    "df['mes'] = pd.to_datetime( df['Data da Infração (DD/MM/AAAA)'] ).dt.month\n",
    "df['ano'] = pd.to_datetime( df['Data da Infração (DD/MM/AAAA)'] ).dt.year\n"
   ]
  },
  {
   "cell_type": "markdown",
   "metadata": {},
   "source": [
    "**Tratamentos iniciais realizados:**\n",
    "\n",
    "• Exclusão de colunas com valores nulos: Foi realizada a exclusão das colunas que continham valores nulos, uma vez que esses valores podem levar a interpretações errôneas e não seriam necessárias para a análise inicial do conjunto de dados.\n",
    "\n",
    "• Conversão da data para o formato datetime: A coluna contendo as datas das infrações foi convertida para o formato datetime, visando facilitar sua manipulação e possibilitar a extração de informações específicas, como o mês e o ano.\n",
    "\n",
    "• Criação da coluna \"Hora Infração Categorizada\": Com base na coluna que armazena o horário das infrações, foi criada uma nova coluna denominada \"Hora Infração Categorizada\". Essa coluna agrupa os horários em intervalos específicos, permitindo uma análise mais simplificada dos dados relacionados aos diferentes períodos do dia.\n",
    "\n",
    "• Criação das colunas \"mês\" e \"ano\": Com o intuito de possibilitar análises temporais mais detalhadas, foram criadas duas novas colunas, \"mês\" e \"ano\", que extraem as informações de mês e ano a partir da coluna de data das infrações. Essas colunas facilitam a realização de agrupamentos e comparações ao longo do tempo.\n"
   ]
  },
  {
   "cell_type": "markdown",
   "metadata": {},
   "source": [
    "## Análises"
   ]
  },
  {
   "cell_type": "markdown",
   "metadata": {},
   "source": [
    "#### Como as infrações variam por ano?"
   ]
  },
  {
   "cell_type": "code",
   "execution_count": 16,
   "metadata": {},
   "outputs": [
    {
     "data": {
      "text/html": [
       "<div>\n",
       "<style scoped>\n",
       "    .dataframe tbody tr th:only-of-type {\n",
       "        vertical-align: middle;\n",
       "    }\n",
       "\n",
       "    .dataframe tbody tr th {\n",
       "        vertical-align: top;\n",
       "    }\n",
       "\n",
       "    .dataframe thead th {\n",
       "        text-align: right;\n",
       "    }\n",
       "</style>\n",
       "<table border=\"1\" class=\"dataframe\">\n",
       "  <thead>\n",
       "    <tr style=\"text-align: right;\">\n",
       "      <th></th>\n",
       "      <th>ano</th>\n",
       "      <th>Conta_Autos</th>\n",
       "      <th>Variação Percentual</th>\n",
       "    </tr>\n",
       "  </thead>\n",
       "  <tbody>\n",
       "    <tr>\n",
       "      <th>0</th>\n",
       "      <td>2020</td>\n",
       "      <td>5182537</td>\n",
       "      <td>NaN</td>\n",
       "    </tr>\n",
       "    <tr>\n",
       "      <th>1</th>\n",
       "      <td>2021</td>\n",
       "      <td>5241299</td>\n",
       "      <td>1.13</td>\n",
       "    </tr>\n",
       "    <tr>\n",
       "      <th>2</th>\n",
       "      <td>2022</td>\n",
       "      <td>4135523</td>\n",
       "      <td>-21.10</td>\n",
       "    </tr>\n",
       "  </tbody>\n",
       "</table>\n",
       "</div>"
      ],
      "text/plain": [
       "    ano  Conta_Autos  Variação Percentual\n",
       "0  2020      5182537                  NaN\n",
       "1  2021      5241299                 1.13\n",
       "2  2022      4135523               -21.10"
      ]
     },
     "metadata": {},
     "output_type": "display_data"
    }
   ],
   "source": [
    "df_ano = df.groupby('ano').agg(Conta_Autos = ('Número do Auto', 'count')).reset_index()\n",
    "df_ano['Variação Percentual'] = df_ano['Conta_Autos'].pct_change() * 100\n",
    "df_ano['Variação Percentual'] = df_ano['Variação Percentual'].round(2)\n",
    "\n",
    "display(df_ano)"
   ]
  },
  {
   "cell_type": "code",
   "execution_count": 29,
   "metadata": {},
   "outputs": [
    {
     "data": {
      "image/png": "[encoded data removed]"
     },
     "metadata": {},
     "output_type": "display_data"
    }
   ],
   "source": [
    "# Gráfico de barras do df_ano\n",
    "\n",
    "plot_ano = px.bar(\n",
    "    df_ano,\n",
    "    x = 'ano',\n",
    "    y = 'Conta_Autos',\n",
    "    title = 'Contagem de Autos por Ano'\n",
    ")\n",
    "\n",
    "plot_ano.update_layout(xaxis = {'dtick' : 1})\n",
    "\n",
    "plot_ano.show('png')"
   ]
  },
  {
   "cell_type": "markdown",
   "metadata": {},
   "source": [
    "#### Como as infrações variam por mês?"
   ]
  },
  {
   "cell_type": "code",
   "execution_count": 23,
   "metadata": {},
   "outputs": [
    {
     "data": {
      "text/html": [
       "<div>\n",
       "<style scoped>\n",
       "    .dataframe tbody tr th:only-of-type {\n",
       "        vertical-align: middle;\n",
       "    }\n",
       "\n",
       "    .dataframe tbody tr th {\n",
       "        vertical-align: top;\n",
       "    }\n",
       "\n",
       "    .dataframe thead th {\n",
       "        text-align: right;\n",
       "    }\n",
       "</style>\n",
       "<table border=\"1\" class=\"dataframe\">\n",
       "  <thead>\n",
       "    <tr style=\"text-align: right;\">\n",
       "      <th></th>\n",
       "      <th>mes</th>\n",
       "      <th>Conta_Autos</th>\n",
       "    </tr>\n",
       "  </thead>\n",
       "  <tbody>\n",
       "    <tr>\n",
       "      <th>1</th>\n",
       "      <td>2</td>\n",
       "      <td>1327215</td>\n",
       "    </tr>\n",
       "    <tr>\n",
       "      <th>9</th>\n",
       "      <td>10</td>\n",
       "      <td>1303301</td>\n",
       "    </tr>\n",
       "    <tr>\n",
       "      <th>11</th>\n",
       "      <td>12</td>\n",
       "      <td>1275938</td>\n",
       "    </tr>\n",
       "    <tr>\n",
       "      <th>0</th>\n",
       "      <td>1</td>\n",
       "      <td>1263155</td>\n",
       "    </tr>\n",
       "    <tr>\n",
       "      <th>7</th>\n",
       "      <td>8</td>\n",
       "      <td>1257932</td>\n",
       "    </tr>\n",
       "    <tr>\n",
       "      <th>8</th>\n",
       "      <td>9</td>\n",
       "      <td>1257497</td>\n",
       "    </tr>\n",
       "    <tr>\n",
       "      <th>6</th>\n",
       "      <td>7</td>\n",
       "      <td>1180487</td>\n",
       "    </tr>\n",
       "    <tr>\n",
       "      <th>5</th>\n",
       "      <td>6</td>\n",
       "      <td>1178581</td>\n",
       "    </tr>\n",
       "    <tr>\n",
       "      <th>2</th>\n",
       "      <td>3</td>\n",
       "      <td>1170239</td>\n",
       "    </tr>\n",
       "    <tr>\n",
       "      <th>4</th>\n",
       "      <td>5</td>\n",
       "      <td>1161589</td>\n",
       "    </tr>\n",
       "    <tr>\n",
       "      <th>10</th>\n",
       "      <td>11</td>\n",
       "      <td>1098311</td>\n",
       "    </tr>\n",
       "    <tr>\n",
       "      <th>3</th>\n",
       "      <td>4</td>\n",
       "      <td>1085114</td>\n",
       "    </tr>\n",
       "  </tbody>\n",
       "</table>\n",
       "</div>"
      ],
      "text/plain": [
       "    mes  Conta_Autos\n",
       "1     2      1327215\n",
       "9    10      1303301\n",
       "11   12      1275938\n",
       "0     1      1263155\n",
       "7     8      1257932\n",
       "8     9      1257497\n",
       "6     7      1180487\n",
       "5     6      1178581\n",
       "2     3      1170239\n",
       "4     5      1161589\n",
       "10   11      1098311\n",
       "3     4      1085114"
      ]
     },
     "metadata": {},
     "output_type": "display_data"
    }
   ],
   "source": [
    "df_mes = df.groupby('mes').agg(Conta_Autos = ('Número do Auto', 'count')).reset_index()\n",
    "df_mes = df_mes.sort_values('Conta_Autos', ascending = False)\n",
    "\n",
    "display(df_mes)"
   ]
  },
  {
   "cell_type": "code",
   "execution_count": 24,
   "metadata": {},
   "outputs": [
    {
     "data": {
      "application/vnd.plotly.v1+json": {
       "config": {
        "plotlyServerURL": "https://plot.ly"
       },
       "data": [
        {
         "alignmentgroup": "True",
         "hovertemplate": "mes=%{x}<br>Conta_Autos=%{y}<extra></extra>",
         "legendgroup": "",
         "marker": {
          "color": "#636efa",
          "pattern": {
           "shape": ""
          }
         },
         "name": "",
         "offsetgroup": "",
         "orientation": "v",
         "showlegend": false,
         "textposition": "auto",
         "type": "bar",
         "x": [
          2,
          10,
          12,
          1,
          8,
          9,
          7,
          6,
          3,
          5,
          11,
          4
         ],
         "xaxis": "x",
         "y": [
          1327215,
          1303301,
          1275938,
          1263155,
          1257932,
          1257497,
          1180487,
          1178581,
          1170239,
          1161589,
          1098311,
          1085114
         ],
         "yaxis": "y"
        }
       ],
       "layout": {
        "barmode": "relative",
        "legend": {
         "tracegroupgap": 0
        },
        "template": {
         "data": {
          "bar": [
           {
            "error_x": {
             "color": "#2a3f5f"
            },
            "error_y": {
             "color": "#2a3f5f"
            },
            "marker": {
             "line": {
              "color": "#E5ECF6",
              "width": 0.5
             },
             "pattern": {
              "fillmode": "overlay",
              "size": 10,
              "solidity": 0.2
             }
            },
            "type": "bar"
           }
          ],
          "barpolar": [
           {
            "marker": {
             "line": {
              "color": "#E5ECF6",
              "width": 0.5
             },
             "pattern": {
              "fillmode": "overlay",
              "size": 10,
              "solidity": 0.2
             }
            },
            "type": "barpolar"
           }
          ],
          "carpet": [
           {
            "aaxis": {
             "endlinecolor": "#2a3f5f",
             "gridcolor": "white",
             "linecolor": "white",
             "minorgridcolor": "white",
             "startlinecolor": "#2a3f5f"
            },
            "baxis": {
             "endlinecolor": "#2a3f5f",
             "gridcolor": "white",
             "linecolor": "white",
             "minorgridcolor": "white",
             "startlinecolor": "#2a3f5f"
            },
            "type": "carpet"
           }
          ],
          "choropleth": [
           {
            "colorbar": {
             "outlinewidth": 0,
             "ticks": ""
            },
            "type": "choropleth"
           }
          ],
          "contour": [
           {
            "colorbar": {
             "outlinewidth": 0,
             "ticks": ""
            },
            "colorscale": [
             [
              0,
              "#0d0887"
             ],
             [
              0.1111111111111111,
              "#46039f"
             ],
             [
              0.2222222222222222,
              "#7201a8"
             ],
             [
              0.3333333333333333,
              "#9c179e"
             ],
             [
              0.4444444444444444,
              "#bd3786"
             ],
             [
              0.5555555555555556,
              "#d8576b"
             ],
             [
              0.6666666666666666,
              "#ed7953"
             ],
             [
              0.7777777777777778,
              "#fb9f3a"
             ],
             [
              0.8888888888888888,
              "#fdca26"
             ],
             [
              1,
              "#f0f921"
             ]
            ],
            "type": "contour"
           }
          ],
          "contourcarpet": [
           {
            "colorbar": {
             "outlinewidth": 0,
             "ticks": ""
            },
            "type": "contourcarpet"
           }
          ],
          "heatmap": [
           {
            "colorbar": {
             "outlinewidth": 0,
             "ticks": ""
            },
            "colorscale": [
             [
              0,
              "#0d0887"
             ],
             [
              0.1111111111111111,
              "#46039f"
             ],
             [
              0.2222222222222222,
              "#7201a8"
             ],
             [
              0.3333333333333333,
              "#9c179e"
             ],
             [
              0.4444444444444444,
              "#bd3786"
             ],
             [
              0.5555555555555556,
              "#d8576b"
             ],
             [
              0.6666666666666666,
              "#ed7953"
             ],
             [
              0.7777777777777778,
              "#fb9f3a"
             ],
             [
              0.8888888888888888,
              "#fdca26"
             ],
             [
              1,
              "#f0f921"
             ]
            ],
            "type": "heatmap"
           }
          ],
          "heatmapgl": [
           {
            "colorbar": {
             "outlinewidth": 0,
             "ticks": ""
            },
            "colorscale": [
             [
              0,
              "#0d0887"
             ],
             [
              0.1111111111111111,
              "#46039f"
             ],
             [
              0.2222222222222222,
              "#7201a8"
             ],
             [
              0.3333333333333333,
              "#9c179e"
             ],
             [
              0.4444444444444444,
              "#bd3786"
             ],
             [
              0.5555555555555556,
              "#d8576b"
             ],
             [
              0.6666666666666666,
              "#ed7953"
             ],
             [
              0.7777777777777778,
              "#fb9f3a"
             ],
             [
              0.8888888888888888,
              "#fdca26"
             ],
             [
              1,
              "#f0f921"
             ]
            ],
            "type": "heatmapgl"
           }
          ],
          "histogram": [
           {
            "marker": {
             "pattern": {
              "fillmode": "overlay",
              "size": 10,
              "solidity": 0.2
             }
            },
            "type": "histogram"
           }
          ],
          "histogram2d": [
           {
            "colorbar": {
             "outlinewidth": 0,
             "ticks": ""
            },
            "colorscale": [
             [
              0,
              "#0d0887"
             ],
             [
              0.1111111111111111,
              "#46039f"
             ],
             [
              0.2222222222222222,
              "#7201a8"
             ],
             [
              0.3333333333333333,
              "#9c179e"
             ],
             [
              0.4444444444444444,
              "#bd3786"
             ],
             [
              0.5555555555555556,
              "#d8576b"
             ],
             [
              0.6666666666666666,
              "#ed7953"
             ],
             [
              0.7777777777777778,
              "#fb9f3a"
             ],
             [
              0.8888888888888888,
              "#fdca26"
             ],
             [
              1,
              "#f0f921"
             ]
            ],
            "type": "histogram2d"
           }
          ],
          "histogram2dcontour": [
           {
            "colorbar": {
             "outlinewidth": 0,
             "ticks": ""
            },
            "colorscale": [
             [
              0,
              "#0d0887"
             ],
             [
              0.1111111111111111,
              "#46039f"
             ],
             [
              0.2222222222222222,
              "#7201a8"
             ],
             [
              0.3333333333333333,
              "#9c179e"
             ],
             [
              0.4444444444444444,
              "#bd3786"
             ],
             [
              0.5555555555555556,
              "#d8576b"
             ],
             [
              0.6666666666666666,
              "#ed7953"
             ],
             [
              0.7777777777777778,
              "#fb9f3a"
             ],
             [
              0.8888888888888888,
              "#fdca26"
             ],
             [
              1,
              "#f0f921"
             ]
            ],
            "type": "histogram2dcontour"
           }
          ],
          "mesh3d": [
           {
            "colorbar": {
             "outlinewidth": 0,
             "ticks": ""
            },
            "type": "mesh3d"
           }
          ],
          "parcoords": [
           {
            "line": {
             "colorbar": {
              "outlinewidth": 0,
              "ticks": ""
             }
            },
            "type": "parcoords"
           }
          ],
          "pie": [
           {
            "automargin": true,
            "type": "pie"
           }
          ],
          "scatter": [
           {
            "marker": {
             "colorbar": {
              "outlinewidth": 0,
              "ticks": ""
             }
            },
            "type": "scatter"
           }
          ],
          "scatter3d": [
           {
            "line": {
             "colorbar": {
              "outlinewidth": 0,
              "ticks": ""
             }
            },
            "marker": {
             "colorbar": {
              "outlinewidth": 0,
              "ticks": ""
             }
            },
            "type": "scatter3d"
           }
          ],
          "scattercarpet": [
           {
            "marker": {
             "colorbar": {
              "outlinewidth": 0,
              "ticks": ""
             }
            },
            "type": "scattercarpet"
           }
          ],
          "scattergeo": [
           {
            "marker": {
             "colorbar": {
              "outlinewidth": 0,
              "ticks": ""
             }
            },
            "type": "scattergeo"
           }
          ],
          "scattergl": [
           {
            "marker": {
             "colorbar": {
              "outlinewidth": 0,
              "ticks": ""
             }
            },
            "type": "scattergl"
           }
          ],
          "scattermapbox": [
           {
            "marker": {
             "colorbar": {
              "outlinewidth": 0,
              "ticks": ""
             }
            },
            "type": "scattermapbox"
           }
          ],
          "scatterpolar": [
           {
            "marker": {
             "colorbar": {
              "outlinewidth": 0,
              "ticks": ""
             }
            },
            "type": "scatterpolar"
           }
          ],
          "scatterpolargl": [
           {
            "marker": {
             "colorbar": {
              "outlinewidth": 0,
              "ticks": ""
             }
            },
            "type": "scatterpolargl"
           }
          ],
          "scatterternary": [
           {
            "marker": {
             "colorbar": {
              "outlinewidth": 0,
              "ticks": ""
             }
            },
            "type": "scatterternary"
           }
          ],
          "surface": [
           {
            "colorbar": {
             "outlinewidth": 0,
             "ticks": ""
            },
            "colorscale": [
             [
              0,
              "#0d0887"
             ],
             [
              0.1111111111111111,
              "#46039f"
             ],
             [
              0.2222222222222222,
              "#7201a8"
             ],
             [
              0.3333333333333333,
              "#9c179e"
             ],
             [
              0.4444444444444444,
              "#bd3786"
             ],
             [
              0.5555555555555556,
              "#d8576b"
             ],
             [
              0.6666666666666666,
              "#ed7953"
             ],
             [
              0.7777777777777778,
              "#fb9f3a"
             ],
             [
              0.8888888888888888,
              "#fdca26"
             ],
             [
              1,
              "#f0f921"
             ]
            ],
            "type": "surface"
           }
          ],
          "table": [
           {
            "cells": {
             "fill": {
              "color": "#EBF0F8"
             },
             "line": {
              "color": "white"
             }
            },
            "header": {
             "fill": {
              "color": "#C8D4E3"
             },
             "line": {
              "color": "white"
             }
            },
            "type": "table"
           }
          ]
         },
         "layout": {
          "annotationdefaults": {
           "arrowcolor": "#2a3f5f",
           "arrowhead": 0,
           "arrowwidth": 1
          },
          "autotypenumbers": "strict",
          "coloraxis": {
           "colorbar": {
            "outlinewidth": 0,
            "ticks": ""
           }
          },
          "colorscale": {
           "diverging": [
            [
             0,
             "#8e0152"
            ],
            [
             0.1,
             "#c51b7d"
            ],
            [
             0.2,
             "#de77ae"
            ],
            [
             0.3,
             "#f1b6da"
            ],
            [
             0.4,
             "#fde0ef"
            ],
            [
             0.5,
             "#f7f7f7"
            ],
            [
             0.6,
             "#e6f5d0"
            ],
            [
             0.7,
             "#b8e186"
            ],
            [
             0.8,
             "#7fbc41"
            ],
            [
             0.9,
             "#4d9221"
            ],
            [
             1,
             "#276419"
            ]
           ],
           "sequential": [
            [
             0,
             "#0d0887"
            ],
            [
             0.1111111111111111,
             "#46039f"
            ],
            [
             0.2222222222222222,
             "#7201a8"
            ],
            [
             0.3333333333333333,
             "#9c179e"
            ],
            [
             0.4444444444444444,
             "#bd3786"
            ],
            [
             0.5555555555555556,
             "#d8576b"
            ],
            [
             0.6666666666666666,
             "#ed7953"
            ],
            [
             0.7777777777777778,
             "#fb9f3a"
            ],
            [
             0.8888888888888888,
             "#fdca26"
            ],
            [
             1,
             "#f0f921"
            ]
           ],
           "sequentialminus": [
            [
             0,
             "#0d0887"
            ],
            [
             0.1111111111111111,
             "#46039f"
            ],
            [
             0.2222222222222222,
             "#7201a8"
            ],
            [
             0.3333333333333333,
             "#9c179e"
            ],
            [
             0.4444444444444444,
             "#bd3786"
            ],
            [
             0.5555555555555556,
             "#d8576b"
            ],
            [
             0.6666666666666666,
             "#ed7953"
            ],
            [
             0.7777777777777778,
             "#fb9f3a"
            ],
            [
             0.8888888888888888,
             "#fdca26"
            ],
            [
             1,
             "#f0f921"
            ]
           ]
          },
          "colorway": [
           "#636efa",
           "#EF553B",
           "#00cc96",
           "#ab63fa",
           "#FFA15A",
           "#19d3f3",
           "#FF6692",
           "#B6E880",
           "#FF97FF",
           "#FECB52"
          ],
          "font": {
           "color": "#2a3f5f"
          },
          "geo": {
           "bgcolor": "white",
           "lakecolor": "white",
           "landcolor": "#E5ECF6",
           "showlakes": true,
           "showland": true,
           "subunitcolor": "white"
          },
          "hoverlabel": {
           "align": "left"
          },
          "hovermode": "closest",
          "mapbox": {
           "style": "light"
          },
          "paper_bgcolor": "white",
          "plot_bgcolor": "#E5ECF6",
          "polar": {
           "angularaxis": {
            "gridcolor": "white",
            "linecolor": "white",
            "ticks": ""
           },
           "bgcolor": "#E5ECF6",
           "radialaxis": {
            "gridcolor": "white",
            "linecolor": "white",
            "ticks": ""
           }
          },
          "scene": {
           "xaxis": {
            "backgroundcolor": "#E5ECF6",
            "gridcolor": "white",
            "gridwidth": 2,
            "linecolor": "white",
            "showbackground": true,
            "ticks": "",
            "zerolinecolor": "white"
           },
           "yaxis": {
            "backgroundcolor": "#E5ECF6",
            "gridcolor": "white",
            "gridwidth": 2,
            "linecolor": "white",
            "showbackground": true,
            "ticks": "",
            "zerolinecolor": "white"
           },
           "zaxis": {
            "backgroundcolor": "#E5ECF6",
            "gridcolor": "white",
            "gridwidth": 2,
            "linecolor": "white",
            "showbackground": true,
            "ticks": "",
            "zerolinecolor": "white"
           }
          },
          "shapedefaults": {
           "line": {
            "color": "#2a3f5f"
           }
          },
          "ternary": {
           "aaxis": {
            "gridcolor": "white",
            "linecolor": "white",
            "ticks": ""
           },
           "baxis": {
            "gridcolor": "white",
            "linecolor": "white",
            "ticks": ""
           },
           "bgcolor": "#E5ECF6",
           "caxis": {
            "gridcolor": "white",
            "linecolor": "white",
            "ticks": ""
           }
          },
          "title": {
           "x": 0.05
          },
          "xaxis": {
           "automargin": true,
           "gridcolor": "white",
           "linecolor": "white",
           "ticks": "",
           "title": {
            "standoff": 15
           },
           "zerolinecolor": "white",
           "zerolinewidth": 2
          },
          "yaxis": {
           "automargin": true,
           "gridcolor": "white",
           "linecolor": "white",
           "ticks": "",
           "title": {
            "standoff": 15
           },
           "zerolinecolor": "white",
           "zerolinewidth": 2
          }
         }
        },
        "title": {
         "text": "Contagem de Autos por Mês no período de 2020-2022",
         "x": 0.5
        },
        "xaxis": {
         "anchor": "y",
         "domain": [
          0,
          1
         ],
         "dtick": 1,
         "title": {
          "text": "mes"
         }
        },
        "yaxis": {
         "anchor": "x",
         "domain": [
          0,
          1
         ],
         "title": {
          "text": "Conta_Autos"
         }
        }
       }
      }
     },
     "metadata": {},
     "output_type": "display_data"
    }
   ],
   "source": [
    "# Gráfico de barras do df_mes\n",
    "\n",
    "plot_mes = px.bar(\n",
    "    df_mes,\n",
    "    x = 'mes',\n",
    "    y = 'Conta_Autos',\n",
    "    title = 'Contagem de Autos por Mês no período de 2020-2022'\n",
    ")\n",
    "\n",
    "plot_mes.update_layout(\n",
    "    xaxis = {'dtick' : 1},\n",
    "    title_x = 0.5\n",
    "    )\n",
    "\n",
    "plot_mes.show('png')"
   ]
  },
  {
   "cell_type": "markdown",
   "metadata": {},
   "source": [
    "#### Quais os tipos de infrações mais comuns?"
   ]
  },
  {
   "cell_type": "code",
   "execution_count": 25,
   "metadata": {},
   "outputs": [
    {
     "data": {
      "text/html": [
       "<div>\n",
       "<style scoped>\n",
       "    .dataframe tbody tr th:only-of-type {\n",
       "        vertical-align: middle;\n",
       "    }\n",
       "\n",
       "    .dataframe tbody tr th {\n",
       "        vertical-align: top;\n",
       "    }\n",
       "\n",
       "    .dataframe thead th {\n",
       "        text-align: right;\n",
       "    }\n",
       "</style>\n",
       "<table border=\"1\" class=\"dataframe\">\n",
       "  <thead>\n",
       "    <tr style=\"text-align: right;\">\n",
       "      <th></th>\n",
       "      <th>Descrição Abreviada Infração</th>\n",
       "      <th>Contagem Infracoes</th>\n",
       "    </tr>\n",
       "  </thead>\n",
       "  <tbody>\n",
       "    <tr>\n",
       "      <th>0</th>\n",
       "      <td>Transitar em velocidade superior à máxima perm...</td>\n",
       "      <td>5407392</td>\n",
       "    </tr>\n",
       "    <tr>\n",
       "      <th>1</th>\n",
       "      <td>Transitar em velocidade superior à máxima perm...</td>\n",
       "      <td>817103</td>\n",
       "    </tr>\n",
       "    <tr>\n",
       "      <th>2</th>\n",
       "      <td>Ultrapassar pela contramão linha de divisão de...</td>\n",
       "      <td>692306</td>\n",
       "    </tr>\n",
       "    <tr>\n",
       "      <th>3</th>\n",
       "      <td>Deixar o condutor de usar o cinto segurança</td>\n",
       "      <td>497094</td>\n",
       "    </tr>\n",
       "    <tr>\n",
       "      <th>4</th>\n",
       "      <td>Conduzir o veículo registrado que não esteja d...</td>\n",
       "      <td>493663</td>\n",
       "    </tr>\n",
       "  </tbody>\n",
       "</table>\n",
       "</div>"
      ],
      "text/plain": [
       "                        Descrição Abreviada Infração  Contagem Infracoes\n",
       "0  Transitar em velocidade superior à máxima perm...             5407392\n",
       "1  Transitar em velocidade superior à máxima perm...              817103\n",
       "2  Ultrapassar pela contramão linha de divisão de...              692306\n",
       "3        Deixar o condutor de usar o cinto segurança              497094\n",
       "4  Conduzir o veículo registrado que não esteja d...              493663"
      ]
     },
     "metadata": {},
     "output_type": "display_data"
    }
   ],
   "source": [
    "df_infracoes = df['Descrição Abreviada Infração'].value_counts().reset_index()\n",
    "df_infracoes.columns = ['Descrição Abreviada Infração', 'Contagem Infracoes']\n",
    "df_infracoes = df_infracoes.sort_values('Contagem Infracoes', ascending=False)\n",
    "df_infracoes = df_infracoes.nlargest(5, 'Contagem Infracoes')\n",
    "\n",
    "display(df_infracoes)"
   ]
  },
  {
   "cell_type": "code",
   "execution_count": 26,
   "metadata": {},
   "outputs": [
    {
     "data": {
      "application/vnd.plotly.v1+json": {
       "config": {
        "plotlyServerURL": "https://plot.ly"
       },
       "data": [
        {
         "alignmentgroup": "True",
         "hovertemplate": "Descrição Abreviada Infração=%{x}<br>Contagem Infracoes=%{y}<extra></extra>",
         "legendgroup": "",
         "marker": {
          "color": "#636efa",
          "pattern": {
           "shape": ""
          }
         },
         "name": "",
         "offsetgroup": "",
         "orientation": "v",
         "showlegend": false,
         "textposition": "auto",
         "type": "bar",
         "x": [
          "Transitar em velocidade superior à máxima permitida em até 20%",
          "Transitar em velocidade superior à máxima permitida em mais de 20% até 50%",
          "Ultrapassar pela contramão linha de divisão de fluxos opostos, contínua amarela",
          "Deixar o condutor de usar o cinto segurança",
          "Conduzir o veículo registrado que não esteja devidamente licenciado"
         ],
         "xaxis": "x",
         "y": [
          5407392,
          817103,
          692306,
          497094,
          493663
         ],
         "yaxis": "y"
        }
       ],
       "layout": {
        "barmode": "relative",
        "legend": {
         "tracegroupgap": 0
        },
        "template": {
         "data": {
          "bar": [
           {
            "error_x": {
             "color": "#2a3f5f"
            },
            "error_y": {
             "color": "#2a3f5f"
            },
            "marker": {
             "line": {
              "color": "#E5ECF6",
              "width": 0.5
             },
             "pattern": {
              "fillmode": "overlay",
              "size": 10,
              "solidity": 0.2
             }
            },
            "type": "bar"
           }
          ],
          "barpolar": [
           {
            "marker": {
             "line": {
              "color": "#E5ECF6",
              "width": 0.5
             },
             "pattern": {
              "fillmode": "overlay",
              "size": 10,
              "solidity": 0.2
             }
            },
            "type": "barpolar"
           }
          ],
          "carpet": [
           {
            "aaxis": {
             "endlinecolor": "#2a3f5f",
             "gridcolor": "white",
             "linecolor": "white",
             "minorgridcolor": "white",
             "startlinecolor": "#2a3f5f"
            },
            "baxis": {
             "endlinecolor": "#2a3f5f",
             "gridcolor": "white",
             "linecolor": "white",
             "minorgridcolor": "white",
             "startlinecolor": "#2a3f5f"
            },
            "type": "carpet"
           }
          ],
          "choropleth": [
           {
            "colorbar": {
             "outlinewidth": 0,
             "ticks": ""
            },
            "type": "choropleth"
           }
          ],
          "contour": [
           {
            "colorbar": {
             "outlinewidth": 0,
             "ticks": ""
            },
            "colorscale": [
             [
              0,
              "#0d0887"
             ],
             [
              0.1111111111111111,
              "#46039f"
             ],
             [
              0.2222222222222222,
              "#7201a8"
             ],
             [
              0.3333333333333333,
              "#9c179e"
             ],
             [
              0.4444444444444444,
              "#bd3786"
             ],
             [
              0.5555555555555556,
              "#d8576b"
             ],
             [
              0.6666666666666666,
              "#ed7953"
             ],
             [
              0.7777777777777778,
              "#fb9f3a"
             ],
             [
              0.8888888888888888,
              "#fdca26"
             ],
             [
              1,
              "#f0f921"
             ]
            ],
            "type": "contour"
           }
          ],
          "contourcarpet": [
           {
            "colorbar": {
             "outlinewidth": 0,
             "ticks": ""
            },
            "type": "contourcarpet"
           }
          ],
          "heatmap": [
           {
            "colorbar": {
             "outlinewidth": 0,
             "ticks": ""
            },
            "colorscale": [
             [
              0,
              "#0d0887"
             ],
             [
              0.1111111111111111,
              "#46039f"
             ],
             [
              0.2222222222222222,
              "#7201a8"
             ],
             [
              0.3333333333333333,
              "#9c179e"
             ],
             [
              0.4444444444444444,
              "#bd3786"
             ],
             [
              0.5555555555555556,
              "#d8576b"
             ],
             [
              0.6666666666666666,
              "#ed7953"
             ],
             [
              0.7777777777777778,
              "#fb9f3a"
             ],
             [
              0.8888888888888888,
              "#fdca26"
             ],
             [
              1,
              "#f0f921"
             ]
            ],
            "type": "heatmap"
           }
          ],
          "heatmapgl": [
           {
            "colorbar": {
             "outlinewidth": 0,
             "ticks": ""
            },
            "colorscale": [
             [
              0,
              "#0d0887"
             ],
             [
              0.1111111111111111,
              "#46039f"
             ],
             [
              0.2222222222222222,
              "#7201a8"
             ],
             [
              0.3333333333333333,
              "#9c179e"
             ],
             [
              0.4444444444444444,
              "#bd3786"
             ],
             [
              0.5555555555555556,
              "#d8576b"
             ],
             [
              0.6666666666666666,
              "#ed7953"
             ],
             [
              0.7777777777777778,
              "#fb9f3a"
             ],
             [
              0.8888888888888888,
              "#fdca26"
             ],
             [
              1,
              "#f0f921"
             ]
            ],
            "type": "heatmapgl"
           }
          ],
          "histogram": [
           {
            "marker": {
             "pattern": {
              "fillmode": "overlay",
              "size": 10,
              "solidity": 0.2
             }
            },
            "type": "histogram"
           }
          ],
          "histogram2d": [
           {
            "colorbar": {
             "outlinewidth": 0,
             "ticks": ""
            },
            "colorscale": [
             [
              0,
              "#0d0887"
             ],
             [
              0.1111111111111111,
              "#46039f"
             ],
             [
              0.2222222222222222,
              "#7201a8"
             ],
             [
              0.3333333333333333,
              "#9c179e"
             ],
             [
              0.4444444444444444,
              "#bd3786"
             ],
             [
              0.5555555555555556,
              "#d8576b"
             ],
             [
              0.6666666666666666,
              "#ed7953"
             ],
             [
              0.7777777777777778,
              "#fb9f3a"
             ],
             [
              0.8888888888888888,
              "#fdca26"
             ],
             [
              1,
              "#f0f921"
             ]
            ],
            "type": "histogram2d"
           }
          ],
          "histogram2dcontour": [
           {
            "colorbar": {
             "outlinewidth": 0,
             "ticks": ""
            },
            "colorscale": [
             [
              0,
              "#0d0887"
             ],
             [
              0.1111111111111111,
              "#46039f"
             ],
             [
              0.2222222222222222,
              "#7201a8"
             ],
             [
              0.3333333333333333,
              "#9c179e"
             ],
             [
              0.4444444444444444,
              "#bd3786"
             ],
             [
              0.5555555555555556,
              "#d8576b"
             ],
             [
              0.6666666666666666,
              "#ed7953"
             ],
             [
              0.7777777777777778,
              "#fb9f3a"
             ],
             [
              0.8888888888888888,
              "#fdca26"
             ],
             [
              1,
              "#f0f921"
             ]
            ],
            "type": "histogram2dcontour"
           }
          ],
          "mesh3d": [
           {
            "colorbar": {
             "outlinewidth": 0,
             "ticks": ""
            },
            "type": "mesh3d"
           }
          ],
          "parcoords": [
           {
            "line": {
             "colorbar": {
              "outlinewidth": 0,
              "ticks": ""
             }
            },
            "type": "parcoords"
           }
          ],
          "pie": [
           {
            "automargin": true,
            "type": "pie"
           }
          ],
          "scatter": [
           {
            "marker": {
             "colorbar": {
              "outlinewidth": 0,
              "ticks": ""
             }
            },
            "type": "scatter"
           }
          ],
          "scatter3d": [
           {
            "line": {
             "colorbar": {
              "outlinewidth": 0,
              "ticks": ""
             }
            },
            "marker": {
             "colorbar": {
              "outlinewidth": 0,
              "ticks": ""
             }
            },
            "type": "scatter3d"
           }
          ],
          "scattercarpet": [
           {
            "marker": {
             "colorbar": {
              "outlinewidth": 0,
              "ticks": ""
             }
            },
            "type": "scattercarpet"
           }
          ],
          "scattergeo": [
           {
            "marker": {
             "colorbar": {
              "outlinewidth": 0,
              "ticks": ""
             }
            },
            "type": "scattergeo"
           }
          ],
          "scattergl": [
           {
            "marker": {
             "colorbar": {
              "outlinewidth": 0,
              "ticks": ""
             }
            },
            "type": "scattergl"
           }
          ],
          "scattermapbox": [
           {
            "marker": {
             "colorbar": {
              "outlinewidth": 0,
              "ticks": ""
             }
            },
            "type": "scattermapbox"
           }
          ],
          "scatterpolar": [
           {
            "marker": {
             "colorbar": {
              "outlinewidth": 0,
              "ticks": ""
             }
            },
            "type": "scatterpolar"
           }
          ],
          "scatterpolargl": [
           {
            "marker": {
             "colorbar": {
              "outlinewidth": 0,
              "ticks": ""
             }
            },
            "type": "scatterpolargl"
           }
          ],
          "scatterternary": [
           {
            "marker": {
             "colorbar": {
              "outlinewidth": 0,
              "ticks": ""
             }
            },
            "type": "scatterternary"
           }
          ],
          "surface": [
           {
            "colorbar": {
             "outlinewidth": 0,
             "ticks": ""
            },
            "colorscale": [
             [
              0,
              "#0d0887"
             ],
             [
              0.1111111111111111,
              "#46039f"
             ],
             [
              0.2222222222222222,
              "#7201a8"
             ],
             [
              0.3333333333333333,
              "#9c179e"
             ],
             [
              0.4444444444444444,
              "#bd3786"
             ],
             [
              0.5555555555555556,
              "#d8576b"
             ],
             [
              0.6666666666666666,
              "#ed7953"
             ],
             [
              0.7777777777777778,
              "#fb9f3a"
             ],
             [
              0.8888888888888888,
              "#fdca26"
             ],
             [
              1,
              "#f0f921"
             ]
            ],
            "type": "surface"
           }
          ],
          "table": [
           {
            "cells": {
             "fill": {
              "color": "#EBF0F8"
             },
             "line": {
              "color": "white"
             }
            },
            "header": {
             "fill": {
              "color": "#C8D4E3"
             },
             "line": {
              "color": "white"
             }
            },
            "type": "table"
           }
          ]
         },
         "layout": {
          "annotationdefaults": {
           "arrowcolor": "#2a3f5f",
           "arrowhead": 0,
           "arrowwidth": 1
          },
          "autotypenumbers": "strict",
          "coloraxis": {
           "colorbar": {
            "outlinewidth": 0,
            "ticks": ""
           }
          },
          "colorscale": {
           "diverging": [
            [
             0,
             "#8e0152"
            ],
            [
             0.1,
             "#c51b7d"
            ],
            [
             0.2,
             "#de77ae"
            ],
            [
             0.3,
             "#f1b6da"
            ],
            [
             0.4,
             "#fde0ef"
            ],
            [
             0.5,
             "#f7f7f7"
            ],
            [
             0.6,
             "#e6f5d0"
            ],
            [
             0.7,
             "#b8e186"
            ],
            [
             0.8,
             "#7fbc41"
            ],
            [
             0.9,
             "#4d9221"
            ],
            [
             1,
             "#276419"
            ]
           ],
           "sequential": [
            [
             0,
             "#0d0887"
            ],
            [
             0.1111111111111111,
             "#46039f"
            ],
            [
             0.2222222222222222,
             "#7201a8"
            ],
            [
             0.3333333333333333,
             "#9c179e"
            ],
            [
             0.4444444444444444,
             "#bd3786"
            ],
            [
             0.5555555555555556,
             "#d8576b"
            ],
            [
             0.6666666666666666,
             "#ed7953"
            ],
            [
             0.7777777777777778,
             "#fb9f3a"
            ],
            [
             0.8888888888888888,
             "#fdca26"
            ],
            [
             1,
             "#f0f921"
            ]
           ],
           "sequentialminus": [
            [
             0,
             "#0d0887"
            ],
            [
             0.1111111111111111,
             "#46039f"
            ],
            [
             0.2222222222222222,
             "#7201a8"
            ],
            [
             0.3333333333333333,
             "#9c179e"
            ],
            [
             0.4444444444444444,
             "#bd3786"
            ],
            [
             0.5555555555555556,
             "#d8576b"
            ],
            [
             0.6666666666666666,
             "#ed7953"
            ],
            [
             0.7777777777777778,
             "#fb9f3a"
            ],
            [
             0.8888888888888888,
             "#fdca26"
            ],
            [
             1,
             "#f0f921"
            ]
           ]
          },
          "colorway": [
           "#636efa",
           "#EF553B",
           "#00cc96",
           "#ab63fa",
           "#FFA15A",
           "#19d3f3",
           "#FF6692",
           "#B6E880",
           "#FF97FF",
           "#FECB52"
          ],
          "font": {
           "color": "#2a3f5f"
          },
          "geo": {
           "bgcolor": "white",
           "lakecolor": "white",
           "landcolor": "#E5ECF6",
           "showlakes": true,
           "showland": true,
           "subunitcolor": "white"
          },
          "hoverlabel": {
           "align": "left"
          },
          "hovermode": "closest",
          "mapbox": {
           "style": "light"
          },
          "paper_bgcolor": "white",
          "plot_bgcolor": "#E5ECF6",
          "polar": {
           "angularaxis": {
            "gridcolor": "white",
            "linecolor": "white",
            "ticks": ""
           },
           "bgcolor": "#E5ECF6",
           "radialaxis": {
            "gridcolor": "white",
            "linecolor": "white",
            "ticks": ""
           }
          },
          "scene": {
           "xaxis": {
            "backgroundcolor": "#E5ECF6",
            "gridcolor": "white",
            "gridwidth": 2,
            "linecolor": "white",
            "showbackground": true,
            "ticks": "",
            "zerolinecolor": "white"
           },
           "yaxis": {
            "backgroundcolor": "#E5ECF6",
            "gridcolor": "white",
            "gridwidth": 2,
            "linecolor": "white",
            "showbackground": true,
            "ticks": "",
            "zerolinecolor": "white"
           },
           "zaxis": {
            "backgroundcolor": "#E5ECF6",
            "gridcolor": "white",
            "gridwidth": 2,
            "linecolor": "white",
            "showbackground": true,
            "ticks": "",
            "zerolinecolor": "white"
           }
          },
          "shapedefaults": {
           "line": {
            "color": "#2a3f5f"
           }
          },
          "ternary": {
           "aaxis": {
            "gridcolor": "white",
            "linecolor": "white",
            "ticks": ""
           },
           "baxis": {
            "gridcolor": "white",
            "linecolor": "white",
            "ticks": ""
           },
           "bgcolor": "#E5ECF6",
           "caxis": {
            "gridcolor": "white",
            "linecolor": "white",
            "ticks": ""
           }
          },
          "title": {
           "x": 0.05
          },
          "xaxis": {
           "automargin": true,
           "gridcolor": "white",
           "linecolor": "white",
           "ticks": "",
           "title": {
            "standoff": 15
           },
           "zerolinecolor": "white",
           "zerolinewidth": 2
          },
          "yaxis": {
           "automargin": true,
           "gridcolor": "white",
           "linecolor": "white",
           "ticks": "",
           "title": {
            "standoff": 15
           },
           "zerolinecolor": "white",
           "zerolinewidth": 2
          }
         }
        },
        "title": {
         "text": "Infrações Mais Frequentes por Descrição",
         "x": 0.5
        },
        "xaxis": {
         "anchor": "y",
         "domain": [
          0,
          1
         ],
         "tickangle": 15,
         "title": {
          "text": "Descrição Abreviada Infração"
         }
        },
        "yaxis": {
         "anchor": "x",
         "domain": [
          0,
          1
         ],
         "title": {
          "text": "Contagem Infracoes"
         }
        }
       }
      }
     },
     "metadata": {},
     "output_type": "display_data"
    }
   ],
   "source": [
    "# Gráfico de barras do df_infracoes\n",
    "\n",
    "plot_infracoes = px.bar(\n",
    "    df_infracoes,\n",
    "    x = 'Descrição Abreviada Infração',\n",
    "    y = 'Contagem Infracoes',\n",
    "    title = 'Infrações Mais Frequentes por Descrição'\n",
    ")\n",
    "\n",
    "plot_infracoes.update_layout(\n",
    "    xaxis_tickangle = 15,\n",
    "    title_x = 0.5\n",
    "    )\n",
    "\n",
    "plot_infracoes.show('png')"
   ]
  },
  {
   "cell_type": "markdown",
   "metadata": {},
   "source": [
    "#### Quais os estados com maior ocorrência de infração?"
   ]
  },
  {
   "cell_type": "code",
   "execution_count": 27,
   "metadata": {},
   "outputs": [
    {
     "data": {
      "text/html": [
       "<div>\n",
       "<style scoped>\n",
       "    .dataframe tbody tr th:only-of-type {\n",
       "        vertical-align: middle;\n",
       "    }\n",
       "\n",
       "    .dataframe tbody tr th {\n",
       "        vertical-align: top;\n",
       "    }\n",
       "\n",
       "    .dataframe thead th {\n",
       "        text-align: right;\n",
       "    }\n",
       "</style>\n",
       "<table border=\"1\" class=\"dataframe\">\n",
       "  <thead>\n",
       "    <tr style=\"text-align: right;\">\n",
       "      <th></th>\n",
       "      <th>UF Infração</th>\n",
       "      <th>Contagem Infracoes</th>\n",
       "    </tr>\n",
       "  </thead>\n",
       "  <tbody>\n",
       "    <tr>\n",
       "      <th>0</th>\n",
       "      <td>RJ</td>\n",
       "      <td>2263220</td>\n",
       "    </tr>\n",
       "    <tr>\n",
       "      <th>1</th>\n",
       "      <td>MG</td>\n",
       "      <td>1799596</td>\n",
       "    </tr>\n",
       "    <tr>\n",
       "      <th>2</th>\n",
       "      <td>SP</td>\n",
       "      <td>1554159</td>\n",
       "    </tr>\n",
       "    <tr>\n",
       "      <th>3</th>\n",
       "      <td>BA</td>\n",
       "      <td>1282636</td>\n",
       "    </tr>\n",
       "    <tr>\n",
       "      <th>4</th>\n",
       "      <td>MS</td>\n",
       "      <td>1008968</td>\n",
       "    </tr>\n",
       "  </tbody>\n",
       "</table>\n",
       "</div>"
      ],
      "text/plain": [
       "  UF Infração  Contagem Infracoes\n",
       "0          RJ             2263220\n",
       "1          MG             1799596\n",
       "2          SP             1554159\n",
       "3          BA             1282636\n",
       "4          MS             1008968"
      ]
     },
     "metadata": {},
     "output_type": "display_data"
    }
   ],
   "source": [
    "df_estados = df['UF Infração'].value_counts().reset_index()\n",
    "df_estados.columns = ['UF Infração', 'Contagem Infracoes']\n",
    "df_estados = df_estados.sort_values('Contagem Infracoes', ascending=False)\n",
    "df_estados = df_estados.nlargest(5, 'Contagem Infracoes')\n",
    "\n",
    "display(df_estados)"
   ]
  },
  {
   "cell_type": "code",
   "execution_count": 28,
   "metadata": {},
   "outputs": [
    {
     "data": {
      "application/vnd.plotly.v1+json": {
       "config": {
        "plotlyServerURL": "https://plot.ly"
       },
       "data": [
        {
         "alignmentgroup": "True",
         "hovertemplate": "UF Infração=%{x}<br>Contagem Infracoes=%{y}<extra></extra>",
         "legendgroup": "",
         "marker": {
          "color": "#636efa",
          "pattern": {
           "shape": ""
          }
         },
         "name": "",
         "offsetgroup": "",
         "orientation": "v",
         "showlegend": false,
         "textposition": "auto",
         "type": "bar",
         "x": [
          "RJ",
          "MG",
          "SP",
          "BA",
          "MS"
         ],
         "xaxis": "x",
         "y": [
          2263220,
          1799596,
          1554159,
          1282636,
          1008968
         ],
         "yaxis": "y"
        }
       ],
       "layout": {
        "barmode": "relative",
        "legend": {
         "tracegroupgap": 0
        },
        "template": {
         "data": {
          "bar": [
           {
            "error_x": {
             "color": "#2a3f5f"
            },
            "error_y": {
             "color": "#2a3f5f"
            },
            "marker": {
             "line": {
              "color": "#E5ECF6",
              "width": 0.5
             },
             "pattern": {
              "fillmode": "overlay",
              "size": 10,
              "solidity": 0.2
             }
            },
            "type": "bar"
           }
          ],
          "barpolar": [
           {
            "marker": {
             "line": {
              "color": "#E5ECF6",
              "width": 0.5
             },
             "pattern": {
              "fillmode": "overlay",
              "size": 10,
              "solidity": 0.2
             }
            },
            "type": "barpolar"
           }
          ],
          "carpet": [
           {
            "aaxis": {
             "endlinecolor": "#2a3f5f",
             "gridcolor": "white",
             "linecolor": "white",
             "minorgridcolor": "white",
             "startlinecolor": "#2a3f5f"
            },
            "baxis": {
             "endlinecolor": "#2a3f5f",
             "gridcolor": "white",
             "linecolor": "white",
             "minorgridcolor": "white",
             "startlinecolor": "#2a3f5f"
            },
            "type": "carpet"
           }
          ],
          "choropleth": [
           {
            "colorbar": {
             "outlinewidth": 0,
             "ticks": ""
            },
            "type": "choropleth"
           }
          ],
          "contour": [
           {
            "colorbar": {
             "outlinewidth": 0,
             "ticks": ""
            },
            "colorscale": [
             [
              0,
              "#0d0887"
             ],
             [
              0.1111111111111111,
              "#46039f"
             ],
             [
              0.2222222222222222,
              "#7201a8"
             ],
             [
              0.3333333333333333,
              "#9c179e"
             ],
             [
              0.4444444444444444,
              "#bd3786"
             ],
             [
              0.5555555555555556,
              "#d8576b"
             ],
             [
              0.6666666666666666,
              "#ed7953"
             ],
             [
              0.7777777777777778,
              "#fb9f3a"
             ],
             [
              0.8888888888888888,
              "#fdca26"
             ],
             [
              1,
              "#f0f921"
             ]
            ],
            "type": "contour"
           }
          ],
          "contourcarpet": [
           {
            "colorbar": {
             "outlinewidth": 0,
             "ticks": ""
            },
            "type": "contourcarpet"
           }
          ],
          "heatmap": [
           {
            "colorbar": {
             "outlinewidth": 0,
             "ticks": ""
            },
            "colorscale": [
             [
              0,
              "#0d0887"
             ],
             [
              0.1111111111111111,
              "#46039f"
             ],
             [
              0.2222222222222222,
              "#7201a8"
             ],
             [
              0.3333333333333333,
              "#9c179e"
             ],
             [
              0.4444444444444444,
              "#bd3786"
             ],
             [
              0.5555555555555556,
              "#d8576b"
             ],
             [
              0.6666666666666666,
              "#ed7953"
             ],
             [
              0.7777777777777778,
              "#fb9f3a"
             ],
             [
              0.8888888888888888,
              "#fdca26"
             ],
             [
              1,
              "#f0f921"
             ]
            ],
            "type": "heatmap"
           }
          ],
          "heatmapgl": [
           {
            "colorbar": {
             "outlinewidth": 0,
             "ticks": ""
            },
            "colorscale": [
             [
              0,
              "#0d0887"
             ],
             [
              0.1111111111111111,
              "#46039f"
             ],
             [
              0.2222222222222222,
              "#7201a8"
             ],
             [
              0.3333333333333333,
              "#9c179e"
             ],
             [
              0.4444444444444444,
              "#bd3786"
             ],
             [
              0.5555555555555556,
              "#d8576b"
             ],
             [
              0.6666666666666666,
              "#ed7953"
             ],
             [
              0.7777777777777778,
              "#fb9f3a"
             ],
             [
              0.8888888888888888,
              "#fdca26"
             ],
             [
              1,
              "#f0f921"
             ]
            ],
            "type": "heatmapgl"
           }
          ],
          "histogram": [
           {
            "marker": {
             "pattern": {
              "fillmode": "overlay",
              "size": 10,
              "solidity": 0.2
             }
            },
            "type": "histogram"
           }
          ],
          "histogram2d": [
           {
            "colorbar": {
             "outlinewidth": 0,
             "ticks": ""
            },
            "colorscale": [
             [
              0,
              "#0d0887"
             ],
             [
              0.1111111111111111,
              "#46039f"
             ],
             [
              0.2222222222222222,
              "#7201a8"
             ],
             [
              0.3333333333333333,
              "#9c179e"
             ],
             [
              0.4444444444444444,
              "#bd3786"
             ],
             [
              0.5555555555555556,
              "#d8576b"
             ],
             [
              0.6666666666666666,
              "#ed7953"
             ],
             [
              0.7777777777777778,
              "#fb9f3a"
             ],
             [
              0.8888888888888888,
              "#fdca26"
             ],
             [
              1,
              "#f0f921"
             ]
            ],
            "type": "histogram2d"
           }
          ],
          "histogram2dcontour": [
           {
            "colorbar": {
             "outlinewidth": 0,
             "ticks": ""
            },
            "colorscale": [
             [
              0,
              "#0d0887"
             ],
             [
              0.1111111111111111,
              "#46039f"
             ],
             [
              0.2222222222222222,
              "#7201a8"
             ],
             [
              0.3333333333333333,
              "#9c179e"
             ],
             [
              0.4444444444444444,
              "#bd3786"
             ],
             [
              0.5555555555555556,
              "#d8576b"
             ],
             [
              0.6666666666666666,
              "#ed7953"
             ],
             [
              0.7777777777777778,
              "#fb9f3a"
             ],
             [
              0.8888888888888888,
              "#fdca26"
             ],
             [
              1,
              "#f0f921"
             ]
            ],
            "type": "histogram2dcontour"
           }
          ],
          "mesh3d": [
           {
            "colorbar": {
             "outlinewidth": 0,
             "ticks": ""
            },
            "type": "mesh3d"
           }
          ],
          "parcoords": [
           {
            "line": {
             "colorbar": {
              "outlinewidth": 0,
              "ticks": ""
             }
            },
            "type": "parcoords"
           }
          ],
          "pie": [
           {
            "automargin": true,
            "type": "pie"
           }
          ],
          "scatter": [
           {
            "marker": {
             "colorbar": {
              "outlinewidth": 0,
              "ticks": ""
             }
            },
            "type": "scatter"
           }
          ],
          "scatter3d": [
           {
            "line": {
             "colorbar": {
              "outlinewidth": 0,
              "ticks": ""
             }
            },
            "marker": {
             "colorbar": {
              "outlinewidth": 0,
              "ticks": ""
             }
            },
            "type": "scatter3d"
           }
          ],
          "scattercarpet": [
           {
            "marker": {
             "colorbar": {
              "outlinewidth": 0,
              "ticks": ""
             }
            },
            "type": "scattercarpet"
           }
          ],
          "scattergeo": [
           {
            "marker": {
             "colorbar": {
              "outlinewidth": 0,
              "ticks": ""
             }
            },
            "type": "scattergeo"
           }
          ],
          "scattergl": [
           {
            "marker": {
             "colorbar": {
              "outlinewidth": 0,
              "ticks": ""
             }
            },
            "type": "scattergl"
           }
          ],
          "scattermapbox": [
           {
            "marker": {
             "colorbar": {
              "outlinewidth": 0,
              "ticks": ""
             }
            },
            "type": "scattermapbox"
           }
          ],
          "scatterpolar": [
           {
            "marker": {
             "colorbar": {
              "outlinewidth": 0,
              "ticks": ""
             }
            },
            "type": "scatterpolar"
           }
          ],
          "scatterpolargl": [
           {
            "marker": {
             "colorbar": {
              "outlinewidth": 0,
              "ticks": ""
             }
            },
            "type": "scatterpolargl"
           }
          ],
          "scatterternary": [
           {
            "marker": {
             "colorbar": {
              "outlinewidth": 0,
              "ticks": ""
             }
            },
            "type": "scatterternary"
           }
          ],
          "surface": [
           {
            "colorbar": {
             "outlinewidth": 0,
             "ticks": ""
            },
            "colorscale": [
             [
              0,
              "#0d0887"
             ],
             [
              0.1111111111111111,
              "#46039f"
             ],
             [
              0.2222222222222222,
              "#7201a8"
             ],
             [
              0.3333333333333333,
              "#9c179e"
             ],
             [
              0.4444444444444444,
              "#bd3786"
             ],
             [
              0.5555555555555556,
              "#d8576b"
             ],
             [
              0.6666666666666666,
              "#ed7953"
             ],
             [
              0.7777777777777778,
              "#fb9f3a"
             ],
             [
              0.8888888888888888,
              "#fdca26"
             ],
             [
              1,
              "#f0f921"
             ]
            ],
            "type": "surface"
           }
          ],
          "table": [
           {
            "cells": {
             "fill": {
              "color": "#EBF0F8"
             },
             "line": {
              "color": "white"
             }
            },
            "header": {
             "fill": {
              "color": "#C8D4E3"
             },
             "line": {
              "color": "white"
             }
            },
            "type": "table"
           }
          ]
         },
         "layout": {
          "annotationdefaults": {
           "arrowcolor": "#2a3f5f",
           "arrowhead": 0,
           "arrowwidth": 1
          },
          "autotypenumbers": "strict",
          "coloraxis": {
           "colorbar": {
            "outlinewidth": 0,
            "ticks": ""
           }
          },
          "colorscale": {
           "diverging": [
            [
             0,
             "#8e0152"
            ],
            [
             0.1,
             "#c51b7d"
            ],
            [
             0.2,
             "#de77ae"
            ],
            [
             0.3,
             "#f1b6da"
            ],
            [
             0.4,
             "#fde0ef"
            ],
            [
             0.5,
             "#f7f7f7"
            ],
            [
             0.6,
             "#e6f5d0"
            ],
            [
             0.7,
             "#b8e186"
            ],
            [
             0.8,
             "#7fbc41"
            ],
            [
             0.9,
             "#4d9221"
            ],
            [
             1,
             "#276419"
            ]
           ],
           "sequential": [
            [
             0,
             "#0d0887"
            ],
            [
             0.1111111111111111,
             "#46039f"
            ],
            [
             0.2222222222222222,
             "#7201a8"
            ],
            [
             0.3333333333333333,
             "#9c179e"
            ],
            [
             0.4444444444444444,
             "#bd3786"
            ],
            [
             0.5555555555555556,
             "#d8576b"
            ],
            [
             0.6666666666666666,
             "#ed7953"
            ],
            [
             0.7777777777777778,
             "#fb9f3a"
            ],
            [
             0.8888888888888888,
             "#fdca26"
            ],
            [
             1,
             "#f0f921"
            ]
           ],
           "sequentialminus": [
            [
             0,
             "#0d0887"
            ],
            [
             0.1111111111111111,
             "#46039f"
            ],
            [
             0.2222222222222222,
             "#7201a8"
            ],
            [
             0.3333333333333333,
             "#9c179e"
            ],
            [
             0.4444444444444444,
             "#bd3786"
            ],
            [
             0.5555555555555556,
             "#d8576b"
            ],
            [
             0.6666666666666666,
             "#ed7953"
            ],
            [
             0.7777777777777778,
             "#fb9f3a"
            ],
            [
             0.8888888888888888,
             "#fdca26"
            ],
            [
             1,
             "#f0f921"
            ]
           ]
          },
          "colorway": [
           "#636efa",
           "#EF553B",
           "#00cc96",
           "#ab63fa",
           "#FFA15A",
           "#19d3f3",
           "#FF6692",
           "#B6E880",
           "#FF97FF",
           "#FECB52"
          ],
          "font": {
           "color": "#2a3f5f"
          },
          "geo": {
           "bgcolor": "white",
           "lakecolor": "white",
           "landcolor": "#E5ECF6",
           "showlakes": true,
           "showland": true,
           "subunitcolor": "white"
          },
          "hoverlabel": {
           "align": "left"
          },
          "hovermode": "closest",
          "mapbox": {
           "style": "light"
          },
          "paper_bgcolor": "white",
          "plot_bgcolor": "#E5ECF6",
          "polar": {
           "angularaxis": {
            "gridcolor": "white",
            "linecolor": "white",
            "ticks": ""
           },
           "bgcolor": "#E5ECF6",
           "radialaxis": {
            "gridcolor": "white",
            "linecolor": "white",
            "ticks": ""
           }
          },
          "scene": {
           "xaxis": {
            "backgroundcolor": "#E5ECF6",
            "gridcolor": "white",
            "gridwidth": 2,
            "linecolor": "white",
            "showbackground": true,
            "ticks": "",
            "zerolinecolor": "white"
           },
           "yaxis": {
            "backgroundcolor": "#E5ECF6",
            "gridcolor": "white",
            "gridwidth": 2,
            "linecolor": "white",
            "showbackground": true,
            "ticks": "",
            "zerolinecolor": "white"
           },
           "zaxis": {
            "backgroundcolor": "#E5ECF6",
            "gridcolor": "white",
            "gridwidth": 2,
            "linecolor": "white",
            "showbackground": true,
            "ticks": "",
            "zerolinecolor": "white"
           }
          },
          "shapedefaults": {
           "line": {
            "color": "#2a3f5f"
           }
          },
          "ternary": {
           "aaxis": {
            "gridcolor": "white",
            "linecolor": "white",
            "ticks": ""
           },
           "baxis": {
            "gridcolor": "white",
            "linecolor": "white",
            "ticks": ""
           },
           "bgcolor": "#E5ECF6",
           "caxis": {
            "gridcolor": "white",
            "linecolor": "white",
            "ticks": ""
           }
          },
          "title": {
           "x": 0.05
          },
          "xaxis": {
           "automargin": true,
           "gridcolor": "white",
           "linecolor": "white",
           "ticks": "",
           "title": {
            "standoff": 15
           },
           "zerolinecolor": "white",
           "zerolinewidth": 2
          },
          "yaxis": {
           "automargin": true,
           "gridcolor": "white",
           "linecolor": "white",
           "ticks": "",
           "title": {
            "standoff": 15
           },
           "zerolinecolor": "white",
           "zerolinewidth": 2
          }
         }
        },
        "title": {
         "text": "Infrações Mais Frequentes por Estado",
         "x": 0.5
        },
        "xaxis": {
         "anchor": "y",
         "domain": [
          0,
          1
         ],
         "title": {
          "text": "UF Infração"
         }
        },
        "yaxis": {
         "anchor": "x",
         "domain": [
          0,
          1
         ],
         "title": {
          "text": "Contagem Infracoes"
         }
        }
       }
      }
     },
     "metadata": {},
     "output_type": "display_data"
    }
   ],
   "source": [
    "# Gráfico de barras do df_estados\n",
    "\n",
    "plot_estados = px.bar(\n",
    "    df_estados,\n",
    "    x = 'UF Infração',\n",
    "    y = 'Contagem Infracoes',\n",
    "    title = 'Infrações Mais Frequentes por Estado'\n",
    ")\n",
    "\n",
    "plot_estados.update_layout(\n",
    "    title_x = 0.5\n",
    "    )\n",
    "\n",
    "plot_estados.show('png')"
   ]
  },
  {
   "cell_type": "markdown",
   "metadata": {},
   "source": [
    "**Conclusões:**\n",
    "\n",
    "• Variação na Quantidade de Infrações: Observamos uma variação significativa na quantidade de infrações ao longo dos anos analisados. Em 2020, foram registradas 5.182.537 infrações, aumentando para 5.241.299 em 2021, representando um acréscimo de 1,13%. Entretanto, em 2022, houve uma queda acentuada, chegando a 4.135.523 infrações, uma redução de 21,10% em relação ao ano anterior — o que faz sentido, já que no contexto de pandemia, menos pessoas saíam de casa.\n",
    "\n",
    "• Distribuição Mensal das Infrações: A análise mensal demonstrou que o mês de fevereiro teve o maior número de infrações, totalizando 1.327.215 registros, seguido pelos meses de outubro e dezembro, com 1.303.301 e 1.275.938 infrações, respectivamente. Já o mês de abril apresentou a menor quantidade de infrações, com 1.085.114 registros.\n",
    "\n",
    "• Infrações Mais Frequentes: As cinco infrações mais comuns foram: Transitar em velocidade superior à máxima permitida em até 20%  (5.407.392 registros); Transitar em velocidade superior à máxima permitida em mais de 20% até 50% (817.103 registros); Ultrapassar pela contramão linha de divisão de fluxos opostos, contínua amarela (692.306 registros); Deixar o condutor de usar o cinto segurança (497.094 registros); e Conduzir o veículo registrado que não esteja devidamente licenciado (493.663 registros).\n",
    "\n",
    "• Estados com Maior Ocorrência de Infração: Os estados com maior número de infrações foram Rio de Janeiro (2.263.220 registros), Minas Gerais (1.799.596 registros), São Paulo (1.554.159 registros), Bahia (1.282.636 registros) e Mato Grosso do Sul (1.008.968 registros).\n",
    "\n",
    "Essas conclusões fornecem insights importantes para a Polícia Rodoviária Federal e demais órgãos responsáveis pelo trânsito, permitindo a identificação de áreas com maior incidência de infrações e a implementação de medidas para promover a segurança viária. Além disso, as informações obtidas podem auxiliar na elaboração de políticas públicas e campanhas de conscientização com foco nas infrações mais frequentes e nos horários de maior incidência.\n",
    "\n",
    "É fundamental ressaltar que a análise exploratória é apenas o primeiro passo no processo de exploração dos dados e que análises mais aprofundadas e complexas podem ser realizadas com o intuito de obter um entendimento mais completo do cenário de infrações no Brasil. As informações aqui apresentadas devem ser utilizadas como base para novos estudos e aprimoramentos nas ações de fiscalização e conscientização no trânsito, visando contribuir para a construção de um tráfego mais seguro e consciente em nossas estradas."
   ]
  }
 ],
 "metadata": {
  "kernelspec": {
   "display_name": "Python 3",
   "language": "python",
   "name": "python3"
  },
  "language_info": {
   "codemirror_mode": {
    "name": "ipython",
    "version": 3
   },
   "file_extension": ".py",
   "mimetype": "text/x-python",
   "name": "python",
   "nbconvert_exporter": "python",
   "pygments_lexer": "ipython3",
   "version": "3.11.2"
  },
  "orig_nbformat": 4
 },
 "nbformat": 4,
 "nbformat_minor": 2
}
