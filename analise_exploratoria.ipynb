{
 "cells": [
  {
   "cell_type": "markdown",
   "metadata": {},
   "source": [
    "## Dicionários das variáveis\n",
    "\n",
    "| Nome Atual                         | Descrição                                        |\n",
    "|------------------------------------|--------------------------------------------------|\n",
    "| Número do Auto                     | Identificador único do auto de infração          |\n",
    "| Data da Infração (DD/MM/AAAA)      | Data da infração no formato dd/mm/aaaa           |\n",
    "| Indicador de Abordagem             | Identifica se houve abordagem do veículo         |\n",
    "| Assinatura do Auto                 | Informa se o infrator assinou o auto de infração |\n",
    "| Indicador Veiculo Estrangeiro      | Informa se o veículo é estrangeiro               |\n",
    "| Sentido Trafego                    | Sentido da via onde ocorreu a infração           |\n",
    "| UF Placa                           | Unidade federativa da placa do veículo           |\n",
    "| UF Infração                        | Unidade federativa do local da infração          |\n",
    "| BR Infração                        | Identificador da BR onde ocorreu a infração      |\n",
    "| Km Infração                        | Identificação do quilômetro da infração          |\n",
    "| Município                          | Nome do município onde ocorreu a infração        |\n",
    "| Código da Infração                 | Não há correspondência                           |\n",
    "| Descrição Abreviada Infração       | Descrição abreviada da infração                  |\n",
    "| Enquadramento da Infração          | Enquadramento da infração de acordo com o CTB    |\n",
    "| Início Vigência da Infração        | Data do início da vigência da infração           |\n",
    "| Fim Vigência Infração              | Data do fim da vigência da infração              |\n",
    "| Medição Infração                   | Registro da medição realizada                    |\n",
    "| Descrição Especie Veículo          | Espécie do veículo                               |\n",
    "| Descrição Marca Veículo            | Marca do veículo                                 |\n",
    "| Hora Infração                      | Horário em que ocorreu a infração                |\n",
    "| Medição Considerada                | Medição considerada para o registro da infração  |\n",
    "| Excesso Verificado                 | Excesso verificado nas infrações                 |\n",
    "| Qtd Infrações                      | Quantidade de infrações (sempre 1)               |\n",
    "| Descrição Tipo Veículo             | Espécie do veículo                               |\n",
    "| Descrição Modelo Veiculo           | Modelo do veículo                                |"
   ]
  },
  {
   "cell_type": "markdown",
   "metadata": {},
   "source": [
    "## Bibliotecas"
   ]
  },
  {
   "cell_type": "code",
   "execution_count": 1,
   "metadata": {},
   "outputs": [],
   "source": [
    "# Manipulação de dados\n",
    "import numpy as np\n",
    "import pandas as pd\n",
    "import datetime\n",
    "\n",
    "# Visualização de dados\n",
    "import plotly.express as px\n",
    "import plotly.graph_objects as go\n",
    "from plotly.subplots import make_subplots\n",
    "\n",
    "# Ignorar avisos\n",
    "import warnings\n",
    "warnings.filterwarnings('ignore')"
   ]
  },
  {
   "cell_type": "markdown",
   "metadata": {},
   "source": [
    "## Leitura das bases"
   ]
  },
  {
   "cell_type": "code",
   "execution_count": 2,
   "metadata": {},
   "outputs": [],
   "source": [
    "# Mostrar mais colunas no display\n",
    "pd.set_option('display.max_columns', None)"
   ]
  },
  {
   "cell_type": "code",
   "execution_count": 3,
   "metadata": {},
   "outputs": [
    {
     "name": "stdout",
     "output_type": "stream",
     "text": [
      "2023-07-17 21:22:28.641919\n",
      "2023-07-17 21:25:37.915581\n"
     ]
    }
   ],
   "source": [
    "# Importa a base de dados em parquet\n",
    "df = pd.read_parquet('Base_Consolidada.parquet')"
   ]
  },
  {
   "cell_type": "markdown",
   "metadata": {},
   "source": [
    "## Estudo da base"
   ]
  },
  {
   "cell_type": "markdown",
   "metadata": {},
   "source": [
    "Inicialmente, vamos verificar a estrutura de dados da nossa base. Para isso, começaremos analizando as 5 primeiras e as 5 últimas entradas, analisando as colunas disponíveis e observando a quantidade de nulos"
   ]
  },
  {
   "cell_type": "code",
   "execution_count": 4,
   "metadata": {},
   "outputs": [
    {
     "data": {
      "text/html": [
       "<div>\n",
       "<style scoped>\n",
       "    .dataframe tbody tr th:only-of-type {\n",
       "        vertical-align: middle;\n",
       "    }\n",
       "\n",
       "    .dataframe tbody tr th {\n",
       "        vertical-align: top;\n",
       "    }\n",
       "\n",
       "    .dataframe thead th {\n",
       "        text-align: right;\n",
       "    }\n",
       "</style>\n",
       "<table border=\"1\" class=\"dataframe\">\n",
       "  <thead>\n",
       "    <tr style=\"text-align: right;\">\n",
       "      <th></th>\n",
       "      <th>Número do Auto</th>\n",
       "      <th>Data da Infração (DD/MM/AAAA)</th>\n",
       "      <th>Indicador de Abordagem</th>\n",
       "      <th>Assinatura do Auto</th>\n",
       "      <th>Indicador Veiculo Estrangeiro</th>\n",
       "      <th>Sentido Trafego</th>\n",
       "      <th>UF Placa</th>\n",
       "      <th>UF Infração</th>\n",
       "      <th>BR Infração</th>\n",
       "      <th>Km Infração</th>\n",
       "      <th>Município</th>\n",
       "      <th>Código da Infração</th>\n",
       "      <th>Descrição Abreviada Infração</th>\n",
       "      <th>Enquadramento da Infração</th>\n",
       "      <th>Início Vigência da Infração</th>\n",
       "      <th>Fim Vigência Infração</th>\n",
       "      <th>Medição Infração</th>\n",
       "      <th>Descrição Especie Veículo</th>\n",
       "      <th>Descrição Marca Veículo</th>\n",
       "      <th>Hora Infração</th>\n",
       "      <th>Medição Considerada</th>\n",
       "      <th>Excesso Verificado</th>\n",
       "      <th>Qtd Infrações</th>\n",
       "      <th>Descrição Tipo Veículo</th>\n",
       "      <th>Descrição Modelo Veiculo</th>\n",
       "    </tr>\n",
       "  </thead>\n",
       "  <tbody>\n",
       "    <tr>\n",
       "      <th>0</th>\n",
       "      <td>2b0d033ac754fc6</td>\n",
       "      <td>2020-01-16</td>\n",
       "      <td>S</td>\n",
       "      <td>N</td>\n",
       "      <td>N</td>\n",
       "      <td>C</td>\n",
       "      <td>'-1</td>\n",
       "      <td>RS</td>\n",
       "      <td>290</td>\n",
       "      <td>111</td>\n",
       "      <td>ELDORADO DO SUL</td>\n",
       "      <td>58350</td>\n",
       "      <td>Desobedecer às ordens emanadas da autorid comp...</td>\n",
       "      <td>195</td>\n",
       "      <td>2016-11-01</td>\n",
       "      <td>nan</td>\n",
       "      <td>Nenhuma</td>\n",
       "      <td>CARGA</td>\n",
       "      <td>VW</td>\n",
       "      <td>0</td>\n",
       "      <td>0</td>\n",
       "      <td>0</td>\n",
       "      <td>1</td>\n",
       "      <td>nan</td>\n",
       "      <td>nan</td>\n",
       "    </tr>\n",
       "    <tr>\n",
       "      <th>1</th>\n",
       "      <td>e1f8917e70ebf38</td>\n",
       "      <td>2020-01-18</td>\n",
       "      <td>S</td>\n",
       "      <td>N</td>\n",
       "      <td>N</td>\n",
       "      <td>C</td>\n",
       "      <td>'-1</td>\n",
       "      <td>RS</td>\n",
       "      <td>116</td>\n",
       "      <td>327</td>\n",
       "      <td>BARRA DO RIBEIRO</td>\n",
       "      <td>58350</td>\n",
       "      <td>Desobedecer às ordens emanadas da autorid comp...</td>\n",
       "      <td>195</td>\n",
       "      <td>2016-11-01</td>\n",
       "      <td>nan</td>\n",
       "      <td>Nenhuma</td>\n",
       "      <td>CARGA</td>\n",
       "      <td>OUTRA</td>\n",
       "      <td>0</td>\n",
       "      <td>0</td>\n",
       "      <td>0</td>\n",
       "      <td>1</td>\n",
       "      <td>nan</td>\n",
       "      <td>nan</td>\n",
       "    </tr>\n",
       "    <tr>\n",
       "      <th>2</th>\n",
       "      <td>dfd71eeac1fe06b</td>\n",
       "      <td>2020-01-25</td>\n",
       "      <td>C</td>\n",
       "      <td>N</td>\n",
       "      <td>N</td>\n",
       "      <td>D</td>\n",
       "      <td>RS</td>\n",
       "      <td>RS</td>\n",
       "      <td>116</td>\n",
       "      <td>292</td>\n",
       "      <td>ELDORADO DO SUL</td>\n",
       "      <td>65992</td>\n",
       "      <td>Conduzir o veículo registrado que não esteja d...</td>\n",
       "      <td>230 * V</td>\n",
       "      <td>2016-11-01</td>\n",
       "      <td>nan</td>\n",
       "      <td>Nenhuma</td>\n",
       "      <td>PASSAGEIRO</td>\n",
       "      <td>FORD</td>\n",
       "      <td>21</td>\n",
       "      <td>0</td>\n",
       "      <td>0</td>\n",
       "      <td>1</td>\n",
       "      <td>nan</td>\n",
       "      <td>nan</td>\n",
       "    </tr>\n",
       "    <tr>\n",
       "      <th>3</th>\n",
       "      <td>558685c5e4dbcca</td>\n",
       "      <td>2020-01-30</td>\n",
       "      <td>C</td>\n",
       "      <td>N</td>\n",
       "      <td>N</td>\n",
       "      <td>C</td>\n",
       "      <td>GO</td>\n",
       "      <td>MT</td>\n",
       "      <td>364</td>\n",
       "      <td>387</td>\n",
       "      <td>CUIABA</td>\n",
       "      <td>65991</td>\n",
       "      <td>Conduzir o veículo que não esteja registrado</td>\n",
       "      <td>230 * V</td>\n",
       "      <td>2016-11-01</td>\n",
       "      <td>nan</td>\n",
       "      <td>Nenhuma</td>\n",
       "      <td>TRAÇÃO</td>\n",
       "      <td>OUTRA</td>\n",
       "      <td>14</td>\n",
       "      <td>0</td>\n",
       "      <td>0</td>\n",
       "      <td>1</td>\n",
       "      <td>nan</td>\n",
       "      <td>nan</td>\n",
       "    </tr>\n",
       "    <tr>\n",
       "      <th>4</th>\n",
       "      <td>aac0a90d941bb4e</td>\n",
       "      <td>2020-01-31</td>\n",
       "      <td>C</td>\n",
       "      <td>N</td>\n",
       "      <td>N</td>\n",
       "      <td>C</td>\n",
       "      <td>RJ</td>\n",
       "      <td>RJ</td>\n",
       "      <td>101</td>\n",
       "      <td>65</td>\n",
       "      <td>CAMPOS DOS GOITACAZES</td>\n",
       "      <td>65992</td>\n",
       "      <td>Conduzir o veículo registrado que não esteja d...</td>\n",
       "      <td>230 * V</td>\n",
       "      <td>2016-11-01</td>\n",
       "      <td>nan</td>\n",
       "      <td>Nenhuma</td>\n",
       "      <td>PASSAGEIRO</td>\n",
       "      <td>OUTRA</td>\n",
       "      <td>15</td>\n",
       "      <td>0</td>\n",
       "      <td>0</td>\n",
       "      <td>1</td>\n",
       "      <td>nan</td>\n",
       "      <td>nan</td>\n",
       "    </tr>\n",
       "    <tr>\n",
       "      <th>...</th>\n",
       "      <td>...</td>\n",
       "      <td>...</td>\n",
       "      <td>...</td>\n",
       "      <td>...</td>\n",
       "      <td>...</td>\n",
       "      <td>...</td>\n",
       "      <td>...</td>\n",
       "      <td>...</td>\n",
       "      <td>...</td>\n",
       "      <td>...</td>\n",
       "      <td>...</td>\n",
       "      <td>...</td>\n",
       "      <td>...</td>\n",
       "      <td>...</td>\n",
       "      <td>...</td>\n",
       "      <td>...</td>\n",
       "      <td>...</td>\n",
       "      <td>...</td>\n",
       "      <td>...</td>\n",
       "      <td>...</td>\n",
       "      <td>...</td>\n",
       "      <td>...</td>\n",
       "      <td>...</td>\n",
       "      <td>...</td>\n",
       "      <td>...</td>\n",
       "    </tr>\n",
       "    <tr>\n",
       "      <th>14559354</th>\n",
       "      <td>60b97427863ac79</td>\n",
       "      <td>2020-12-31</td>\n",
       "      <td>S</td>\n",
       "      <td>N</td>\n",
       "      <td>N</td>\n",
       "      <td>C</td>\n",
       "      <td>nan</td>\n",
       "      <td>SP</td>\n",
       "      <td>381</td>\n",
       "      <td>88</td>\n",
       "      <td>SAO PAULO</td>\n",
       "      <td>52070</td>\n",
       "      <td>Dirigir sem atenção ou sem os cuidados indispe...</td>\n",
       "      <td>169</td>\n",
       "      <td>2016-11-01</td>\n",
       "      <td>nan</td>\n",
       "      <td>Nenhuma</td>\n",
       "      <td>PASSAGEIRO</td>\n",
       "      <td>YAMAHA</td>\n",
       "      <td>16</td>\n",
       "      <td>0</td>\n",
       "      <td>0</td>\n",
       "      <td>1</td>\n",
       "      <td>nan</td>\n",
       "      <td>nan</td>\n",
       "    </tr>\n",
       "    <tr>\n",
       "      <th>14559355</th>\n",
       "      <td>6aaf2f7cd1925a5</td>\n",
       "      <td>2020-12-31</td>\n",
       "      <td>S</td>\n",
       "      <td>N</td>\n",
       "      <td>N</td>\n",
       "      <td>C</td>\n",
       "      <td>nan</td>\n",
       "      <td>SP</td>\n",
       "      <td>381</td>\n",
       "      <td>88</td>\n",
       "      <td>SAO PAULO</td>\n",
       "      <td>67690</td>\n",
       "      <td>Conduzir o veíc c/ com defeito no sist de ilum...</td>\n",
       "      <td>230 XXII</td>\n",
       "      <td>2016-11-01</td>\n",
       "      <td>nan</td>\n",
       "      <td>Nenhuma</td>\n",
       "      <td>PASSAGEIRO</td>\n",
       "      <td>FIAT</td>\n",
       "      <td>16</td>\n",
       "      <td>0</td>\n",
       "      <td>0</td>\n",
       "      <td>1</td>\n",
       "      <td>nan</td>\n",
       "      <td>nan</td>\n",
       "    </tr>\n",
       "    <tr>\n",
       "      <th>14559356</th>\n",
       "      <td>5f77ab593b62b93</td>\n",
       "      <td>2020-12-31</td>\n",
       "      <td>C</td>\n",
       "      <td>N</td>\n",
       "      <td>N</td>\n",
       "      <td>C</td>\n",
       "      <td>nan</td>\n",
       "      <td>MG</td>\n",
       "      <td>381</td>\n",
       "      <td>218</td>\n",
       "      <td>NAQUE</td>\n",
       "      <td>66450</td>\n",
       "      <td>Conduzir o veículo com equip obrigatório em de...</td>\n",
       "      <td>230 X</td>\n",
       "      <td>2016-11-01</td>\n",
       "      <td>nan</td>\n",
       "      <td>Nenhuma</td>\n",
       "      <td>CARGA</td>\n",
       "      <td>FORD</td>\n",
       "      <td>6</td>\n",
       "      <td>0</td>\n",
       "      <td>0</td>\n",
       "      <td>1</td>\n",
       "      <td>nan</td>\n",
       "      <td>nan</td>\n",
       "    </tr>\n",
       "    <tr>\n",
       "      <th>14559357</th>\n",
       "      <td>fe3d0ab71ecfba9</td>\n",
       "      <td>2020-12-31</td>\n",
       "      <td>C</td>\n",
       "      <td>N</td>\n",
       "      <td>N</td>\n",
       "      <td>C</td>\n",
       "      <td>nan</td>\n",
       "      <td>MG</td>\n",
       "      <td>381</td>\n",
       "      <td>218</td>\n",
       "      <td>NAQUE</td>\n",
       "      <td>66450</td>\n",
       "      <td>Conduzir o veículo com equip obrigatório em de...</td>\n",
       "      <td>230 X</td>\n",
       "      <td>2016-11-01</td>\n",
       "      <td>nan</td>\n",
       "      <td>Nenhuma</td>\n",
       "      <td>PASSAGEIRO</td>\n",
       "      <td>MERCEDES BENZ</td>\n",
       "      <td>6</td>\n",
       "      <td>0</td>\n",
       "      <td>0</td>\n",
       "      <td>1</td>\n",
       "      <td>nan</td>\n",
       "      <td>nan</td>\n",
       "    </tr>\n",
       "    <tr>\n",
       "      <th>14559358</th>\n",
       "      <td>a16f601ec68f19e</td>\n",
       "      <td>2020-12-31</td>\n",
       "      <td>C</td>\n",
       "      <td>N</td>\n",
       "      <td>N</td>\n",
       "      <td>C</td>\n",
       "      <td>nan</td>\n",
       "      <td>MG</td>\n",
       "      <td>381</td>\n",
       "      <td>218</td>\n",
       "      <td>NAQUE</td>\n",
       "      <td>66880</td>\n",
       "      <td>Conduzir veíc c/ registrador instan inalt de v...</td>\n",
       "      <td>230 XIV</td>\n",
       "      <td>2016-11-01</td>\n",
       "      <td>nan</td>\n",
       "      <td>Nenhuma</td>\n",
       "      <td>PASSAGEIRO</td>\n",
       "      <td>MERCEDES BENZ</td>\n",
       "      <td>6</td>\n",
       "      <td>0</td>\n",
       "      <td>0</td>\n",
       "      <td>1</td>\n",
       "      <td>nan</td>\n",
       "      <td>nan</td>\n",
       "    </tr>\n",
       "  </tbody>\n",
       "</table>\n",
       "<p>14559359 rows × 25 columns</p>\n",
       "</div>"
      ],
      "text/plain": [
       "           Número do Auto Data da Infração (DD/MM/AAAA)  \\\n",
       "0         2b0d033ac754fc6                    2020-01-16   \n",
       "1         e1f8917e70ebf38                    2020-01-18   \n",
       "2         dfd71eeac1fe06b                    2020-01-25   \n",
       "3         558685c5e4dbcca                    2020-01-30   \n",
       "4         aac0a90d941bb4e                    2020-01-31   \n",
       "...                   ...                           ...   \n",
       "14559354  60b97427863ac79                    2020-12-31   \n",
       "14559355  6aaf2f7cd1925a5                    2020-12-31   \n",
       "14559356  5f77ab593b62b93                    2020-12-31   \n",
       "14559357  fe3d0ab71ecfba9                    2020-12-31   \n",
       "14559358  a16f601ec68f19e                    2020-12-31   \n",
       "\n",
       "         Indicador de Abordagem Assinatura do Auto  \\\n",
       "0                             S                  N   \n",
       "1                             S                  N   \n",
       "2                             C                  N   \n",
       "3                             C                  N   \n",
       "4                             C                  N   \n",
       "...                         ...                ...   \n",
       "14559354                      S                  N   \n",
       "14559355                      S                  N   \n",
       "14559356                      C                  N   \n",
       "14559357                      C                  N   \n",
       "14559358                      C                  N   \n",
       "\n",
       "         Indicador Veiculo Estrangeiro Sentido Trafego UF Placa UF Infração  \\\n",
       "0                                    N               C      '-1          RS   \n",
       "1                                    N               C      '-1          RS   \n",
       "2                                    N               D       RS          RS   \n",
       "3                                    N               C       GO          MT   \n",
       "4                                    N               C       RJ          RJ   \n",
       "...                                ...             ...      ...         ...   \n",
       "14559354                             N               C      nan          SP   \n",
       "14559355                             N               C      nan          SP   \n",
       "14559356                             N               C      nan          MG   \n",
       "14559357                             N               C      nan          MG   \n",
       "14559358                             N               C      nan          MG   \n",
       "\n",
       "         BR Infração Km Infração              Município Código da Infração  \\\n",
       "0                290         111        ELDORADO DO SUL              58350   \n",
       "1                116         327       BARRA DO RIBEIRO              58350   \n",
       "2                116         292        ELDORADO DO SUL              65992   \n",
       "3                364         387                 CUIABA              65991   \n",
       "4                101          65  CAMPOS DOS GOITACAZES              65992   \n",
       "...              ...         ...                    ...                ...   \n",
       "14559354         381          88              SAO PAULO              52070   \n",
       "14559355         381          88              SAO PAULO              67690   \n",
       "14559356         381         218                  NAQUE              66450   \n",
       "14559357         381         218                  NAQUE              66450   \n",
       "14559358         381         218                  NAQUE              66880   \n",
       "\n",
       "                               Descrição Abreviada Infração  \\\n",
       "0         Desobedecer às ordens emanadas da autorid comp...   \n",
       "1         Desobedecer às ordens emanadas da autorid comp...   \n",
       "2         Conduzir o veículo registrado que não esteja d...   \n",
       "3              Conduzir o veículo que não esteja registrado   \n",
       "4         Conduzir o veículo registrado que não esteja d...   \n",
       "...                                                     ...   \n",
       "14559354  Dirigir sem atenção ou sem os cuidados indispe...   \n",
       "14559355  Conduzir o veíc c/ com defeito no sist de ilum...   \n",
       "14559356  Conduzir o veículo com equip obrigatório em de...   \n",
       "14559357  Conduzir o veículo com equip obrigatório em de...   \n",
       "14559358  Conduzir veíc c/ registrador instan inalt de v...   \n",
       "\n",
       "         Enquadramento da Infração Início Vigência da Infração  \\\n",
       "0                              195                  2016-11-01   \n",
       "1                              195                  2016-11-01   \n",
       "2                          230 * V                  2016-11-01   \n",
       "3                          230 * V                  2016-11-01   \n",
       "4                          230 * V                  2016-11-01   \n",
       "...                            ...                         ...   \n",
       "14559354                       169                  2016-11-01   \n",
       "14559355                  230 XXII                  2016-11-01   \n",
       "14559356                     230 X                  2016-11-01   \n",
       "14559357                     230 X                  2016-11-01   \n",
       "14559358                   230 XIV                  2016-11-01   \n",
       "\n",
       "         Fim Vigência Infração Medição Infração Descrição Especie Veículo  \\\n",
       "0                          nan          Nenhuma                     CARGA   \n",
       "1                          nan          Nenhuma                     CARGA   \n",
       "2                          nan          Nenhuma                PASSAGEIRO   \n",
       "3                          nan          Nenhuma                    TRAÇÃO   \n",
       "4                          nan          Nenhuma                PASSAGEIRO   \n",
       "...                        ...              ...                       ...   \n",
       "14559354                   nan          Nenhuma                PASSAGEIRO   \n",
       "14559355                   nan          Nenhuma                PASSAGEIRO   \n",
       "14559356                   nan          Nenhuma                     CARGA   \n",
       "14559357                   nan          Nenhuma                PASSAGEIRO   \n",
       "14559358                   nan          Nenhuma                PASSAGEIRO   \n",
       "\n",
       "         Descrição Marca Veículo Hora Infração Medição Considerada  \\\n",
       "0                             VW             0                   0   \n",
       "1                          OUTRA             0                   0   \n",
       "2                           FORD            21                   0   \n",
       "3                          OUTRA            14                   0   \n",
       "4                          OUTRA            15                   0   \n",
       "...                          ...           ...                 ...   \n",
       "14559354                  YAMAHA            16                   0   \n",
       "14559355                    FIAT            16                   0   \n",
       "14559356                    FORD             6                   0   \n",
       "14559357           MERCEDES BENZ             6                   0   \n",
       "14559358           MERCEDES BENZ             6                   0   \n",
       "\n",
       "         Excesso Verificado Qtd Infrações Descrição Tipo Veículo  \\\n",
       "0                         0             1                    nan   \n",
       "1                         0             1                    nan   \n",
       "2                         0             1                    nan   \n",
       "3                         0             1                    nan   \n",
       "4                         0             1                    nan   \n",
       "...                     ...           ...                    ...   \n",
       "14559354                  0             1                    nan   \n",
       "14559355                  0             1                    nan   \n",
       "14559356                  0             1                    nan   \n",
       "14559357                  0             1                    nan   \n",
       "14559358                  0             1                    nan   \n",
       "\n",
       "         Descrição Modelo Veiculo  \n",
       "0                             nan  \n",
       "1                             nan  \n",
       "2                             nan  \n",
       "3                             nan  \n",
       "4                             nan  \n",
       "...                           ...  \n",
       "14559354                      nan  \n",
       "14559355                      nan  \n",
       "14559356                      nan  \n",
       "14559357                      nan  \n",
       "14559358                      nan  \n",
       "\n",
       "[14559359 rows x 25 columns]"
      ]
     },
     "metadata": {},
     "output_type": "display_data"
    }
   ],
   "source": [
    "# Visualizar a base que importamos\n",
    "display(df)"
   ]
  },
  {
   "cell_type": "code",
   "execution_count": 5,
   "metadata": {},
   "outputs": [
    {
     "data": {
      "text/plain": [
       "Index(['Número do Auto', 'Data da Infração (DD/MM/AAAA)',\n",
       "       'Indicador de Abordagem', 'Assinatura do Auto',\n",
       "       'Indicador Veiculo Estrangeiro', 'Sentido Trafego', 'UF Placa',\n",
       "       'UF Infração', 'BR Infração', 'Km Infração', 'Município',\n",
       "       'Código da Infração', 'Descrição Abreviada Infração',\n",
       "       'Enquadramento da Infração', 'Início Vigência da Infração',\n",
       "       'Fim Vigência Infração', 'Medição Infração',\n",
       "       'Descrição Especie Veículo', 'Descrição Marca Veículo', 'Hora Infração',\n",
       "       'Medição Considerada', 'Excesso Verificado', 'Qtd Infrações',\n",
       "       'Descrição Tipo Veículo', 'Descrição Modelo Veiculo'],\n",
       "      dtype='object')"
      ]
     },
     "execution_count": 5,
     "metadata": {},
     "output_type": "execute_result"
    }
   ],
   "source": [
    "# Exibe colunas disponíveis\n",
    "df.columns"
   ]
  },
  {
   "cell_type": "code",
   "execution_count": 6,
   "metadata": {},
   "outputs": [
    {
     "name": "stdout",
     "output_type": "stream",
     "text": [
      "<class 'pandas.core.frame.DataFrame'>\n",
      "RangeIndex: 14559359 entries, 0 to 14559358\n",
      "Data columns (total 25 columns):\n",
      " #   Column                         Dtype \n",
      "---  ------                         ----- \n",
      " 0   Número do Auto                 object\n",
      " 1   Data da Infração (DD/MM/AAAA)  object\n",
      " 2   Indicador de Abordagem         object\n",
      " 3   Assinatura do Auto             object\n",
      " 4   Indicador Veiculo Estrangeiro  object\n",
      " 5   Sentido Trafego                object\n",
      " 6   UF Placa                       object\n",
      " 7   UF Infração                    object\n",
      " 8   BR Infração                    object\n",
      " 9   Km Infração                    object\n",
      " 10  Município                      object\n",
      " 11  Código da Infração             object\n",
      " 12  Descrição Abreviada Infração   object\n",
      " 13  Enquadramento da Infração      object\n",
      " 14  Início Vigência da Infração    object\n",
      " 15  Fim Vigência Infração          object\n",
      " 16  Medição Infração               object\n",
      " 17  Descrição Especie Veículo      object\n",
      " 18  Descrição Marca Veículo        object\n",
      " 19  Hora Infração                  object\n",
      " 20  Medição Considerada            object\n",
      " 21  Excesso Verificado             object\n",
      " 22  Qtd Infrações                  object\n",
      " 23  Descrição Tipo Veículo         object\n",
      " 24  Descrição Modelo Veiculo       object\n",
      "dtypes: object(25)\n",
      "memory usage: 2.7+ GB\n"
     ]
    }
   ],
   "source": [
    "# Verifica tipo de dados\n",
    "df.info()"
   ]
  },
  {
   "cell_type": "code",
   "execution_count": 11,
   "metadata": {},
   "outputs": [
    {
     "data": {
      "text/plain": [
       "Número do Auto                   0\n",
       "Data da Infração (DD/MM/AAAA)    0\n",
       "Indicador de Abordagem           0\n",
       "Assinatura do Auto               0\n",
       "Indicador Veiculo Estrangeiro    0\n",
       "Sentido Trafego                  0\n",
       "UF Placa                         0\n",
       "UF Infração                      0\n",
       "BR Infração                      0\n",
       "Km Infração                      0\n",
       "Município                        0\n",
       "Código da Infração               0\n",
       "Descrição Abreviada Infração     0\n",
       "Enquadramento da Infração        0\n",
       "Início Vigência da Infração      0\n",
       "Fim Vigência Infração            0\n",
       "Medição Infração                 0\n",
       "Descrição Especie Veículo        0\n",
       "Descrição Marca Veículo          0\n",
       "Hora Infração                    0\n",
       "Medição Considerada              0\n",
       "Excesso Verificado               0\n",
       "Qtd Infrações                    0\n",
       "Descrição Tipo Veículo           0\n",
       "Descrição Modelo Veiculo         0\n",
       "dtype: int64"
      ]
     },
     "execution_count": 11,
     "metadata": {},
     "output_type": "execute_result"
    }
   ],
   "source": [
    "# Verifica a existência de valores nulos\n",
    "df.isnull().sum()"
   ]
  },
  {
   "cell_type": "code",
   "execution_count": 12,
   "metadata": {},
   "outputs": [
    {
     "data": {
      "text/plain": [
       "Número do Auto                   14559326\n",
       "Data da Infração (DD/MM/AAAA)        1096\n",
       "Indicador de Abordagem                  2\n",
       "Assinatura do Auto                      2\n",
       "Indicador Veiculo Estrangeiro           4\n",
       "Sentido Trafego                         3\n",
       "UF Placa                               91\n",
       "UF Infração                            27\n",
       "BR Infração                           132\n",
       "Km Infração                          1261\n",
       "Município                            2355\n",
       "Código da Infração                    389\n",
       "Descrição Abreviada Infração          398\n",
       "Enquadramento da Infração             246\n",
       "Início Vigência da Infração             9\n",
       "Fim Vigência Infração                   2\n",
       "Medição Infração                        5\n",
       "Descrição Especie Veículo              14\n",
       "Descrição Marca Veículo             20570\n",
       "Hora Infração                          24\n",
       "Medição Considerada                 21401\n",
       "Excesso Verificado                  13985\n",
       "Qtd Infrações                           2\n",
       "Descrição Tipo Veículo                 24\n",
       "Descrição Modelo Veiculo            25720\n",
       "dtype: int64"
      ]
     },
     "execution_count": 12,
     "metadata": {},
     "output_type": "execute_result"
    }
   ],
   "source": [
    "# Verifica a quantidade de valores únicos\n",
    "df.nunique()"
   ]
  },
  {
   "cell_type": "markdown",
   "metadata": {},
   "source": [
    "Observações iniciais:\n",
    "\n",
    "• Observamos aqui que a base possui 25 colunas e 14.559.359 linhas (que também representa a quantidade de infrações nesses três anos de análise).\n",
    "\n",
    "• Ainda, vemos que todas as colunas estão definidas como \"object\", requerendo conversão de tipos.\n",
    "\n",
    "• Sobre os valores nulos, observamos que todos estão com zero, mas isso provavelmente é uma interpretação incorreta, já que a base parece considerar o valor \"nan\" como string. Portanto, é importante tratar esses valores adequadamente, convertendo-os para o formato nulo (NaN) reconhecido pelo pandas.\n",
    "\n",
    "• Também interessante de notar é que a coluna \"Número do Auto\", que representa uma espécie de identificador da infração, tem menos valores únicos que o total de linha. Isso sugere a possibilidade de existirem duplicatas ou repetições na coluna. É essencial investigar e tratar esses casos para garantir a integridade dos dados e a precisão das análises realizadas.\n"
   ]
  },
  {
   "cell_type": "markdown",
   "metadata": {},
   "source": [
    "## Tratamento da base"
   ]
  },
  {
   "cell_type": "code",
   "execution_count": 14,
   "metadata": {},
   "outputs": [],
   "source": [
    "# Converte \"nan\" que está como string, para valor nulo\n",
    "df = df.replace('nan', np.nan)"
   ]
  },
  {
   "cell_type": "code",
   "execution_count": 15,
   "metadata": {},
   "outputs": [
    {
     "data": {
      "text/plain": [
       "Número do Auto                          0\n",
       "Data da Infração (DD/MM/AAAA)           0\n",
       "Indicador de Abordagem                  0\n",
       "Assinatura do Auto                      0\n",
       "Indicador Veiculo Estrangeiro         744\n",
       "Sentido Trafego                         0\n",
       "UF Placa                          9940077\n",
       "UF Infração                             0\n",
       "BR Infração                             0\n",
       "Km Infração                             0\n",
       "Município                               0\n",
       "Código da Infração                      0\n",
       "Descrição Abreviada Infração            0\n",
       "Enquadramento da Infração               0\n",
       "Início Vigência da Infração             0\n",
       "Fim Vigência Infração            14559358\n",
       "Medição Infração                        0\n",
       "Descrição Especie Veículo             794\n",
       "Descrição Marca Veículo              1792\n",
       "Hora Infração                           0\n",
       "Medição Considerada                     0\n",
       "Excesso Verificado                      0\n",
       "Qtd Infrações                           0\n",
       "Descrição Tipo Veículo           10434367\n",
       "Descrição Modelo Veiculo         10423836\n",
       "dtype: int64"
      ]
     },
     "execution_count": 15,
     "metadata": {},
     "output_type": "execute_result"
    }
   ],
   "source": [
    "# Verifica novamente a existência de valores nulos\n",
    "df.isnull().sum()"
   ]
  },
  {
   "cell_type": "code",
   "execution_count": 16,
   "metadata": {},
   "outputs": [],
   "source": [
    "# Converte data\n",
    "df['Data da Infração (DD/MM/AAAA)'] = pd.to_datetime( df['Data da Infração (DD/MM/AAAA)'])"
   ]
  },
  {
   "cell_type": "code",
   "execution_count": 17,
   "metadata": {},
   "outputs": [
    {
     "name": "stdout",
     "output_type": "stream",
     "text": [
      "Data inicial: 2020-01-01\n",
      "Data final: 2022-12-31\n"
     ]
    }
   ],
   "source": [
    "# Verificar período da base\n",
    "inicio = df['Data da Infração (DD/MM/AAAA)'].dt.date.min()\n",
    "print(f'Data inicial: {inicio}')\n",
    "\n",
    "fim = df['Data da Infração (DD/MM/AAAA)'].dt.date.max()\n",
    "print(f'Data final: {fim}')"
   ]
  },
  {
   "cell_type": "code",
   "execution_count": null,
   "metadata": {},
   "outputs": [],
   "source": [
    "a"
   ]
  },
  {
   "cell_type": "code",
   "execution_count": null,
   "metadata": {},
   "outputs": [],
   "source": [
    "#Quais tipos de veículos sofrem mais infrações?"
   ]
  },
  {
   "cell_type": "code",
   "execution_count": 15,
   "metadata": {},
   "outputs": [
    {
     "name": "stdout",
     "output_type": "stream",
     "text": [
      "Descrição Tipo Veículo\n",
      "AUTOMOVEL          1672259\n",
      "CAMINHAO            536740\n",
      "CAMINHONETE         528558\n",
      "MOTOCICLETA         446895\n",
      "CAMINHAO TRATOR     373484\n",
      "Name: count, dtype: int64\n"
     ]
    }
   ],
   "source": [
    "tipos_de_veiculos = df['Descrição Tipo Veículo'].value_counts(dropna = True).nlargest(5)\n",
    "\n",
    "print(tipos_de_veiculos)"
   ]
  },
  {
   "cell_type": "code",
   "execution_count": null,
   "metadata": {},
   "outputs": [],
   "source": [
    "# Qual o tipo de infração mais comum?"
   ]
  },
  {
   "cell_type": "code",
   "execution_count": 16,
   "metadata": {},
   "outputs": [
    {
     "name": "stdout",
     "output_type": "stream",
     "text": [
      "Descrição Abreviada Infração\n",
      "Transitar em velocidade superior à máxima permitida em até 20%                     5407392\n",
      "Transitar em velocidade superior à máxima permitida em mais de 20% até 50%          817103\n",
      "Ultrapassar pela contramão linha de divisão de fluxos opostos, contínua amarela     692306\n",
      "Deixar o condutor de usar o cinto segurança                                         497094\n",
      "Conduzir o veículo registrado que não esteja devidamente licenciado                 493663\n",
      "Name: count, dtype: int64\n"
     ]
    }
   ],
   "source": [
    "infracoes = df['Descrição Abreviada Infração'].value_counts(dropna = True).nlargest(5)\n",
    "\n",
    "print(infracoes)"
   ]
  },
  {
   "cell_type": "code",
   "execution_count": null,
   "metadata": {},
   "outputs": [],
   "source": [
    "# Quais os estados com maior ocorrência de infração?"
   ]
  },
  {
   "cell_type": "code",
   "execution_count": 17,
   "metadata": {},
   "outputs": [
    {
     "name": "stdout",
     "output_type": "stream",
     "text": [
      "UF Infração\n",
      "RJ    2263220\n",
      "MG    1799596\n",
      "SP    1554159\n",
      "BA    1282636\n",
      "MS    1008968\n",
      "Name: count, dtype: int64\n"
     ]
    }
   ],
   "source": [
    "estados = df['UF Infração'].value_counts(dropna = True).nlargest(5)\n",
    "\n",
    "print(estados)"
   ]
  },
  {
   "cell_type": "code",
   "execution_count": null,
   "metadata": {},
   "outputs": [],
   "source": [
    "# Qual o mês mais comum de infrações?\n",
    "mes = \n",
    "mes = df['UF Infração'].value_counts(dropna = True).nlargest(5)"
   ]
  },
  {
   "cell_type": "code",
   "execution_count": 36,
   "metadata": {},
   "outputs": [
    {
     "data": {
      "text/html": [
       "<div>\n",
       "<style scoped>\n",
       "    .dataframe tbody tr th:only-of-type {\n",
       "        vertical-align: middle;\n",
       "    }\n",
       "\n",
       "    .dataframe tbody tr th {\n",
       "        vertical-align: top;\n",
       "    }\n",
       "\n",
       "    .dataframe thead th {\n",
       "        text-align: right;\n",
       "    }\n",
       "</style>\n",
       "<table border=\"1\" class=\"dataframe\">\n",
       "  <thead>\n",
       "    <tr style=\"text-align: right;\">\n",
       "      <th></th>\n",
       "      <th>Número do Auto</th>\n",
       "      <th>Data da Infração (DD/MM/AAAA)</th>\n",
       "      <th>Indicador de Abordagem</th>\n",
       "      <th>Assinatura do Auto</th>\n",
       "      <th>Sentido Trafego</th>\n",
       "      <th>UF Infração</th>\n",
       "      <th>BR Infração</th>\n",
       "      <th>Km Infração</th>\n",
       "      <th>Município</th>\n",
       "      <th>Indicador Veiculo Estrangeiro</th>\n",
       "      <th>UF Placa</th>\n",
       "      <th>Descrição Especie Veículo</th>\n",
       "      <th>Descrição Marca Veículo</th>\n",
       "      <th>Descrição Tipo Veículo</th>\n",
       "      <th>Descrição Modelo Veiculo</th>\n",
       "      <th>Código da Infração</th>\n",
       "      <th>Descrição Abreviada Infração</th>\n",
       "      <th>Enquadramento da Infração</th>\n",
       "      <th>Início Vigência da Infração</th>\n",
       "      <th>Fim Vigência Infração</th>\n",
       "      <th>Medição Infração</th>\n",
       "      <th>Hora Infração</th>\n",
       "      <th>Medição Considerada</th>\n",
       "      <th>Excesso Verificado</th>\n",
       "      <th>Qtd Infrações</th>\n",
       "    </tr>\n",
       "  </thead>\n",
       "  <tbody>\n",
       "    <tr>\n",
       "      <th>0</th>\n",
       "      <td>61eabcb9b7e0679</td>\n",
       "      <td>2022-01-14</td>\n",
       "      <td>C</td>\n",
       "      <td>S</td>\n",
       "      <td>D</td>\n",
       "      <td>MA</td>\n",
       "      <td>230</td>\n",
       "      <td>404</td>\n",
       "      <td>BALSAS</td>\n",
       "      <td>N</td>\n",
       "      <td>MA</td>\n",
       "      <td>ESPECIAL</td>\n",
       "      <td>FIAT/STRADA ENDURANCE CD</td>\n",
       "      <td>CAMINHONETE</td>\n",
       "      <td>STRADA ENDURANCE CD</td>\n",
       "      <td>65991</td>\n",
       "      <td>Conduzir o veículo que não esteja registrado</td>\n",
       "      <td>230 * V</td>\n",
       "      <td>2016-11-01</td>\n",
       "      <td>nan</td>\n",
       "      <td>Nenhuma</td>\n",
       "      <td>16</td>\n",
       "      <td>0</td>\n",
       "      <td>0</td>\n",
       "      <td>1</td>\n",
       "    </tr>\n",
       "    <tr>\n",
       "      <th>1</th>\n",
       "      <td>d97a34e658d2e6c</td>\n",
       "      <td>2022-01-30</td>\n",
       "      <td>C</td>\n",
       "      <td>N</td>\n",
       "      <td>D</td>\n",
       "      <td>MA</td>\n",
       "      <td>230</td>\n",
       "      <td>413</td>\n",
       "      <td>BALSAS</td>\n",
       "      <td>N</td>\n",
       "      <td>GO</td>\n",
       "      <td>PASSAGEIRO</td>\n",
       "      <td>VW/GOL 1.0</td>\n",
       "      <td>AUTOMOVEL</td>\n",
       "      <td>VW/GOL 1.0</td>\n",
       "      <td>50100</td>\n",
       "      <td>Dirigir veículo sem possuir CNH/PPD/ACC</td>\n",
       "      <td>162 I</td>\n",
       "      <td>2016-11-01</td>\n",
       "      <td>nan</td>\n",
       "      <td>Nenhuma</td>\n",
       "      <td>17</td>\n",
       "      <td>0</td>\n",
       "      <td>0</td>\n",
       "      <td>1</td>\n",
       "    </tr>\n",
       "    <tr>\n",
       "      <th>2</th>\n",
       "      <td>397168b4d993a8f</td>\n",
       "      <td>2022-01-30</td>\n",
       "      <td>C</td>\n",
       "      <td>N</td>\n",
       "      <td>D</td>\n",
       "      <td>MA</td>\n",
       "      <td>230</td>\n",
       "      <td>413</td>\n",
       "      <td>BALSAS</td>\n",
       "      <td>N</td>\n",
       "      <td>GO</td>\n",
       "      <td>PASSAGEIRO</td>\n",
       "      <td>VW/GOL 1.0</td>\n",
       "      <td>AUTOMOVEL</td>\n",
       "      <td>VW/GOL 1.0</td>\n",
       "      <td>51180</td>\n",
       "      <td>Permitir posse/condução do veículo a pessoa se...</td>\n",
       "      <td>164 c/c 162 I</td>\n",
       "      <td>2016-11-01</td>\n",
       "      <td>nan</td>\n",
       "      <td>Nenhuma</td>\n",
       "      <td>17</td>\n",
       "      <td>0</td>\n",
       "      <td>0</td>\n",
       "      <td>1</td>\n",
       "    </tr>\n",
       "    <tr>\n",
       "      <th>3</th>\n",
       "      <td>a86157cf8d604d0</td>\n",
       "      <td>2022-01-21</td>\n",
       "      <td>C</td>\n",
       "      <td>N</td>\n",
       "      <td>D</td>\n",
       "      <td>PR</td>\n",
       "      <td>277</td>\n",
       "      <td>31</td>\n",
       "      <td>MORRETES</td>\n",
       "      <td>N</td>\n",
       "      <td>PR</td>\n",
       "      <td>PASSAGEIRO</td>\n",
       "      <td>I/BMW R1200 GS</td>\n",
       "      <td>MOTOCICLETA</td>\n",
       "      <td>I/BMW R1200 GS</td>\n",
       "      <td>65992</td>\n",
       "      <td>Conduzir o veículo registrado que não esteja d...</td>\n",
       "      <td>230 * V</td>\n",
       "      <td>2016-11-01</td>\n",
       "      <td>nan</td>\n",
       "      <td>Nenhuma</td>\n",
       "      <td>12</td>\n",
       "      <td>0</td>\n",
       "      <td>0</td>\n",
       "      <td>1</td>\n",
       "    </tr>\n",
       "    <tr>\n",
       "      <th>4</th>\n",
       "      <td>1302ba8ba04bb2f</td>\n",
       "      <td>2022-01-24</td>\n",
       "      <td>C</td>\n",
       "      <td>S</td>\n",
       "      <td>D</td>\n",
       "      <td>MG</td>\n",
       "      <td>40</td>\n",
       "      <td>554</td>\n",
       "      <td>NOVA LIMA</td>\n",
       "      <td>N</td>\n",
       "      <td>RJ</td>\n",
       "      <td>MISTO</td>\n",
       "      <td>I/TOYOTA HILUX SWSRXA4FD</td>\n",
       "      <td>UTILITARIO</td>\n",
       "      <td>I/TOYOTA HILUX SWSRXA4FD</td>\n",
       "      <td>65991</td>\n",
       "      <td>Conduzir o veículo que não esteja registrado</td>\n",
       "      <td>230 * V</td>\n",
       "      <td>2016-11-01</td>\n",
       "      <td>nan</td>\n",
       "      <td>Nenhuma</td>\n",
       "      <td>17</td>\n",
       "      <td>0</td>\n",
       "      <td>0</td>\n",
       "      <td>1</td>\n",
       "    </tr>\n",
       "    <tr>\n",
       "      <th>...</th>\n",
       "      <td>...</td>\n",
       "      <td>...</td>\n",
       "      <td>...</td>\n",
       "      <td>...</td>\n",
       "      <td>...</td>\n",
       "      <td>...</td>\n",
       "      <td>...</td>\n",
       "      <td>...</td>\n",
       "      <td>...</td>\n",
       "      <td>...</td>\n",
       "      <td>...</td>\n",
       "      <td>...</td>\n",
       "      <td>...</td>\n",
       "      <td>...</td>\n",
       "      <td>...</td>\n",
       "      <td>...</td>\n",
       "      <td>...</td>\n",
       "      <td>...</td>\n",
       "      <td>...</td>\n",
       "      <td>...</td>\n",
       "      <td>...</td>\n",
       "      <td>...</td>\n",
       "      <td>...</td>\n",
       "      <td>...</td>\n",
       "      <td>...</td>\n",
       "    </tr>\n",
       "    <tr>\n",
       "      <th>4135518</th>\n",
       "      <td>088d6554e5d4b31</td>\n",
       "      <td>2022-12-30</td>\n",
       "      <td>S</td>\n",
       "      <td>N</td>\n",
       "      <td>C</td>\n",
       "      <td>SC</td>\n",
       "      <td>101</td>\n",
       "      <td>143</td>\n",
       "      <td>ITAPEMA</td>\n",
       "      <td>N</td>\n",
       "      <td>'-1</td>\n",
       "      <td>PASSAGEIRO</td>\n",
       "      <td>VW/GOL 1.0</td>\n",
       "      <td>AUTOMOVEL</td>\n",
       "      <td>GOL 1.0</td>\n",
       "      <td>72340</td>\n",
       "      <td>Em movimento, deixar de manter acesa a luz bai...</td>\n",
       "      <td>250 I a</td>\n",
       "      <td>2016-11-01</td>\n",
       "      <td>nan</td>\n",
       "      <td>Nenhuma</td>\n",
       "      <td>23</td>\n",
       "      <td>0</td>\n",
       "      <td>0</td>\n",
       "      <td>1</td>\n",
       "    </tr>\n",
       "    <tr>\n",
       "      <th>4135519</th>\n",
       "      <td>f7bef78f6d9dbe3</td>\n",
       "      <td>2022-12-30</td>\n",
       "      <td>S</td>\n",
       "      <td>N</td>\n",
       "      <td>C</td>\n",
       "      <td>SC</td>\n",
       "      <td>101</td>\n",
       "      <td>121</td>\n",
       "      <td>ITAJAI</td>\n",
       "      <td>N</td>\n",
       "      <td>'-1</td>\n",
       "      <td>ESPECIAL</td>\n",
       "      <td>I/VW AMAROK CD 4X4 SE</td>\n",
       "      <td>CAMINHONETE</td>\n",
       "      <td>AMAROK CD 4X4 SE</td>\n",
       "      <td>69473</td>\n",
       "      <td>Conduzir carga nas partes externas do veículo</td>\n",
       "      <td>235</td>\n",
       "      <td>2016-11-01</td>\n",
       "      <td>nan</td>\n",
       "      <td>Nenhuma</td>\n",
       "      <td>14</td>\n",
       "      <td>0</td>\n",
       "      <td>0</td>\n",
       "      <td>1</td>\n",
       "    </tr>\n",
       "    <tr>\n",
       "      <th>4135520</th>\n",
       "      <td>f9f49ef8cd98a4d</td>\n",
       "      <td>2022-12-30</td>\n",
       "      <td>S</td>\n",
       "      <td>N</td>\n",
       "      <td>C</td>\n",
       "      <td>SC</td>\n",
       "      <td>101</td>\n",
       "      <td>136</td>\n",
       "      <td>BALNEARIO CAMBORIU</td>\n",
       "      <td>N</td>\n",
       "      <td>'-1</td>\n",
       "      <td>PASSAGEIRO</td>\n",
       "      <td>IMP/WILLYS OVERLAND</td>\n",
       "      <td>AUTOMOVEL</td>\n",
       "      <td>WILLYS OVERLAND</td>\n",
       "      <td>69473</td>\n",
       "      <td>Conduzir carga nas partes externas do veículo</td>\n",
       "      <td>235</td>\n",
       "      <td>2016-11-01</td>\n",
       "      <td>nan</td>\n",
       "      <td>Nenhuma</td>\n",
       "      <td>17</td>\n",
       "      <td>0</td>\n",
       "      <td>0</td>\n",
       "      <td>1</td>\n",
       "    </tr>\n",
       "    <tr>\n",
       "      <th>4135521</th>\n",
       "      <td>b81dbbc9d21656e</td>\n",
       "      <td>2022-12-30</td>\n",
       "      <td>S</td>\n",
       "      <td>N</td>\n",
       "      <td>C</td>\n",
       "      <td>SC</td>\n",
       "      <td>101</td>\n",
       "      <td>136</td>\n",
       "      <td>BALNEARIO CAMBORIU</td>\n",
       "      <td>N</td>\n",
       "      <td>'-1</td>\n",
       "      <td>PASSAGEIRO</td>\n",
       "      <td>IMP/WILLYS OVERLAND</td>\n",
       "      <td>AUTOMOVEL</td>\n",
       "      <td>WILLYS OVERLAND</td>\n",
       "      <td>66372</td>\n",
       "      <td>Conduzir o veículo com equipamento obrigatório...</td>\n",
       "      <td>230 IX</td>\n",
       "      <td>2016-11-01</td>\n",
       "      <td>nan</td>\n",
       "      <td>Nenhuma</td>\n",
       "      <td>17</td>\n",
       "      <td>0</td>\n",
       "      <td>0</td>\n",
       "      <td>1</td>\n",
       "    </tr>\n",
       "    <tr>\n",
       "      <th>4135522</th>\n",
       "      <td>09776aadb34a099</td>\n",
       "      <td>2022-12-30</td>\n",
       "      <td>S</td>\n",
       "      <td>N</td>\n",
       "      <td>D</td>\n",
       "      <td>SC</td>\n",
       "      <td>101</td>\n",
       "      <td>137</td>\n",
       "      <td>BALNEARIO CAMBORIU</td>\n",
       "      <td>N</td>\n",
       "      <td>'-1</td>\n",
       "      <td>PASSAGEIRO</td>\n",
       "      <td>GM/KADETT SL EFI</td>\n",
       "      <td>AUTOMOVEL</td>\n",
       "      <td>KADETT SL EFI</td>\n",
       "      <td>60502</td>\n",
       "      <td>Avançar o sinal de parada obrigatória</td>\n",
       "      <td>208</td>\n",
       "      <td>2016-11-01</td>\n",
       "      <td>nan</td>\n",
       "      <td>Nenhuma</td>\n",
       "      <td>16</td>\n",
       "      <td>0</td>\n",
       "      <td>0</td>\n",
       "      <td>1</td>\n",
       "    </tr>\n",
       "  </tbody>\n",
       "</table>\n",
       "<p>4135523 rows × 25 columns</p>\n",
       "</div>"
      ],
      "text/plain": [
       "          Número do Auto Data da Infração (DD/MM/AAAA) Indicador de Abordagem  \\\n",
       "0        61eabcb9b7e0679                    2022-01-14                      C   \n",
       "1        d97a34e658d2e6c                    2022-01-30                      C   \n",
       "2        397168b4d993a8f                    2022-01-30                      C   \n",
       "3        a86157cf8d604d0                    2022-01-21                      C   \n",
       "4        1302ba8ba04bb2f                    2022-01-24                      C   \n",
       "...                  ...                           ...                    ...   \n",
       "4135518  088d6554e5d4b31                    2022-12-30                      S   \n",
       "4135519  f7bef78f6d9dbe3                    2022-12-30                      S   \n",
       "4135520  f9f49ef8cd98a4d                    2022-12-30                      S   \n",
       "4135521  b81dbbc9d21656e                    2022-12-30                      S   \n",
       "4135522  09776aadb34a099                    2022-12-30                      S   \n",
       "\n",
       "        Assinatura do Auto Sentido Trafego UF Infração BR Infração  \\\n",
       "0                        S               D          MA         230   \n",
       "1                        N               D          MA         230   \n",
       "2                        N               D          MA         230   \n",
       "3                        N               D          PR         277   \n",
       "4                        S               D          MG          40   \n",
       "...                    ...             ...         ...         ...   \n",
       "4135518                  N               C          SC         101   \n",
       "4135519                  N               C          SC         101   \n",
       "4135520                  N               C          SC         101   \n",
       "4135521                  N               C          SC         101   \n",
       "4135522                  N               D          SC         101   \n",
       "\n",
       "        Km Infração           Município Indicador Veiculo Estrangeiro  \\\n",
       "0               404              BALSAS                             N   \n",
       "1               413              BALSAS                             N   \n",
       "2               413              BALSAS                             N   \n",
       "3                31            MORRETES                             N   \n",
       "4               554           NOVA LIMA                             N   \n",
       "...             ...                 ...                           ...   \n",
       "4135518         143             ITAPEMA                             N   \n",
       "4135519         121              ITAJAI                             N   \n",
       "4135520         136  BALNEARIO CAMBORIU                             N   \n",
       "4135521         136  BALNEARIO CAMBORIU                             N   \n",
       "4135522         137  BALNEARIO CAMBORIU                             N   \n",
       "\n",
       "        UF Placa Descrição Especie Veículo   Descrição Marca Veículo  \\\n",
       "0             MA                  ESPECIAL  FIAT/STRADA ENDURANCE CD   \n",
       "1             GO                PASSAGEIRO                VW/GOL 1.0   \n",
       "2             GO                PASSAGEIRO                VW/GOL 1.0   \n",
       "3             PR                PASSAGEIRO            I/BMW R1200 GS   \n",
       "4             RJ                     MISTO  I/TOYOTA HILUX SWSRXA4FD   \n",
       "...          ...                       ...                       ...   \n",
       "4135518      '-1                PASSAGEIRO                VW/GOL 1.0   \n",
       "4135519      '-1                  ESPECIAL     I/VW AMAROK CD 4X4 SE   \n",
       "4135520      '-1                PASSAGEIRO       IMP/WILLYS OVERLAND   \n",
       "4135521      '-1                PASSAGEIRO       IMP/WILLYS OVERLAND   \n",
       "4135522      '-1                PASSAGEIRO          GM/KADETT SL EFI   \n",
       "\n",
       "        Descrição Tipo Veículo  Descrição Modelo Veiculo Código da Infração  \\\n",
       "0                  CAMINHONETE       STRADA ENDURANCE CD              65991   \n",
       "1                    AUTOMOVEL                VW/GOL 1.0              50100   \n",
       "2                    AUTOMOVEL                VW/GOL 1.0              51180   \n",
       "3                  MOTOCICLETA            I/BMW R1200 GS              65992   \n",
       "4                   UTILITARIO  I/TOYOTA HILUX SWSRXA4FD              65991   \n",
       "...                        ...                       ...                ...   \n",
       "4135518              AUTOMOVEL                   GOL 1.0              72340   \n",
       "4135519            CAMINHONETE          AMAROK CD 4X4 SE              69473   \n",
       "4135520              AUTOMOVEL           WILLYS OVERLAND              69473   \n",
       "4135521              AUTOMOVEL           WILLYS OVERLAND              66372   \n",
       "4135522              AUTOMOVEL             KADETT SL EFI              60502   \n",
       "\n",
       "                              Descrição Abreviada Infração  \\\n",
       "0             Conduzir o veículo que não esteja registrado   \n",
       "1                  Dirigir veículo sem possuir CNH/PPD/ACC   \n",
       "2        Permitir posse/condução do veículo a pessoa se...   \n",
       "3        Conduzir o veículo registrado que não esteja d...   \n",
       "4             Conduzir o veículo que não esteja registrado   \n",
       "...                                                    ...   \n",
       "4135518  Em movimento, deixar de manter acesa a luz bai...   \n",
       "4135519      Conduzir carga nas partes externas do veículo   \n",
       "4135520      Conduzir carga nas partes externas do veículo   \n",
       "4135521  Conduzir o veículo com equipamento obrigatório...   \n",
       "4135522              Avançar o sinal de parada obrigatória   \n",
       "\n",
       "        Enquadramento da Infração Início Vigência da Infração  \\\n",
       "0                         230 * V                  2016-11-01   \n",
       "1                           162 I                  2016-11-01   \n",
       "2                   164 c/c 162 I                  2016-11-01   \n",
       "3                         230 * V                  2016-11-01   \n",
       "4                         230 * V                  2016-11-01   \n",
       "...                           ...                         ...   \n",
       "4135518                   250 I a                  2016-11-01   \n",
       "4135519                       235                  2016-11-01   \n",
       "4135520                       235                  2016-11-01   \n",
       "4135521                    230 IX                  2016-11-01   \n",
       "4135522                       208                  2016-11-01   \n",
       "\n",
       "        Fim Vigência Infração Medição Infração Hora Infração  \\\n",
       "0                         nan          Nenhuma            16   \n",
       "1                         nan          Nenhuma            17   \n",
       "2                         nan          Nenhuma            17   \n",
       "3                         nan          Nenhuma            12   \n",
       "4                         nan          Nenhuma            17   \n",
       "...                       ...              ...           ...   \n",
       "4135518                   nan          Nenhuma            23   \n",
       "4135519                   nan          Nenhuma            14   \n",
       "4135520                   nan          Nenhuma            17   \n",
       "4135521                   nan          Nenhuma            17   \n",
       "4135522                   nan          Nenhuma            16   \n",
       "\n",
       "        Medição Considerada Excesso Verificado Qtd Infrações  \n",
       "0                         0                  0             1  \n",
       "1                         0                  0             1  \n",
       "2                         0                  0             1  \n",
       "3                         0                  0             1  \n",
       "4                         0                  0             1  \n",
       "...                     ...                ...           ...  \n",
       "4135518                   0                  0             1  \n",
       "4135519                   0                  0             1  \n",
       "4135520                   0                  0             1  \n",
       "4135521                   0                  0             1  \n",
       "4135522                   0                  0             1  \n",
       "\n",
       "[4135523 rows x 25 columns]"
      ]
     },
     "metadata": {},
     "output_type": "display_data"
    }
   ],
   "source": [
    "# Visualizar a base que importamos\n",
    "display(df)"
   ]
  },
  {
   "cell_type": "code",
   "execution_count": 40,
   "metadata": {},
   "outputs": [
    {
     "ename": "NameError",
     "evalue": "name 'a' is not defined",
     "output_type": "error",
     "traceback": [
      "\u001b[1;31m---------------------------------------------------------------------------\u001b[0m",
      "\u001b[1;31mNameError\u001b[0m                                 Traceback (most recent call last)",
      "Cell \u001b[1;32mIn[40], line 1\u001b[0m\n\u001b[1;32m----> 1\u001b[0m a\n",
      "\u001b[1;31mNameError\u001b[0m: name 'a' is not defined"
     ]
    }
   ],
   "source": [
    "a"
   ]
  },
  {
   "cell_type": "code",
   "execution_count": null,
   "metadata": {},
   "outputs": [
    {
     "data": {
      "text/html": [
       "<div>\n",
       "<style scoped>\n",
       "    .dataframe tbody tr th:only-of-type {\n",
       "        vertical-align: middle;\n",
       "    }\n",
       "\n",
       "    .dataframe tbody tr th {\n",
       "        vertical-align: top;\n",
       "    }\n",
       "\n",
       "    .dataframe thead th {\n",
       "        text-align: right;\n",
       "    }\n",
       "</style>\n",
       "<table border=\"1\" class=\"dataframe\">\n",
       "  <thead>\n",
       "    <tr style=\"text-align: right;\">\n",
       "      <th></th>\n",
       "      <th>data</th>\n",
       "      <th>quantidade</th>\n",
       "      <th>mes</th>\n",
       "      <th>dia</th>\n",
       "      <th>media_movel</th>\n",
       "    </tr>\n",
       "  </thead>\n",
       "  <tbody>\n",
       "    <tr>\n",
       "      <th>360</th>\n",
       "      <td>2022-12-27</td>\n",
       "      <td>12077</td>\n",
       "      <td>12</td>\n",
       "      <td>27</td>\n",
       "      <td>13297.142857</td>\n",
       "    </tr>\n",
       "    <tr>\n",
       "      <th>361</th>\n",
       "      <td>2022-12-28</td>\n",
       "      <td>11332</td>\n",
       "      <td>12</td>\n",
       "      <td>28</td>\n",
       "      <td>13104.714286</td>\n",
       "    </tr>\n",
       "    <tr>\n",
       "      <th>362</th>\n",
       "      <td>2022-12-29</td>\n",
       "      <td>12226</td>\n",
       "      <td>12</td>\n",
       "      <td>29</td>\n",
       "      <td>13149.571429</td>\n",
       "    </tr>\n",
       "    <tr>\n",
       "      <th>363</th>\n",
       "      <td>2022-12-30</td>\n",
       "      <td>15801</td>\n",
       "      <td>12</td>\n",
       "      <td>30</td>\n",
       "      <td>13046.428571</td>\n",
       "    </tr>\n",
       "    <tr>\n",
       "      <th>364</th>\n",
       "      <td>2022-12-31</td>\n",
       "      <td>13216</td>\n",
       "      <td>12</td>\n",
       "      <td>31</td>\n",
       "      <td>12983.857143</td>\n",
       "    </tr>\n",
       "  </tbody>\n",
       "</table>\n",
       "</div>"
      ],
      "text/plain": [
       "          data  quantidade  mes  dia   media_movel\n",
       "360 2022-12-27       12077   12   27  13297.142857\n",
       "361 2022-12-28       11332   12   28  13104.714286\n",
       "362 2022-12-29       12226   12   29  13149.571429\n",
       "363 2022-12-30       15801   12   30  13046.428571\n",
       "364 2022-12-31       13216   12   31  12983.857143"
      ]
     },
     "execution_count": 25,
     "metadata": {},
     "output_type": "execute_result"
    }
   ],
   "source": [
    "# Multas por dia\n",
    "# Value counts conta agrupando\n",
    "# sort agrupa a coluna\n",
    "# reset_index retorna um dataframe\n",
    "\n",
    "multas_dia = df['Data da Infração (DD/MM/AAAA)'].value_counts().sort_index().reset_index()\n",
    "\n",
    "# Extraindo mês e dia das datas\n",
    "multas_dia['Mes'] = pd.to_datetime( multas_dia['Data da Infração (DD/MM/AAAA)'] ).dt.month\n",
    "multas_dia['Dia'] = pd.to_datetime( multas_dia['Data da Infração (DD/MM/AAAA)'] ).dt.day\n",
    "\n",
    "# Renomear colunas\n",
    "multas_dia.columns = ['data', 'quantidade', 'mes', 'dia']\n",
    "\n",
    "# Média movel\n",
    "multas_dia['media_movel'] = multas_dia['quantidade'].rolling(7).mean()\n",
    "\n",
    "# Verificar\n",
    "multas_dia.tail()"
   ]
  },
  {
   "cell_type": "code",
   "execution_count": null,
   "metadata": {},
   "outputs": [
    {
     "name": "stdout",
     "output_type": "stream",
     "text": [
      "<class 'pandas.core.frame.DataFrame'>\n",
      "RangeIndex: 365 entries, 0 to 364\n",
      "Data columns (total 5 columns):\n",
      " #   Column       Non-Null Count  Dtype         \n",
      "---  ------       --------------  -----         \n",
      " 0   data         365 non-null    datetime64[ns]\n",
      " 1   quantidade   365 non-null    int64         \n",
      " 2   mes          365 non-null    int32         \n",
      " 3   dia          365 non-null    int32         \n",
      " 4   media_movel  359 non-null    float64       \n",
      "dtypes: datetime64[ns](1), float64(1), int32(2), int64(1)\n",
      "memory usage: 11.5 KB\n"
     ]
    }
   ],
   "source": [
    "# Informações\n",
    "multas_dia.info()"
   ]
  },
  {
   "cell_type": "code",
   "execution_count": null,
   "metadata": {},
   "outputs": [
    {
     "data": {
      "application/vnd.plotly.v1+json": {
       "config": {
        "plotlyServerURL": "https://plot.ly"
       },
       "data": [
        {
         "hovertemplate": "data=%{x}<br>quantidade=%{y}<extra></extra>",
         "legendgroup": "",
         "line": {
          "color": "#636efa",
          "dash": "solid"
         },
         "marker": {
          "symbol": "circle"
         },
         "mode": "lines",
         "name": "",
         "orientation": "v",
         "showlegend": false,
         "type": "scatter",
         "x": [
          "2022-01-01T00:00:00",
          "2022-01-02T00:00:00",
          "2022-01-03T00:00:00",
          "2022-01-04T00:00:00",
          "2022-01-05T00:00:00",
          "2022-01-06T00:00:00",
          "2022-01-07T00:00:00",
          "2022-01-08T00:00:00",
          "2022-01-09T00:00:00",
          "2022-01-10T00:00:00",
          "2022-01-11T00:00:00",
          "2022-01-12T00:00:00",
          "2022-01-13T00:00:00",
          "2022-01-14T00:00:00",
          "2022-01-15T00:00:00",
          "2022-01-16T00:00:00",
          "2022-01-17T00:00:00",
          "2022-01-18T00:00:00",
          "2022-01-19T00:00:00",
          "2022-01-20T00:00:00",
          "2022-01-21T00:00:00",
          "2022-01-22T00:00:00",
          "2022-01-23T00:00:00",
          "2022-01-24T00:00:00",
          "2022-01-25T00:00:00",
          "2022-01-26T00:00:00",
          "2022-01-27T00:00:00",
          "2022-01-28T00:00:00",
          "2022-01-29T00:00:00",
          "2022-01-30T00:00:00",
          "2022-01-31T00:00:00",
          "2022-02-01T00:00:00",
          "2022-02-02T00:00:00",
          "2022-02-03T00:00:00",
          "2022-02-04T00:00:00",
          "2022-02-05T00:00:00",
          "2022-02-06T00:00:00",
          "2022-02-07T00:00:00",
          "2022-02-08T00:00:00",
          "2022-02-09T00:00:00",
          "2022-02-10T00:00:00",
          "2022-02-11T00:00:00",
          "2022-02-12T00:00:00",
          "2022-02-13T00:00:00",
          "2022-02-14T00:00:00",
          "2022-02-15T00:00:00",
          "2022-02-16T00:00:00",
          "2022-02-17T00:00:00",
          "2022-02-18T00:00:00",
          "2022-02-19T00:00:00",
          "2022-02-20T00:00:00",
          "2022-02-21T00:00:00",
          "2022-02-22T00:00:00",
          "2022-02-23T00:00:00",
          "2022-02-24T00:00:00",
          "2022-02-25T00:00:00",
          "2022-02-26T00:00:00",
          "2022-02-27T00:00:00",
          "2022-02-28T00:00:00",
          "2022-03-01T00:00:00",
          "2022-03-02T00:00:00",
          "2022-03-03T00:00:00",
          "2022-03-04T00:00:00",
          "2022-03-05T00:00:00",
          "2022-03-06T00:00:00",
          "2022-03-07T00:00:00",
          "2022-03-08T00:00:00",
          "2022-03-09T00:00:00",
          "2022-03-10T00:00:00",
          "2022-03-11T00:00:00",
          "2022-03-12T00:00:00",
          "2022-03-13T00:00:00",
          "2022-03-14T00:00:00",
          "2022-03-15T00:00:00",
          "2022-03-16T00:00:00",
          "2022-03-17T00:00:00",
          "2022-03-18T00:00:00",
          "2022-03-19T00:00:00",
          "2022-03-20T00:00:00",
          "2022-03-21T00:00:00",
          "2022-03-22T00:00:00",
          "2022-03-23T00:00:00",
          "2022-03-24T00:00:00",
          "2022-03-25T00:00:00",
          "2022-03-26T00:00:00",
          "2022-03-27T00:00:00",
          "2022-03-28T00:00:00",
          "2022-03-29T00:00:00",
          "2022-03-30T00:00:00",
          "2022-03-31T00:00:00",
          "2022-04-01T00:00:00",
          "2022-04-02T00:00:00",
          "2022-04-03T00:00:00",
          "2022-04-04T00:00:00",
          "2022-04-05T00:00:00",
          "2022-04-06T00:00:00",
          "2022-04-07T00:00:00",
          "2022-04-08T00:00:00",
          "2022-04-09T00:00:00",
          "2022-04-10T00:00:00",
          "2022-04-11T00:00:00",
          "2022-04-12T00:00:00",
          "2022-04-13T00:00:00",
          "2022-04-14T00:00:00",
          "2022-04-15T00:00:00",
          "2022-04-16T00:00:00",
          "2022-04-17T00:00:00",
          "2022-04-18T00:00:00",
          "2022-04-19T00:00:00",
          "2022-04-20T00:00:00",
          "2022-04-21T00:00:00",
          "2022-04-22T00:00:00",
          "2022-04-23T00:00:00",
          "2022-04-24T00:00:00",
          "2022-04-25T00:00:00",
          "2022-04-26T00:00:00",
          "2022-04-27T00:00:00",
          "2022-04-28T00:00:00",
          "2022-04-29T00:00:00",
          "2022-04-30T00:00:00",
          "2022-05-01T00:00:00",
          "2022-05-02T00:00:00",
          "2022-05-03T00:00:00",
          "2022-05-04T00:00:00",
          "2022-05-05T00:00:00",
          "2022-05-06T00:00:00",
          "2022-05-07T00:00:00",
          "2022-05-08T00:00:00",
          "2022-05-09T00:00:00",
          "2022-05-10T00:00:00",
          "2022-05-11T00:00:00",
          "2022-05-12T00:00:00",
          "2022-05-13T00:00:00",
          "2022-05-14T00:00:00",
          "2022-05-15T00:00:00",
          "2022-05-16T00:00:00",
          "2022-05-17T00:00:00",
          "2022-05-18T00:00:00",
          "2022-05-19T00:00:00",
          "2022-05-20T00:00:00",
          "2022-05-21T00:00:00",
          "2022-05-22T00:00:00",
          "2022-05-23T00:00:00",
          "2022-05-24T00:00:00",
          "2022-05-25T00:00:00",
          "2022-05-26T00:00:00",
          "2022-05-27T00:00:00",
          "2022-05-28T00:00:00",
          "2022-05-29T00:00:00",
          "2022-05-30T00:00:00",
          "2022-05-31T00:00:00",
          "2022-06-01T00:00:00",
          "2022-06-02T00:00:00",
          "2022-06-03T00:00:00",
          "2022-06-04T00:00:00",
          "2022-06-05T00:00:00",
          "2022-06-06T00:00:00",
          "2022-06-07T00:00:00",
          "2022-06-08T00:00:00",
          "2022-06-09T00:00:00",
          "2022-06-10T00:00:00",
          "2022-06-11T00:00:00",
          "2022-06-12T00:00:00",
          "2022-06-13T00:00:00",
          "2022-06-14T00:00:00",
          "2022-06-15T00:00:00",
          "2022-06-16T00:00:00",
          "2022-06-17T00:00:00",
          "2022-06-18T00:00:00",
          "2022-06-19T00:00:00",
          "2022-06-20T00:00:00",
          "2022-06-21T00:00:00",
          "2022-06-22T00:00:00",
          "2022-06-23T00:00:00",
          "2022-06-24T00:00:00",
          "2022-06-25T00:00:00",
          "2022-06-26T00:00:00",
          "2022-06-27T00:00:00",
          "2022-06-28T00:00:00",
          "2022-06-29T00:00:00",
          "2022-06-30T00:00:00",
          "2022-07-01T00:00:00",
          "2022-07-02T00:00:00",
          "2022-07-03T00:00:00",
          "2022-07-04T00:00:00",
          "2022-07-05T00:00:00",
          "2022-07-06T00:00:00",
          "2022-07-07T00:00:00",
          "2022-07-08T00:00:00",
          "2022-07-09T00:00:00",
          "2022-07-10T00:00:00",
          "2022-07-11T00:00:00",
          "2022-07-12T00:00:00",
          "2022-07-13T00:00:00",
          "2022-07-14T00:00:00",
          "2022-07-15T00:00:00",
          "2022-07-16T00:00:00",
          "2022-07-17T00:00:00",
          "2022-07-18T00:00:00",
          "2022-07-19T00:00:00",
          "2022-07-20T00:00:00",
          "2022-07-21T00:00:00",
          "2022-07-22T00:00:00",
          "2022-07-23T00:00:00",
          "2022-07-24T00:00:00",
          "2022-07-25T00:00:00",
          "2022-07-26T00:00:00",
          "2022-07-27T00:00:00",
          "2022-07-28T00:00:00",
          "2022-07-29T00:00:00",
          "2022-07-30T00:00:00",
          "2022-07-31T00:00:00",
          "2022-08-01T00:00:00",
          "2022-08-02T00:00:00",
          "2022-08-03T00:00:00",
          "2022-08-04T00:00:00",
          "2022-08-05T00:00:00",
          "2022-08-06T00:00:00",
          "2022-08-07T00:00:00",
          "2022-08-08T00:00:00",
          "2022-08-09T00:00:00",
          "2022-08-10T00:00:00",
          "2022-08-11T00:00:00",
          "2022-08-12T00:00:00",
          "2022-08-13T00:00:00",
          "2022-08-14T00:00:00",
          "2022-08-15T00:00:00",
          "2022-08-16T00:00:00",
          "2022-08-17T00:00:00",
          "2022-08-18T00:00:00",
          "2022-08-19T00:00:00",
          "2022-08-20T00:00:00",
          "2022-08-21T00:00:00",
          "2022-08-22T00:00:00",
          "2022-08-23T00:00:00",
          "2022-08-24T00:00:00",
          "2022-08-25T00:00:00",
          "2022-08-26T00:00:00",
          "2022-08-27T00:00:00",
          "2022-08-28T00:00:00",
          "2022-08-29T00:00:00",
          "2022-08-30T00:00:00",
          "2022-08-31T00:00:00",
          "2022-09-01T00:00:00",
          "2022-09-02T00:00:00",
          "2022-09-03T00:00:00",
          "2022-09-04T00:00:00",
          "2022-09-05T00:00:00",
          "2022-09-06T00:00:00",
          "2022-09-07T00:00:00",
          "2022-09-08T00:00:00",
          "2022-09-09T00:00:00",
          "2022-09-10T00:00:00",
          "2022-09-11T00:00:00",
          "2022-09-12T00:00:00",
          "2022-09-13T00:00:00",
          "2022-09-14T00:00:00",
          "2022-09-15T00:00:00",
          "2022-09-16T00:00:00",
          "2022-09-17T00:00:00",
          "2022-09-18T00:00:00",
          "2022-09-19T00:00:00",
          "2022-09-20T00:00:00",
          "2022-09-21T00:00:00",
          "2022-09-22T00:00:00",
          "2022-09-23T00:00:00",
          "2022-09-24T00:00:00",
          "2022-09-25T00:00:00",
          "2022-09-26T00:00:00",
          "2022-09-27T00:00:00",
          "2022-09-28T00:00:00",
          "2022-09-29T00:00:00",
          "2022-09-30T00:00:00",
          "2022-10-01T00:00:00",
          "2022-10-02T00:00:00",
          "2022-10-03T00:00:00",
          "2022-10-04T00:00:00",
          "2022-10-05T00:00:00",
          "2022-10-06T00:00:00",
          "2022-10-07T00:00:00",
          "2022-10-08T00:00:00",
          "2022-10-09T00:00:00",
          "2022-10-10T00:00:00",
          "2022-10-11T00:00:00",
          "2022-10-12T00:00:00",
          "2022-10-13T00:00:00",
          "2022-10-14T00:00:00",
          "2022-10-15T00:00:00",
          "2022-10-16T00:00:00",
          "2022-10-17T00:00:00",
          "2022-10-18T00:00:00",
          "2022-10-19T00:00:00",
          "2022-10-20T00:00:00",
          "2022-10-21T00:00:00",
          "2022-10-22T00:00:00",
          "2022-10-23T00:00:00",
          "2022-10-24T00:00:00",
          "2022-10-25T00:00:00",
          "2022-10-26T00:00:00",
          "2022-10-27T00:00:00",
          "2022-10-28T00:00:00",
          "2022-10-29T00:00:00",
          "2022-10-30T00:00:00",
          "2022-10-31T00:00:00",
          "2022-11-01T00:00:00",
          "2022-11-02T00:00:00",
          "2022-11-03T00:00:00",
          "2022-11-04T00:00:00",
          "2022-11-05T00:00:00",
          "2022-11-06T00:00:00",
          "2022-11-07T00:00:00",
          "2022-11-08T00:00:00",
          "2022-11-09T00:00:00",
          "2022-11-10T00:00:00",
          "2022-11-11T00:00:00",
          "2022-11-12T00:00:00",
          "2022-11-13T00:00:00",
          "2022-11-14T00:00:00",
          "2022-11-15T00:00:00",
          "2022-11-16T00:00:00",
          "2022-11-17T00:00:00",
          "2022-11-18T00:00:00",
          "2022-11-19T00:00:00",
          "2022-11-20T00:00:00",
          "2022-11-21T00:00:00",
          "2022-11-22T00:00:00",
          "2022-11-23T00:00:00",
          "2022-11-24T00:00:00",
          "2022-11-25T00:00:00",
          "2022-11-26T00:00:00",
          "2022-11-27T00:00:00",
          "2022-11-28T00:00:00",
          "2022-11-29T00:00:00",
          "2022-11-30T00:00:00",
          "2022-12-01T00:00:00",
          "2022-12-02T00:00:00",
          "2022-12-03T00:00:00",
          "2022-12-04T00:00:00",
          "2022-12-05T00:00:00",
          "2022-12-06T00:00:00",
          "2022-12-07T00:00:00",
          "2022-12-08T00:00:00",
          "2022-12-09T00:00:00",
          "2022-12-10T00:00:00",
          "2022-12-11T00:00:00",
          "2022-12-12T00:00:00",
          "2022-12-13T00:00:00",
          "2022-12-14T00:00:00",
          "2022-12-15T00:00:00",
          "2022-12-16T00:00:00",
          "2022-12-17T00:00:00",
          "2022-12-18T00:00:00",
          "2022-12-19T00:00:00",
          "2022-12-20T00:00:00",
          "2022-12-21T00:00:00",
          "2022-12-22T00:00:00",
          "2022-12-23T00:00:00",
          "2022-12-24T00:00:00",
          "2022-12-25T00:00:00",
          "2022-12-26T00:00:00",
          "2022-12-27T00:00:00",
          "2022-12-28T00:00:00",
          "2022-12-29T00:00:00",
          "2022-12-30T00:00:00",
          "2022-12-31T00:00:00"
         ],
         "xaxis": "x",
         "y": [
          8533,
          13146,
          12012,
          11248,
          11159,
          10167,
          11150,
          8321,
          8788,
          8520,
          8008,
          11553,
          9564,
          10799,
          8761,
          9670,
          10299,
          11576,
          11487,
          11246,
          14586,
          10223,
          9998,
          10691,
          10912,
          11103,
          12401,
          13628,
          11067,
          14135,
          12187,
          11218,
          11569,
          13506,
          12327,
          11417,
          9994,
          11294,
          14704,
          13394,
          12463,
          14952,
          10230,
          14511,
          13735,
          13051,
          13149,
          12544,
          13820,
          10624,
          12048,
          11664,
          12366,
          15191,
          12739,
          21477,
          21715,
          14993,
          15133,
          18936,
          18655,
          12157,
          12275,
          9503,
          14031,
          11579,
          11271,
          10105,
          11899,
          11003,
          10979,
          11574,
          12563,
          12339,
          13798,
          12569,
          13343,
          11273,
          10645,
          12221,
          13081,
          14022,
          13757,
          13008,
          11748,
          11576,
          14342,
          12214,
          12984,
          13211,
          11691,
          10583,
          12795,
          12619,
          13237,
          14175,
          12679,
          13456,
          11193,
          11253,
          11455,
          13132,
          12741,
          18161,
          17162,
          12422,
          16867,
          11647,
          10864,
          12624,
          19261,
          14933,
          14090,
          17675,
          14224,
          13316,
          14058,
          12619,
          15075,
          12525,
          12489,
          14937,
          14668,
          14144,
          16248,
          16765,
          9140,
          8143,
          12599,
          11647,
          10678,
          15285,
          9483,
          8253,
          6774,
          10567,
          10468,
          8511,
          8635,
          9827,
          7547,
          6569,
          13820,
          12184,
          13045,
          11643,
          13056,
          11423,
          10876,
          11539,
          10711,
          8452,
          11073,
          11662,
          10500,
          10731,
          11752,
          10086,
          12071,
          11683,
          13802,
          10849,
          10253,
          15085,
          10638,
          14153,
          14358,
          7357,
          7007,
          13663,
          9562,
          9302,
          9816,
          10199,
          10286,
          10183,
          10637,
          10101,
          10080,
          9109,
          10574,
          9472,
          10572,
          10208,
          10737,
          9076,
          9737,
          9169,
          10815,
          9123,
          10856,
          11660,
          11146,
          9812,
          10964,
          10770,
          8404,
          9872,
          10130,
          10418,
          10036,
          9643,
          11634,
          8985,
          9064,
          9948,
          8809,
          9142,
          10116,
          10082,
          8877,
          8969,
          9521,
          9795,
          9525,
          9656,
          10548,
          8047,
          8000,
          10647,
          8930,
          10525,
          10429,
          12014,
          8195,
          8069,
          11584,
          11570,
          10661,
          11117,
          9491,
          8806,
          9351,
          12918,
          10597,
          11348,
          11578,
          12334,
          9884,
          10883,
          10346,
          10334,
          11420,
          10562,
          10531,
          9730,
          10891,
          13580,
          10106,
          10884,
          10486,
          12517,
          9645,
          10381,
          10809,
          10183,
          8544,
          11114,
          11737,
          10091,
          10081,
          11190,
          12571,
          12108,
          10784,
          12943,
          10501,
          9522,
          11612,
          9074,
          10532,
          11880,
          13979,
          14241,
          15781,
          10458,
          9766,
          10257,
          9532,
          11802,
          10645,
          9507,
          9646,
          11046,
          11134,
          10946,
          11550,
          9801,
          10653,
          12259,
          10363,
          11629,
          10526,
          11617,
          9884,
          8445,
          11659,
          9902,
          10925,
          10096,
          19007,
          18238,
          14719,
          7005,
          5853,
          9888,
          6831,
          7737,
          6605,
          9804,
          10581,
          9188,
          10851,
          9397,
          13189,
          14878,
          12679,
          12027,
          16559,
          10511,
          9556,
          11007,
          7979,
          7886,
          5382,
          7665,
          5472,
          4033,
          9001,
          7948,
          7967,
          8423,
          8579,
          8549,
          9001,
          7815,
          8858,
          8973,
          9824,
          10717,
          10960,
          11293,
          10910,
          9656,
          10233,
          11251,
          8561,
          11701,
          11957,
          12950,
          15465,
          12248,
          10361,
          12476,
          12679,
          11912,
          16523,
          13654,
          11021,
          15214,
          12077,
          11332,
          12226,
          15801,
          13216
         ],
         "yaxis": "y"
        }
       ],
       "layout": {
        "legend": {
         "tracegroupgap": 0
        },
        "margin": {
         "t": 60
        },
        "template": {
         "data": {
          "bar": [
           {
            "error_x": {
             "color": "#2a3f5f"
            },
            "error_y": {
             "color": "#2a3f5f"
            },
            "marker": {
             "line": {
              "color": "#E5ECF6",
              "width": 0.5
             },
             "pattern": {
              "fillmode": "overlay",
              "size": 10,
              "solidity": 0.2
             }
            },
            "type": "bar"
           }
          ],
          "barpolar": [
           {
            "marker": {
             "line": {
              "color": "#E5ECF6",
              "width": 0.5
             },
             "pattern": {
              "fillmode": "overlay",
              "size": 10,
              "solidity": 0.2
             }
            },
            "type": "barpolar"
           }
          ],
          "carpet": [
           {
            "aaxis": {
             "endlinecolor": "#2a3f5f",
             "gridcolor": "white",
             "linecolor": "white",
             "minorgridcolor": "white",
             "startlinecolor": "#2a3f5f"
            },
            "baxis": {
             "endlinecolor": "#2a3f5f",
             "gridcolor": "white",
             "linecolor": "white",
             "minorgridcolor": "white",
             "startlinecolor": "#2a3f5f"
            },
            "type": "carpet"
           }
          ],
          "choropleth": [
           {
            "colorbar": {
             "outlinewidth": 0,
             "ticks": ""
            },
            "type": "choropleth"
           }
          ],
          "contour": [
           {
            "colorbar": {
             "outlinewidth": 0,
             "ticks": ""
            },
            "colorscale": [
             [
              0,
              "#0d0887"
             ],
             [
              0.1111111111111111,
              "#46039f"
             ],
             [
              0.2222222222222222,
              "#7201a8"
             ],
             [
              0.3333333333333333,
              "#9c179e"
             ],
             [
              0.4444444444444444,
              "#bd3786"
             ],
             [
              0.5555555555555556,
              "#d8576b"
             ],
             [
              0.6666666666666666,
              "#ed7953"
             ],
             [
              0.7777777777777778,
              "#fb9f3a"
             ],
             [
              0.8888888888888888,
              "#fdca26"
             ],
             [
              1,
              "#f0f921"
             ]
            ],
            "type": "contour"
           }
          ],
          "contourcarpet": [
           {
            "colorbar": {
             "outlinewidth": 0,
             "ticks": ""
            },
            "type": "contourcarpet"
           }
          ],
          "heatmap": [
           {
            "colorbar": {
             "outlinewidth": 0,
             "ticks": ""
            },
            "colorscale": [
             [
              0,
              "#0d0887"
             ],
             [
              0.1111111111111111,
              "#46039f"
             ],
             [
              0.2222222222222222,
              "#7201a8"
             ],
             [
              0.3333333333333333,
              "#9c179e"
             ],
             [
              0.4444444444444444,
              "#bd3786"
             ],
             [
              0.5555555555555556,
              "#d8576b"
             ],
             [
              0.6666666666666666,
              "#ed7953"
             ],
             [
              0.7777777777777778,
              "#fb9f3a"
             ],
             [
              0.8888888888888888,
              "#fdca26"
             ],
             [
              1,
              "#f0f921"
             ]
            ],
            "type": "heatmap"
           }
          ],
          "heatmapgl": [
           {
            "colorbar": {
             "outlinewidth": 0,
             "ticks": ""
            },
            "colorscale": [
             [
              0,
              "#0d0887"
             ],
             [
              0.1111111111111111,
              "#46039f"
             ],
             [
              0.2222222222222222,
              "#7201a8"
             ],
             [
              0.3333333333333333,
              "#9c179e"
             ],
             [
              0.4444444444444444,
              "#bd3786"
             ],
             [
              0.5555555555555556,
              "#d8576b"
             ],
             [
              0.6666666666666666,
              "#ed7953"
             ],
             [
              0.7777777777777778,
              "#fb9f3a"
             ],
             [
              0.8888888888888888,
              "#fdca26"
             ],
             [
              1,
              "#f0f921"
             ]
            ],
            "type": "heatmapgl"
           }
          ],
          "histogram": [
           {
            "marker": {
             "pattern": {
              "fillmode": "overlay",
              "size": 10,
              "solidity": 0.2
             }
            },
            "type": "histogram"
           }
          ],
          "histogram2d": [
           {
            "colorbar": {
             "outlinewidth": 0,
             "ticks": ""
            },
            "colorscale": [
             [
              0,
              "#0d0887"
             ],
             [
              0.1111111111111111,
              "#46039f"
             ],
             [
              0.2222222222222222,
              "#7201a8"
             ],
             [
              0.3333333333333333,
              "#9c179e"
             ],
             [
              0.4444444444444444,
              "#bd3786"
             ],
             [
              0.5555555555555556,
              "#d8576b"
             ],
             [
              0.6666666666666666,
              "#ed7953"
             ],
             [
              0.7777777777777778,
              "#fb9f3a"
             ],
             [
              0.8888888888888888,
              "#fdca26"
             ],
             [
              1,
              "#f0f921"
             ]
            ],
            "type": "histogram2d"
           }
          ],
          "histogram2dcontour": [
           {
            "colorbar": {
             "outlinewidth": 0,
             "ticks": ""
            },
            "colorscale": [
             [
              0,
              "#0d0887"
             ],
             [
              0.1111111111111111,
              "#46039f"
             ],
             [
              0.2222222222222222,
              "#7201a8"
             ],
             [
              0.3333333333333333,
              "#9c179e"
             ],
             [
              0.4444444444444444,
              "#bd3786"
             ],
             [
              0.5555555555555556,
              "#d8576b"
             ],
             [
              0.6666666666666666,
              "#ed7953"
             ],
             [
              0.7777777777777778,
              "#fb9f3a"
             ],
             [
              0.8888888888888888,
              "#fdca26"
             ],
             [
              1,
              "#f0f921"
             ]
            ],
            "type": "histogram2dcontour"
           }
          ],
          "mesh3d": [
           {
            "colorbar": {
             "outlinewidth": 0,
             "ticks": ""
            },
            "type": "mesh3d"
           }
          ],
          "parcoords": [
           {
            "line": {
             "colorbar": {
              "outlinewidth": 0,
              "ticks": ""
             }
            },
            "type": "parcoords"
           }
          ],
          "pie": [
           {
            "automargin": true,
            "type": "pie"
           }
          ],
          "scatter": [
           {
            "fillpattern": {
             "fillmode": "overlay",
             "size": 10,
             "solidity": 0.2
            },
            "type": "scatter"
           }
          ],
          "scatter3d": [
           {
            "line": {
             "colorbar": {
              "outlinewidth": 0,
              "ticks": ""
             }
            },
            "marker": {
             "colorbar": {
              "outlinewidth": 0,
              "ticks": ""
             }
            },
            "type": "scatter3d"
           }
          ],
          "scattercarpet": [
           {
            "marker": {
             "colorbar": {
              "outlinewidth": 0,
              "ticks": ""
             }
            },
            "type": "scattercarpet"
           }
          ],
          "scattergeo": [
           {
            "marker": {
             "colorbar": {
              "outlinewidth": 0,
              "ticks": ""
             }
            },
            "type": "scattergeo"
           }
          ],
          "scattergl": [
           {
            "marker": {
             "colorbar": {
              "outlinewidth": 0,
              "ticks": ""
             }
            },
            "type": "scattergl"
           }
          ],
          "scattermapbox": [
           {
            "marker": {
             "colorbar": {
              "outlinewidth": 0,
              "ticks": ""
             }
            },
            "type": "scattermapbox"
           }
          ],
          "scatterpolar": [
           {
            "marker": {
             "colorbar": {
              "outlinewidth": 0,
              "ticks": ""
             }
            },
            "type": "scatterpolar"
           }
          ],
          "scatterpolargl": [
           {
            "marker": {
             "colorbar": {
              "outlinewidth": 0,
              "ticks": ""
             }
            },
            "type": "scatterpolargl"
           }
          ],
          "scatterternary": [
           {
            "marker": {
             "colorbar": {
              "outlinewidth": 0,
              "ticks": ""
             }
            },
            "type": "scatterternary"
           }
          ],
          "surface": [
           {
            "colorbar": {
             "outlinewidth": 0,
             "ticks": ""
            },
            "colorscale": [
             [
              0,
              "#0d0887"
             ],
             [
              0.1111111111111111,
              "#46039f"
             ],
             [
              0.2222222222222222,
              "#7201a8"
             ],
             [
              0.3333333333333333,
              "#9c179e"
             ],
             [
              0.4444444444444444,
              "#bd3786"
             ],
             [
              0.5555555555555556,
              "#d8576b"
             ],
             [
              0.6666666666666666,
              "#ed7953"
             ],
             [
              0.7777777777777778,
              "#fb9f3a"
             ],
             [
              0.8888888888888888,
              "#fdca26"
             ],
             [
              1,
              "#f0f921"
             ]
            ],
            "type": "surface"
           }
          ],
          "table": [
           {
            "cells": {
             "fill": {
              "color": "#EBF0F8"
             },
             "line": {
              "color": "white"
             }
            },
            "header": {
             "fill": {
              "color": "#C8D4E3"
             },
             "line": {
              "color": "white"
             }
            },
            "type": "table"
           }
          ]
         },
         "layout": {
          "annotationdefaults": {
           "arrowcolor": "#2a3f5f",
           "arrowhead": 0,
           "arrowwidth": 1
          },
          "autotypenumbers": "strict",
          "coloraxis": {
           "colorbar": {
            "outlinewidth": 0,
            "ticks": ""
           }
          },
          "colorscale": {
           "diverging": [
            [
             0,
             "#8e0152"
            ],
            [
             0.1,
             "#c51b7d"
            ],
            [
             0.2,
             "#de77ae"
            ],
            [
             0.3,
             "#f1b6da"
            ],
            [
             0.4,
             "#fde0ef"
            ],
            [
             0.5,
             "#f7f7f7"
            ],
            [
             0.6,
             "#e6f5d0"
            ],
            [
             0.7,
             "#b8e186"
            ],
            [
             0.8,
             "#7fbc41"
            ],
            [
             0.9,
             "#4d9221"
            ],
            [
             1,
             "#276419"
            ]
           ],
           "sequential": [
            [
             0,
             "#0d0887"
            ],
            [
             0.1111111111111111,
             "#46039f"
            ],
            [
             0.2222222222222222,
             "#7201a8"
            ],
            [
             0.3333333333333333,
             "#9c179e"
            ],
            [
             0.4444444444444444,
             "#bd3786"
            ],
            [
             0.5555555555555556,
             "#d8576b"
            ],
            [
             0.6666666666666666,
             "#ed7953"
            ],
            [
             0.7777777777777778,
             "#fb9f3a"
            ],
            [
             0.8888888888888888,
             "#fdca26"
            ],
            [
             1,
             "#f0f921"
            ]
           ],
           "sequentialminus": [
            [
             0,
             "#0d0887"
            ],
            [
             0.1111111111111111,
             "#46039f"
            ],
            [
             0.2222222222222222,
             "#7201a8"
            ],
            [
             0.3333333333333333,
             "#9c179e"
            ],
            [
             0.4444444444444444,
             "#bd3786"
            ],
            [
             0.5555555555555556,
             "#d8576b"
            ],
            [
             0.6666666666666666,
             "#ed7953"
            ],
            [
             0.7777777777777778,
             "#fb9f3a"
            ],
            [
             0.8888888888888888,
             "#fdca26"
            ],
            [
             1,
             "#f0f921"
            ]
           ]
          },
          "colorway": [
           "#636efa",
           "#EF553B",
           "#00cc96",
           "#ab63fa",
           "#FFA15A",
           "#19d3f3",
           "#FF6692",
           "#B6E880",
           "#FF97FF",
           "#FECB52"
          ],
          "font": {
           "color": "#2a3f5f"
          },
          "geo": {
           "bgcolor": "white",
           "lakecolor": "white",
           "landcolor": "#E5ECF6",
           "showlakes": true,
           "showland": true,
           "subunitcolor": "white"
          },
          "hoverlabel": {
           "align": "left"
          },
          "hovermode": "closest",
          "mapbox": {
           "style": "light"
          },
          "paper_bgcolor": "white",
          "plot_bgcolor": "#E5ECF6",
          "polar": {
           "angularaxis": {
            "gridcolor": "white",
            "linecolor": "white",
            "ticks": ""
           },
           "bgcolor": "#E5ECF6",
           "radialaxis": {
            "gridcolor": "white",
            "linecolor": "white",
            "ticks": ""
           }
          },
          "scene": {
           "xaxis": {
            "backgroundcolor": "#E5ECF6",
            "gridcolor": "white",
            "gridwidth": 2,
            "linecolor": "white",
            "showbackground": true,
            "ticks": "",
            "zerolinecolor": "white"
           },
           "yaxis": {
            "backgroundcolor": "#E5ECF6",
            "gridcolor": "white",
            "gridwidth": 2,
            "linecolor": "white",
            "showbackground": true,
            "ticks": "",
            "zerolinecolor": "white"
           },
           "zaxis": {
            "backgroundcolor": "#E5ECF6",
            "gridcolor": "white",
            "gridwidth": 2,
            "linecolor": "white",
            "showbackground": true,
            "ticks": "",
            "zerolinecolor": "white"
           }
          },
          "shapedefaults": {
           "line": {
            "color": "#2a3f5f"
           }
          },
          "ternary": {
           "aaxis": {
            "gridcolor": "white",
            "linecolor": "white",
            "ticks": ""
           },
           "baxis": {
            "gridcolor": "white",
            "linecolor": "white",
            "ticks": ""
           },
           "bgcolor": "#E5ECF6",
           "caxis": {
            "gridcolor": "white",
            "linecolor": "white",
            "ticks": ""
           }
          },
          "title": {
           "x": 0.05
          },
          "xaxis": {
           "automargin": true,
           "gridcolor": "white",
           "linecolor": "white",
           "ticks": "",
           "title": {
            "standoff": 15
           },
           "zerolinecolor": "white",
           "zerolinewidth": 2
          },
          "yaxis": {
           "automargin": true,
           "gridcolor": "white",
           "linecolor": "white",
           "ticks": "",
           "title": {
            "standoff": 15
           },
           "zerolinecolor": "white",
           "zerolinewidth": 2
          }
         }
        },
        "xaxis": {
         "anchor": "y",
         "domain": [
          0,
          1
         ],
         "title": {
          "text": "data"
         }
        },
        "yaxis": {
         "anchor": "x",
         "domain": [
          0,
          1
         ],
         "title": {
          "text": "quantidade"
         }
        }
       }
      }
     },
     "metadata": {},
     "output_type": "display_data"
    }
   ],
   "source": [
    "# Gráfico de linhas\n",
    "\n",
    "px.line(\n",
    "    multas_dia,\n",
    "    x = 'data',\n",
    "    y = 'quantidade'\n",
    ")"
   ]
  },
  {
   "cell_type": "code",
   "execution_count": null,
   "metadata": {},
   "outputs": [
    {
     "data": {
      "application/vnd.plotly.v1+json": {
       "config": {
        "plotlyServerURL": "https://plot.ly"
       },
       "data": [
        {
         "type": "scatter",
         "x": [
          "2022-01-01T00:00:00",
          "2022-01-02T00:00:00",
          "2022-01-03T00:00:00",
          "2022-01-04T00:00:00",
          "2022-01-05T00:00:00",
          "2022-01-06T00:00:00",
          "2022-01-07T00:00:00",
          "2022-01-08T00:00:00",
          "2022-01-09T00:00:00",
          "2022-01-10T00:00:00",
          "2022-01-11T00:00:00",
          "2022-01-12T00:00:00",
          "2022-01-13T00:00:00",
          "2022-01-14T00:00:00",
          "2022-01-15T00:00:00",
          "2022-01-16T00:00:00",
          "2022-01-17T00:00:00",
          "2022-01-18T00:00:00",
          "2022-01-19T00:00:00",
          "2022-01-20T00:00:00",
          "2022-01-21T00:00:00",
          "2022-01-22T00:00:00",
          "2022-01-23T00:00:00",
          "2022-01-24T00:00:00",
          "2022-01-25T00:00:00",
          "2022-01-26T00:00:00",
          "2022-01-27T00:00:00",
          "2022-01-28T00:00:00",
          "2022-01-29T00:00:00",
          "2022-01-30T00:00:00",
          "2022-01-31T00:00:00",
          "2022-02-01T00:00:00",
          "2022-02-02T00:00:00",
          "2022-02-03T00:00:00",
          "2022-02-04T00:00:00",
          "2022-02-05T00:00:00",
          "2022-02-06T00:00:00",
          "2022-02-07T00:00:00",
          "2022-02-08T00:00:00",
          "2022-02-09T00:00:00",
          "2022-02-10T00:00:00",
          "2022-02-11T00:00:00",
          "2022-02-12T00:00:00",
          "2022-02-13T00:00:00",
          "2022-02-14T00:00:00",
          "2022-02-15T00:00:00",
          "2022-02-16T00:00:00",
          "2022-02-17T00:00:00",
          "2022-02-18T00:00:00",
          "2022-02-19T00:00:00",
          "2022-02-20T00:00:00",
          "2022-02-21T00:00:00",
          "2022-02-22T00:00:00",
          "2022-02-23T00:00:00",
          "2022-02-24T00:00:00",
          "2022-02-25T00:00:00",
          "2022-02-26T00:00:00",
          "2022-02-27T00:00:00",
          "2022-02-28T00:00:00",
          "2022-03-01T00:00:00",
          "2022-03-02T00:00:00",
          "2022-03-03T00:00:00",
          "2022-03-04T00:00:00",
          "2022-03-05T00:00:00",
          "2022-03-06T00:00:00",
          "2022-03-07T00:00:00",
          "2022-03-08T00:00:00",
          "2022-03-09T00:00:00",
          "2022-03-10T00:00:00",
          "2022-03-11T00:00:00",
          "2022-03-12T00:00:00",
          "2022-03-13T00:00:00",
          "2022-03-14T00:00:00",
          "2022-03-15T00:00:00",
          "2022-03-16T00:00:00",
          "2022-03-17T00:00:00",
          "2022-03-18T00:00:00",
          "2022-03-19T00:00:00",
          "2022-03-20T00:00:00",
          "2022-03-21T00:00:00",
          "2022-03-22T00:00:00",
          "2022-03-23T00:00:00",
          "2022-03-24T00:00:00",
          "2022-03-25T00:00:00",
          "2022-03-26T00:00:00",
          "2022-03-27T00:00:00",
          "2022-03-28T00:00:00",
          "2022-03-29T00:00:00",
          "2022-03-30T00:00:00",
          "2022-03-31T00:00:00",
          "2022-04-01T00:00:00",
          "2022-04-02T00:00:00",
          "2022-04-03T00:00:00",
          "2022-04-04T00:00:00",
          "2022-04-05T00:00:00",
          "2022-04-06T00:00:00",
          "2022-04-07T00:00:00",
          "2022-04-08T00:00:00",
          "2022-04-09T00:00:00",
          "2022-04-10T00:00:00",
          "2022-04-11T00:00:00",
          "2022-04-12T00:00:00",
          "2022-04-13T00:00:00",
          "2022-04-14T00:00:00",
          "2022-04-15T00:00:00",
          "2022-04-16T00:00:00",
          "2022-04-17T00:00:00",
          "2022-04-18T00:00:00",
          "2022-04-19T00:00:00",
          "2022-04-20T00:00:00",
          "2022-04-21T00:00:00",
          "2022-04-22T00:00:00",
          "2022-04-23T00:00:00",
          "2022-04-24T00:00:00",
          "2022-04-25T00:00:00",
          "2022-04-26T00:00:00",
          "2022-04-27T00:00:00",
          "2022-04-28T00:00:00",
          "2022-04-29T00:00:00",
          "2022-04-30T00:00:00",
          "2022-05-01T00:00:00",
          "2022-05-02T00:00:00",
          "2022-05-03T00:00:00",
          "2022-05-04T00:00:00",
          "2022-05-05T00:00:00",
          "2022-05-06T00:00:00",
          "2022-05-07T00:00:00",
          "2022-05-08T00:00:00",
          "2022-05-09T00:00:00",
          "2022-05-10T00:00:00",
          "2022-05-11T00:00:00",
          "2022-05-12T00:00:00",
          "2022-05-13T00:00:00",
          "2022-05-14T00:00:00",
          "2022-05-15T00:00:00",
          "2022-05-16T00:00:00",
          "2022-05-17T00:00:00",
          "2022-05-18T00:00:00",
          "2022-05-19T00:00:00",
          "2022-05-20T00:00:00",
          "2022-05-21T00:00:00",
          "2022-05-22T00:00:00",
          "2022-05-23T00:00:00",
          "2022-05-24T00:00:00",
          "2022-05-25T00:00:00",
          "2022-05-26T00:00:00",
          "2022-05-27T00:00:00",
          "2022-05-28T00:00:00",
          "2022-05-29T00:00:00",
          "2022-05-30T00:00:00",
          "2022-05-31T00:00:00",
          "2022-06-01T00:00:00",
          "2022-06-02T00:00:00",
          "2022-06-03T00:00:00",
          "2022-06-04T00:00:00",
          "2022-06-05T00:00:00",
          "2022-06-06T00:00:00",
          "2022-06-07T00:00:00",
          "2022-06-08T00:00:00",
          "2022-06-09T00:00:00",
          "2022-06-10T00:00:00",
          "2022-06-11T00:00:00",
          "2022-06-12T00:00:00",
          "2022-06-13T00:00:00",
          "2022-06-14T00:00:00",
          "2022-06-15T00:00:00",
          "2022-06-16T00:00:00",
          "2022-06-17T00:00:00",
          "2022-06-18T00:00:00",
          "2022-06-19T00:00:00",
          "2022-06-20T00:00:00",
          "2022-06-21T00:00:00",
          "2022-06-22T00:00:00",
          "2022-06-23T00:00:00",
          "2022-06-24T00:00:00",
          "2022-06-25T00:00:00",
          "2022-06-26T00:00:00",
          "2022-06-27T00:00:00",
          "2022-06-28T00:00:00",
          "2022-06-29T00:00:00",
          "2022-06-30T00:00:00",
          "2022-07-01T00:00:00",
          "2022-07-02T00:00:00",
          "2022-07-03T00:00:00",
          "2022-07-04T00:00:00",
          "2022-07-05T00:00:00",
          "2022-07-06T00:00:00",
          "2022-07-07T00:00:00",
          "2022-07-08T00:00:00",
          "2022-07-09T00:00:00",
          "2022-07-10T00:00:00",
          "2022-07-11T00:00:00",
          "2022-07-12T00:00:00",
          "2022-07-13T00:00:00",
          "2022-07-14T00:00:00",
          "2022-07-15T00:00:00",
          "2022-07-16T00:00:00",
          "2022-07-17T00:00:00",
          "2022-07-18T00:00:00",
          "2022-07-19T00:00:00",
          "2022-07-20T00:00:00",
          "2022-07-21T00:00:00",
          "2022-07-22T00:00:00",
          "2022-07-23T00:00:00",
          "2022-07-24T00:00:00",
          "2022-07-25T00:00:00",
          "2022-07-26T00:00:00",
          "2022-07-27T00:00:00",
          "2022-07-28T00:00:00",
          "2022-07-29T00:00:00",
          "2022-07-30T00:00:00",
          "2022-07-31T00:00:00",
          "2022-08-01T00:00:00",
          "2022-08-02T00:00:00",
          "2022-08-03T00:00:00",
          "2022-08-04T00:00:00",
          "2022-08-05T00:00:00",
          "2022-08-06T00:00:00",
          "2022-08-07T00:00:00",
          "2022-08-08T00:00:00",
          "2022-08-09T00:00:00",
          "2022-08-10T00:00:00",
          "2022-08-11T00:00:00",
          "2022-08-12T00:00:00",
          "2022-08-13T00:00:00",
          "2022-08-14T00:00:00",
          "2022-08-15T00:00:00",
          "2022-08-16T00:00:00",
          "2022-08-17T00:00:00",
          "2022-08-18T00:00:00",
          "2022-08-19T00:00:00",
          "2022-08-20T00:00:00",
          "2022-08-21T00:00:00",
          "2022-08-22T00:00:00",
          "2022-08-23T00:00:00",
          "2022-08-24T00:00:00",
          "2022-08-25T00:00:00",
          "2022-08-26T00:00:00",
          "2022-08-27T00:00:00",
          "2022-08-28T00:00:00",
          "2022-08-29T00:00:00",
          "2022-08-30T00:00:00",
          "2022-08-31T00:00:00",
          "2022-09-01T00:00:00",
          "2022-09-02T00:00:00",
          "2022-09-03T00:00:00",
          "2022-09-04T00:00:00",
          "2022-09-05T00:00:00",
          "2022-09-06T00:00:00",
          "2022-09-07T00:00:00",
          "2022-09-08T00:00:00",
          "2022-09-09T00:00:00",
          "2022-09-10T00:00:00",
          "2022-09-11T00:00:00",
          "2022-09-12T00:00:00",
          "2022-09-13T00:00:00",
          "2022-09-14T00:00:00",
          "2022-09-15T00:00:00",
          "2022-09-16T00:00:00",
          "2022-09-17T00:00:00",
          "2022-09-18T00:00:00",
          "2022-09-19T00:00:00",
          "2022-09-20T00:00:00",
          "2022-09-21T00:00:00",
          "2022-09-22T00:00:00",
          "2022-09-23T00:00:00",
          "2022-09-24T00:00:00",
          "2022-09-25T00:00:00",
          "2022-09-26T00:00:00",
          "2022-09-27T00:00:00",
          "2022-09-28T00:00:00",
          "2022-09-29T00:00:00",
          "2022-09-30T00:00:00",
          "2022-10-01T00:00:00",
          "2022-10-02T00:00:00",
          "2022-10-03T00:00:00",
          "2022-10-04T00:00:00",
          "2022-10-05T00:00:00",
          "2022-10-06T00:00:00",
          "2022-10-07T00:00:00",
          "2022-10-08T00:00:00",
          "2022-10-09T00:00:00",
          "2022-10-10T00:00:00",
          "2022-10-11T00:00:00",
          "2022-10-12T00:00:00",
          "2022-10-13T00:00:00",
          "2022-10-14T00:00:00",
          "2022-10-15T00:00:00",
          "2022-10-16T00:00:00",
          "2022-10-17T00:00:00",
          "2022-10-18T00:00:00",
          "2022-10-19T00:00:00",
          "2022-10-20T00:00:00",
          "2022-10-21T00:00:00",
          "2022-10-22T00:00:00",
          "2022-10-23T00:00:00",
          "2022-10-24T00:00:00",
          "2022-10-25T00:00:00",
          "2022-10-26T00:00:00",
          "2022-10-27T00:00:00",
          "2022-10-28T00:00:00",
          "2022-10-29T00:00:00",
          "2022-10-30T00:00:00",
          "2022-10-31T00:00:00",
          "2022-11-01T00:00:00",
          "2022-11-02T00:00:00",
          "2022-11-03T00:00:00",
          "2022-11-04T00:00:00",
          "2022-11-05T00:00:00",
          "2022-11-06T00:00:00",
          "2022-11-07T00:00:00",
          "2022-11-08T00:00:00",
          "2022-11-09T00:00:00",
          "2022-11-10T00:00:00",
          "2022-11-11T00:00:00",
          "2022-11-12T00:00:00",
          "2022-11-13T00:00:00",
          "2022-11-14T00:00:00",
          "2022-11-15T00:00:00",
          "2022-11-16T00:00:00",
          "2022-11-17T00:00:00",
          "2022-11-18T00:00:00",
          "2022-11-19T00:00:00",
          "2022-11-20T00:00:00",
          "2022-11-21T00:00:00",
          "2022-11-22T00:00:00",
          "2022-11-23T00:00:00",
          "2022-11-24T00:00:00",
          "2022-11-25T00:00:00",
          "2022-11-26T00:00:00",
          "2022-11-27T00:00:00",
          "2022-11-28T00:00:00",
          "2022-11-29T00:00:00",
          "2022-11-30T00:00:00",
          "2022-12-01T00:00:00",
          "2022-12-02T00:00:00",
          "2022-12-03T00:00:00",
          "2022-12-04T00:00:00",
          "2022-12-05T00:00:00",
          "2022-12-06T00:00:00",
          "2022-12-07T00:00:00",
          "2022-12-08T00:00:00",
          "2022-12-09T00:00:00",
          "2022-12-10T00:00:00",
          "2022-12-11T00:00:00",
          "2022-12-12T00:00:00",
          "2022-12-13T00:00:00",
          "2022-12-14T00:00:00",
          "2022-12-15T00:00:00",
          "2022-12-16T00:00:00",
          "2022-12-17T00:00:00",
          "2022-12-18T00:00:00",
          "2022-12-19T00:00:00",
          "2022-12-20T00:00:00",
          "2022-12-21T00:00:00",
          "2022-12-22T00:00:00",
          "2022-12-23T00:00:00",
          "2022-12-24T00:00:00",
          "2022-12-25T00:00:00",
          "2022-12-26T00:00:00",
          "2022-12-27T00:00:00",
          "2022-12-28T00:00:00",
          "2022-12-29T00:00:00",
          "2022-12-30T00:00:00",
          "2022-12-31T00:00:00"
         ],
         "y": [
          8533,
          13146,
          12012,
          11248,
          11159,
          10167,
          11150,
          8321,
          8788,
          8520,
          8008,
          11553,
          9564,
          10799,
          8761,
          9670,
          10299,
          11576,
          11487,
          11246,
          14586,
          10223,
          9998,
          10691,
          10912,
          11103,
          12401,
          13628,
          11067,
          14135,
          12187,
          11218,
          11569,
          13506,
          12327,
          11417,
          9994,
          11294,
          14704,
          13394,
          12463,
          14952,
          10230,
          14511,
          13735,
          13051,
          13149,
          12544,
          13820,
          10624,
          12048,
          11664,
          12366,
          15191,
          12739,
          21477,
          21715,
          14993,
          15133,
          18936,
          18655,
          12157,
          12275,
          9503,
          14031,
          11579,
          11271,
          10105,
          11899,
          11003,
          10979,
          11574,
          12563,
          12339,
          13798,
          12569,
          13343,
          11273,
          10645,
          12221,
          13081,
          14022,
          13757,
          13008,
          11748,
          11576,
          14342,
          12214,
          12984,
          13211,
          11691,
          10583,
          12795,
          12619,
          13237,
          14175,
          12679,
          13456,
          11193,
          11253,
          11455,
          13132,
          12741,
          18161,
          17162,
          12422,
          16867,
          11647,
          10864,
          12624,
          19261,
          14933,
          14090,
          17675,
          14224,
          13316,
          14058,
          12619,
          15075,
          12525,
          12489,
          14937,
          14668,
          14144,
          16248,
          16765,
          9140,
          8143,
          12599,
          11647,
          10678,
          15285,
          9483,
          8253,
          6774,
          10567,
          10468,
          8511,
          8635,
          9827,
          7547,
          6569,
          13820,
          12184,
          13045,
          11643,
          13056,
          11423,
          10876,
          11539,
          10711,
          8452,
          11073,
          11662,
          10500,
          10731,
          11752,
          10086,
          12071,
          11683,
          13802,
          10849,
          10253,
          15085,
          10638,
          14153,
          14358,
          7357,
          7007,
          13663,
          9562,
          9302,
          9816,
          10199,
          10286,
          10183,
          10637,
          10101,
          10080,
          9109,
          10574,
          9472,
          10572,
          10208,
          10737,
          9076,
          9737,
          9169,
          10815,
          9123,
          10856,
          11660,
          11146,
          9812,
          10964,
          10770,
          8404,
          9872,
          10130,
          10418,
          10036,
          9643,
          11634,
          8985,
          9064,
          9948,
          8809,
          9142,
          10116,
          10082,
          8877,
          8969,
          9521,
          9795,
          9525,
          9656,
          10548,
          8047,
          8000,
          10647,
          8930,
          10525,
          10429,
          12014,
          8195,
          8069,
          11584,
          11570,
          10661,
          11117,
          9491,
          8806,
          9351,
          12918,
          10597,
          11348,
          11578,
          12334,
          9884,
          10883,
          10346,
          10334,
          11420,
          10562,
          10531,
          9730,
          10891,
          13580,
          10106,
          10884,
          10486,
          12517,
          9645,
          10381,
          10809,
          10183,
          8544,
          11114,
          11737,
          10091,
          10081,
          11190,
          12571,
          12108,
          10784,
          12943,
          10501,
          9522,
          11612,
          9074,
          10532,
          11880,
          13979,
          14241,
          15781,
          10458,
          9766,
          10257,
          9532,
          11802,
          10645,
          9507,
          9646,
          11046,
          11134,
          10946,
          11550,
          9801,
          10653,
          12259,
          10363,
          11629,
          10526,
          11617,
          9884,
          8445,
          11659,
          9902,
          10925,
          10096,
          19007,
          18238,
          14719,
          7005,
          5853,
          9888,
          6831,
          7737,
          6605,
          9804,
          10581,
          9188,
          10851,
          9397,
          13189,
          14878,
          12679,
          12027,
          16559,
          10511,
          9556,
          11007,
          7979,
          7886,
          5382,
          7665,
          5472,
          4033,
          9001,
          7948,
          7967,
          8423,
          8579,
          8549,
          9001,
          7815,
          8858,
          8973,
          9824,
          10717,
          10960,
          11293,
          10910,
          9656,
          10233,
          11251,
          8561,
          11701,
          11957,
          12950,
          15465,
          12248,
          10361,
          12476,
          12679,
          11912,
          16523,
          13654,
          11021,
          15214,
          12077,
          11332,
          12226,
          15801,
          13216
         ]
        }
       ],
       "layout": {
        "template": {
         "data": {
          "bar": [
           {
            "error_x": {
             "color": "#2a3f5f"
            },
            "error_y": {
             "color": "#2a3f5f"
            },
            "marker": {
             "line": {
              "color": "#E5ECF6",
              "width": 0.5
             },
             "pattern": {
              "fillmode": "overlay",
              "size": 10,
              "solidity": 0.2
             }
            },
            "type": "bar"
           }
          ],
          "barpolar": [
           {
            "marker": {
             "line": {
              "color": "#E5ECF6",
              "width": 0.5
             },
             "pattern": {
              "fillmode": "overlay",
              "size": 10,
              "solidity": 0.2
             }
            },
            "type": "barpolar"
           }
          ],
          "carpet": [
           {
            "aaxis": {
             "endlinecolor": "#2a3f5f",
             "gridcolor": "white",
             "linecolor": "white",
             "minorgridcolor": "white",
             "startlinecolor": "#2a3f5f"
            },
            "baxis": {
             "endlinecolor": "#2a3f5f",
             "gridcolor": "white",
             "linecolor": "white",
             "minorgridcolor": "white",
             "startlinecolor": "#2a3f5f"
            },
            "type": "carpet"
           }
          ],
          "choropleth": [
           {
            "colorbar": {
             "outlinewidth": 0,
             "ticks": ""
            },
            "type": "choropleth"
           }
          ],
          "contour": [
           {
            "colorbar": {
             "outlinewidth": 0,
             "ticks": ""
            },
            "colorscale": [
             [
              0,
              "#0d0887"
             ],
             [
              0.1111111111111111,
              "#46039f"
             ],
             [
              0.2222222222222222,
              "#7201a8"
             ],
             [
              0.3333333333333333,
              "#9c179e"
             ],
             [
              0.4444444444444444,
              "#bd3786"
             ],
             [
              0.5555555555555556,
              "#d8576b"
             ],
             [
              0.6666666666666666,
              "#ed7953"
             ],
             [
              0.7777777777777778,
              "#fb9f3a"
             ],
             [
              0.8888888888888888,
              "#fdca26"
             ],
             [
              1,
              "#f0f921"
             ]
            ],
            "type": "contour"
           }
          ],
          "contourcarpet": [
           {
            "colorbar": {
             "outlinewidth": 0,
             "ticks": ""
            },
            "type": "contourcarpet"
           }
          ],
          "heatmap": [
           {
            "colorbar": {
             "outlinewidth": 0,
             "ticks": ""
            },
            "colorscale": [
             [
              0,
              "#0d0887"
             ],
             [
              0.1111111111111111,
              "#46039f"
             ],
             [
              0.2222222222222222,
              "#7201a8"
             ],
             [
              0.3333333333333333,
              "#9c179e"
             ],
             [
              0.4444444444444444,
              "#bd3786"
             ],
             [
              0.5555555555555556,
              "#d8576b"
             ],
             [
              0.6666666666666666,
              "#ed7953"
             ],
             [
              0.7777777777777778,
              "#fb9f3a"
             ],
             [
              0.8888888888888888,
              "#fdca26"
             ],
             [
              1,
              "#f0f921"
             ]
            ],
            "type": "heatmap"
           }
          ],
          "heatmapgl": [
           {
            "colorbar": {
             "outlinewidth": 0,
             "ticks": ""
            },
            "colorscale": [
             [
              0,
              "#0d0887"
             ],
             [
              0.1111111111111111,
              "#46039f"
             ],
             [
              0.2222222222222222,
              "#7201a8"
             ],
             [
              0.3333333333333333,
              "#9c179e"
             ],
             [
              0.4444444444444444,
              "#bd3786"
             ],
             [
              0.5555555555555556,
              "#d8576b"
             ],
             [
              0.6666666666666666,
              "#ed7953"
             ],
             [
              0.7777777777777778,
              "#fb9f3a"
             ],
             [
              0.8888888888888888,
              "#fdca26"
             ],
             [
              1,
              "#f0f921"
             ]
            ],
            "type": "heatmapgl"
           }
          ],
          "histogram": [
           {
            "marker": {
             "pattern": {
              "fillmode": "overlay",
              "size": 10,
              "solidity": 0.2
             }
            },
            "type": "histogram"
           }
          ],
          "histogram2d": [
           {
            "colorbar": {
             "outlinewidth": 0,
             "ticks": ""
            },
            "colorscale": [
             [
              0,
              "#0d0887"
             ],
             [
              0.1111111111111111,
              "#46039f"
             ],
             [
              0.2222222222222222,
              "#7201a8"
             ],
             [
              0.3333333333333333,
              "#9c179e"
             ],
             [
              0.4444444444444444,
              "#bd3786"
             ],
             [
              0.5555555555555556,
              "#d8576b"
             ],
             [
              0.6666666666666666,
              "#ed7953"
             ],
             [
              0.7777777777777778,
              "#fb9f3a"
             ],
             [
              0.8888888888888888,
              "#fdca26"
             ],
             [
              1,
              "#f0f921"
             ]
            ],
            "type": "histogram2d"
           }
          ],
          "histogram2dcontour": [
           {
            "colorbar": {
             "outlinewidth": 0,
             "ticks": ""
            },
            "colorscale": [
             [
              0,
              "#0d0887"
             ],
             [
              0.1111111111111111,
              "#46039f"
             ],
             [
              0.2222222222222222,
              "#7201a8"
             ],
             [
              0.3333333333333333,
              "#9c179e"
             ],
             [
              0.4444444444444444,
              "#bd3786"
             ],
             [
              0.5555555555555556,
              "#d8576b"
             ],
             [
              0.6666666666666666,
              "#ed7953"
             ],
             [
              0.7777777777777778,
              "#fb9f3a"
             ],
             [
              0.8888888888888888,
              "#fdca26"
             ],
             [
              1,
              "#f0f921"
             ]
            ],
            "type": "histogram2dcontour"
           }
          ],
          "mesh3d": [
           {
            "colorbar": {
             "outlinewidth": 0,
             "ticks": ""
            },
            "type": "mesh3d"
           }
          ],
          "parcoords": [
           {
            "line": {
             "colorbar": {
              "outlinewidth": 0,
              "ticks": ""
             }
            },
            "type": "parcoords"
           }
          ],
          "pie": [
           {
            "automargin": true,
            "type": "pie"
           }
          ],
          "scatter": [
           {
            "fillpattern": {
             "fillmode": "overlay",
             "size": 10,
             "solidity": 0.2
            },
            "type": "scatter"
           }
          ],
          "scatter3d": [
           {
            "line": {
             "colorbar": {
              "outlinewidth": 0,
              "ticks": ""
             }
            },
            "marker": {
             "colorbar": {
              "outlinewidth": 0,
              "ticks": ""
             }
            },
            "type": "scatter3d"
           }
          ],
          "scattercarpet": [
           {
            "marker": {
             "colorbar": {
              "outlinewidth": 0,
              "ticks": ""
             }
            },
            "type": "scattercarpet"
           }
          ],
          "scattergeo": [
           {
            "marker": {
             "colorbar": {
              "outlinewidth": 0,
              "ticks": ""
             }
            },
            "type": "scattergeo"
           }
          ],
          "scattergl": [
           {
            "marker": {
             "colorbar": {
              "outlinewidth": 0,
              "ticks": ""
             }
            },
            "type": "scattergl"
           }
          ],
          "scattermapbox": [
           {
            "marker": {
             "colorbar": {
              "outlinewidth": 0,
              "ticks": ""
             }
            },
            "type": "scattermapbox"
           }
          ],
          "scatterpolar": [
           {
            "marker": {
             "colorbar": {
              "outlinewidth": 0,
              "ticks": ""
             }
            },
            "type": "scatterpolar"
           }
          ],
          "scatterpolargl": [
           {
            "marker": {
             "colorbar": {
              "outlinewidth": 0,
              "ticks": ""
             }
            },
            "type": "scatterpolargl"
           }
          ],
          "scatterternary": [
           {
            "marker": {
             "colorbar": {
              "outlinewidth": 0,
              "ticks": ""
             }
            },
            "type": "scatterternary"
           }
          ],
          "surface": [
           {
            "colorbar": {
             "outlinewidth": 0,
             "ticks": ""
            },
            "colorscale": [
             [
              0,
              "#0d0887"
             ],
             [
              0.1111111111111111,
              "#46039f"
             ],
             [
              0.2222222222222222,
              "#7201a8"
             ],
             [
              0.3333333333333333,
              "#9c179e"
             ],
             [
              0.4444444444444444,
              "#bd3786"
             ],
             [
              0.5555555555555556,
              "#d8576b"
             ],
             [
              0.6666666666666666,
              "#ed7953"
             ],
             [
              0.7777777777777778,
              "#fb9f3a"
             ],
             [
              0.8888888888888888,
              "#fdca26"
             ],
             [
              1,
              "#f0f921"
             ]
            ],
            "type": "surface"
           }
          ],
          "table": [
           {
            "cells": {
             "fill": {
              "color": "#EBF0F8"
             },
             "line": {
              "color": "white"
             }
            },
            "header": {
             "fill": {
              "color": "#C8D4E3"
             },
             "line": {
              "color": "white"
             }
            },
            "type": "table"
           }
          ]
         },
         "layout": {
          "annotationdefaults": {
           "arrowcolor": "#2a3f5f",
           "arrowhead": 0,
           "arrowwidth": 1
          },
          "autotypenumbers": "strict",
          "coloraxis": {
           "colorbar": {
            "outlinewidth": 0,
            "ticks": ""
           }
          },
          "colorscale": {
           "diverging": [
            [
             0,
             "#8e0152"
            ],
            [
             0.1,
             "#c51b7d"
            ],
            [
             0.2,
             "#de77ae"
            ],
            [
             0.3,
             "#f1b6da"
            ],
            [
             0.4,
             "#fde0ef"
            ],
            [
             0.5,
             "#f7f7f7"
            ],
            [
             0.6,
             "#e6f5d0"
            ],
            [
             0.7,
             "#b8e186"
            ],
            [
             0.8,
             "#7fbc41"
            ],
            [
             0.9,
             "#4d9221"
            ],
            [
             1,
             "#276419"
            ]
           ],
           "sequential": [
            [
             0,
             "#0d0887"
            ],
            [
             0.1111111111111111,
             "#46039f"
            ],
            [
             0.2222222222222222,
             "#7201a8"
            ],
            [
             0.3333333333333333,
             "#9c179e"
            ],
            [
             0.4444444444444444,
             "#bd3786"
            ],
            [
             0.5555555555555556,
             "#d8576b"
            ],
            [
             0.6666666666666666,
             "#ed7953"
            ],
            [
             0.7777777777777778,
             "#fb9f3a"
            ],
            [
             0.8888888888888888,
             "#fdca26"
            ],
            [
             1,
             "#f0f921"
            ]
           ],
           "sequentialminus": [
            [
             0,
             "#0d0887"
            ],
            [
             0.1111111111111111,
             "#46039f"
            ],
            [
             0.2222222222222222,
             "#7201a8"
            ],
            [
             0.3333333333333333,
             "#9c179e"
            ],
            [
             0.4444444444444444,
             "#bd3786"
            ],
            [
             0.5555555555555556,
             "#d8576b"
            ],
            [
             0.6666666666666666,
             "#ed7953"
            ],
            [
             0.7777777777777778,
             "#fb9f3a"
            ],
            [
             0.8888888888888888,
             "#fdca26"
            ],
            [
             1,
             "#f0f921"
            ]
           ]
          },
          "colorway": [
           "#636efa",
           "#EF553B",
           "#00cc96",
           "#ab63fa",
           "#FFA15A",
           "#19d3f3",
           "#FF6692",
           "#B6E880",
           "#FF97FF",
           "#FECB52"
          ],
          "font": {
           "color": "#2a3f5f"
          },
          "geo": {
           "bgcolor": "white",
           "lakecolor": "white",
           "landcolor": "#E5ECF6",
           "showlakes": true,
           "showland": true,
           "subunitcolor": "white"
          },
          "hoverlabel": {
           "align": "left"
          },
          "hovermode": "closest",
          "mapbox": {
           "style": "light"
          },
          "paper_bgcolor": "white",
          "plot_bgcolor": "#E5ECF6",
          "polar": {
           "angularaxis": {
            "gridcolor": "white",
            "linecolor": "white",
            "ticks": ""
           },
           "bgcolor": "#E5ECF6",
           "radialaxis": {
            "gridcolor": "white",
            "linecolor": "white",
            "ticks": ""
           }
          },
          "scene": {
           "xaxis": {
            "backgroundcolor": "#E5ECF6",
            "gridcolor": "white",
            "gridwidth": 2,
            "linecolor": "white",
            "showbackground": true,
            "ticks": "",
            "zerolinecolor": "white"
           },
           "yaxis": {
            "backgroundcolor": "#E5ECF6",
            "gridcolor": "white",
            "gridwidth": 2,
            "linecolor": "white",
            "showbackground": true,
            "ticks": "",
            "zerolinecolor": "white"
           },
           "zaxis": {
            "backgroundcolor": "#E5ECF6",
            "gridcolor": "white",
            "gridwidth": 2,
            "linecolor": "white",
            "showbackground": true,
            "ticks": "",
            "zerolinecolor": "white"
           }
          },
          "shapedefaults": {
           "line": {
            "color": "#2a3f5f"
           }
          },
          "ternary": {
           "aaxis": {
            "gridcolor": "white",
            "linecolor": "white",
            "ticks": ""
           },
           "baxis": {
            "gridcolor": "white",
            "linecolor": "white",
            "ticks": ""
           },
           "bgcolor": "#E5ECF6",
           "caxis": {
            "gridcolor": "white",
            "linecolor": "white",
            "ticks": ""
           }
          },
          "title": {
           "x": 0.05
          },
          "xaxis": {
           "automargin": true,
           "gridcolor": "white",
           "linecolor": "white",
           "ticks": "",
           "title": {
            "standoff": 15
           },
           "zerolinecolor": "white",
           "zerolinewidth": 2
          },
          "yaxis": {
           "automargin": true,
           "gridcolor": "white",
           "linecolor": "white",
           "ticks": "",
           "title": {
            "standoff": 15
           },
           "zerolinecolor": "white",
           "zerolinewidth": 2
          }
         }
        }
       }
      }
     },
     "metadata": {},
     "output_type": "display_data"
    }
   ],
   "source": [
    "# Go\n",
    "\n",
    "go.Figure(\n",
    "    go.Scatter(\n",
    "        x = multas_dia['data'],\n",
    "        y = multas_dia['quantidade']\n",
    "    )\n",
    ")"
   ]
  },
  {
   "cell_type": "code",
   "execution_count": null,
   "metadata": {},
   "outputs": [
    {
     "data": {
      "application/vnd.plotly.v1+json": {
       "config": {
        "plotlyServerURL": "https://plot.ly"
       },
       "data": [
        {
         "mode": "lines",
         "name": "qtd",
         "type": "scatter",
         "x": [
          "2022-01-01T00:00:00",
          "2022-01-02T00:00:00",
          "2022-01-03T00:00:00",
          "2022-01-04T00:00:00",
          "2022-01-05T00:00:00",
          "2022-01-06T00:00:00",
          "2022-01-07T00:00:00",
          "2022-01-08T00:00:00",
          "2022-01-09T00:00:00",
          "2022-01-10T00:00:00",
          "2022-01-11T00:00:00",
          "2022-01-12T00:00:00",
          "2022-01-13T00:00:00",
          "2022-01-14T00:00:00",
          "2022-01-15T00:00:00",
          "2022-01-16T00:00:00",
          "2022-01-17T00:00:00",
          "2022-01-18T00:00:00",
          "2022-01-19T00:00:00",
          "2022-01-20T00:00:00",
          "2022-01-21T00:00:00",
          "2022-01-22T00:00:00",
          "2022-01-23T00:00:00",
          "2022-01-24T00:00:00",
          "2022-01-25T00:00:00",
          "2022-01-26T00:00:00",
          "2022-01-27T00:00:00",
          "2022-01-28T00:00:00",
          "2022-01-29T00:00:00",
          "2022-01-30T00:00:00",
          "2022-01-31T00:00:00",
          "2022-02-01T00:00:00",
          "2022-02-02T00:00:00",
          "2022-02-03T00:00:00",
          "2022-02-04T00:00:00",
          "2022-02-05T00:00:00",
          "2022-02-06T00:00:00",
          "2022-02-07T00:00:00",
          "2022-02-08T00:00:00",
          "2022-02-09T00:00:00",
          "2022-02-10T00:00:00",
          "2022-02-11T00:00:00",
          "2022-02-12T00:00:00",
          "2022-02-13T00:00:00",
          "2022-02-14T00:00:00",
          "2022-02-15T00:00:00",
          "2022-02-16T00:00:00",
          "2022-02-17T00:00:00",
          "2022-02-18T00:00:00",
          "2022-02-19T00:00:00",
          "2022-02-20T00:00:00",
          "2022-02-21T00:00:00",
          "2022-02-22T00:00:00",
          "2022-02-23T00:00:00",
          "2022-02-24T00:00:00",
          "2022-02-25T00:00:00",
          "2022-02-26T00:00:00",
          "2022-02-27T00:00:00",
          "2022-02-28T00:00:00",
          "2022-03-01T00:00:00",
          "2022-03-02T00:00:00",
          "2022-03-03T00:00:00",
          "2022-03-04T00:00:00",
          "2022-03-05T00:00:00",
          "2022-03-06T00:00:00",
          "2022-03-07T00:00:00",
          "2022-03-08T00:00:00",
          "2022-03-09T00:00:00",
          "2022-03-10T00:00:00",
          "2022-03-11T00:00:00",
          "2022-03-12T00:00:00",
          "2022-03-13T00:00:00",
          "2022-03-14T00:00:00",
          "2022-03-15T00:00:00",
          "2022-03-16T00:00:00",
          "2022-03-17T00:00:00",
          "2022-03-18T00:00:00",
          "2022-03-19T00:00:00",
          "2022-03-20T00:00:00",
          "2022-03-21T00:00:00",
          "2022-03-22T00:00:00",
          "2022-03-23T00:00:00",
          "2022-03-24T00:00:00",
          "2022-03-25T00:00:00",
          "2022-03-26T00:00:00",
          "2022-03-27T00:00:00",
          "2022-03-28T00:00:00",
          "2022-03-29T00:00:00",
          "2022-03-30T00:00:00",
          "2022-03-31T00:00:00",
          "2022-04-01T00:00:00",
          "2022-04-02T00:00:00",
          "2022-04-03T00:00:00",
          "2022-04-04T00:00:00",
          "2022-04-05T00:00:00",
          "2022-04-06T00:00:00",
          "2022-04-07T00:00:00",
          "2022-04-08T00:00:00",
          "2022-04-09T00:00:00",
          "2022-04-10T00:00:00",
          "2022-04-11T00:00:00",
          "2022-04-12T00:00:00",
          "2022-04-13T00:00:00",
          "2022-04-14T00:00:00",
          "2022-04-15T00:00:00",
          "2022-04-16T00:00:00",
          "2022-04-17T00:00:00",
          "2022-04-18T00:00:00",
          "2022-04-19T00:00:00",
          "2022-04-20T00:00:00",
          "2022-04-21T00:00:00",
          "2022-04-22T00:00:00",
          "2022-04-23T00:00:00",
          "2022-04-24T00:00:00",
          "2022-04-25T00:00:00",
          "2022-04-26T00:00:00",
          "2022-04-27T00:00:00",
          "2022-04-28T00:00:00",
          "2022-04-29T00:00:00",
          "2022-04-30T00:00:00",
          "2022-05-01T00:00:00",
          "2022-05-02T00:00:00",
          "2022-05-03T00:00:00",
          "2022-05-04T00:00:00",
          "2022-05-05T00:00:00",
          "2022-05-06T00:00:00",
          "2022-05-07T00:00:00",
          "2022-05-08T00:00:00",
          "2022-05-09T00:00:00",
          "2022-05-10T00:00:00",
          "2022-05-11T00:00:00",
          "2022-05-12T00:00:00",
          "2022-05-13T00:00:00",
          "2022-05-14T00:00:00",
          "2022-05-15T00:00:00",
          "2022-05-16T00:00:00",
          "2022-05-17T00:00:00",
          "2022-05-18T00:00:00",
          "2022-05-19T00:00:00",
          "2022-05-20T00:00:00",
          "2022-05-21T00:00:00",
          "2022-05-22T00:00:00",
          "2022-05-23T00:00:00",
          "2022-05-24T00:00:00",
          "2022-05-25T00:00:00",
          "2022-05-26T00:00:00",
          "2022-05-27T00:00:00",
          "2022-05-28T00:00:00",
          "2022-05-29T00:00:00",
          "2022-05-30T00:00:00",
          "2022-05-31T00:00:00",
          "2022-06-01T00:00:00",
          "2022-06-02T00:00:00",
          "2022-06-03T00:00:00",
          "2022-06-04T00:00:00",
          "2022-06-05T00:00:00",
          "2022-06-06T00:00:00",
          "2022-06-07T00:00:00",
          "2022-06-08T00:00:00",
          "2022-06-09T00:00:00",
          "2022-06-10T00:00:00",
          "2022-06-11T00:00:00",
          "2022-06-12T00:00:00",
          "2022-06-13T00:00:00",
          "2022-06-14T00:00:00",
          "2022-06-15T00:00:00",
          "2022-06-16T00:00:00",
          "2022-06-17T00:00:00",
          "2022-06-18T00:00:00",
          "2022-06-19T00:00:00",
          "2022-06-20T00:00:00",
          "2022-06-21T00:00:00",
          "2022-06-22T00:00:00",
          "2022-06-23T00:00:00",
          "2022-06-24T00:00:00",
          "2022-06-25T00:00:00",
          "2022-06-26T00:00:00",
          "2022-06-27T00:00:00",
          "2022-06-28T00:00:00",
          "2022-06-29T00:00:00",
          "2022-06-30T00:00:00",
          "2022-07-01T00:00:00",
          "2022-07-02T00:00:00",
          "2022-07-03T00:00:00",
          "2022-07-04T00:00:00",
          "2022-07-05T00:00:00",
          "2022-07-06T00:00:00",
          "2022-07-07T00:00:00",
          "2022-07-08T00:00:00",
          "2022-07-09T00:00:00",
          "2022-07-10T00:00:00",
          "2022-07-11T00:00:00",
          "2022-07-12T00:00:00",
          "2022-07-13T00:00:00",
          "2022-07-14T00:00:00",
          "2022-07-15T00:00:00",
          "2022-07-16T00:00:00",
          "2022-07-17T00:00:00",
          "2022-07-18T00:00:00",
          "2022-07-19T00:00:00",
          "2022-07-20T00:00:00",
          "2022-07-21T00:00:00",
          "2022-07-22T00:00:00",
          "2022-07-23T00:00:00",
          "2022-07-24T00:00:00",
          "2022-07-25T00:00:00",
          "2022-07-26T00:00:00",
          "2022-07-27T00:00:00",
          "2022-07-28T00:00:00",
          "2022-07-29T00:00:00",
          "2022-07-30T00:00:00",
          "2022-07-31T00:00:00",
          "2022-08-01T00:00:00",
          "2022-08-02T00:00:00",
          "2022-08-03T00:00:00",
          "2022-08-04T00:00:00",
          "2022-08-05T00:00:00",
          "2022-08-06T00:00:00",
          "2022-08-07T00:00:00",
          "2022-08-08T00:00:00",
          "2022-08-09T00:00:00",
          "2022-08-10T00:00:00",
          "2022-08-11T00:00:00",
          "2022-08-12T00:00:00",
          "2022-08-13T00:00:00",
          "2022-08-14T00:00:00",
          "2022-08-15T00:00:00",
          "2022-08-16T00:00:00",
          "2022-08-17T00:00:00",
          "2022-08-18T00:00:00",
          "2022-08-19T00:00:00",
          "2022-08-20T00:00:00",
          "2022-08-21T00:00:00",
          "2022-08-22T00:00:00",
          "2022-08-23T00:00:00",
          "2022-08-24T00:00:00",
          "2022-08-25T00:00:00",
          "2022-08-26T00:00:00",
          "2022-08-27T00:00:00",
          "2022-08-28T00:00:00",
          "2022-08-29T00:00:00",
          "2022-08-30T00:00:00",
          "2022-08-31T00:00:00",
          "2022-09-01T00:00:00",
          "2022-09-02T00:00:00",
          "2022-09-03T00:00:00",
          "2022-09-04T00:00:00",
          "2022-09-05T00:00:00",
          "2022-09-06T00:00:00",
          "2022-09-07T00:00:00",
          "2022-09-08T00:00:00",
          "2022-09-09T00:00:00",
          "2022-09-10T00:00:00",
          "2022-09-11T00:00:00",
          "2022-09-12T00:00:00",
          "2022-09-13T00:00:00",
          "2022-09-14T00:00:00",
          "2022-09-15T00:00:00",
          "2022-09-16T00:00:00",
          "2022-09-17T00:00:00",
          "2022-09-18T00:00:00",
          "2022-09-19T00:00:00",
          "2022-09-20T00:00:00",
          "2022-09-21T00:00:00",
          "2022-09-22T00:00:00",
          "2022-09-23T00:00:00",
          "2022-09-24T00:00:00",
          "2022-09-25T00:00:00",
          "2022-09-26T00:00:00",
          "2022-09-27T00:00:00",
          "2022-09-28T00:00:00",
          "2022-09-29T00:00:00",
          "2022-09-30T00:00:00",
          "2022-10-01T00:00:00",
          "2022-10-02T00:00:00",
          "2022-10-03T00:00:00",
          "2022-10-04T00:00:00",
          "2022-10-05T00:00:00",
          "2022-10-06T00:00:00",
          "2022-10-07T00:00:00",
          "2022-10-08T00:00:00",
          "2022-10-09T00:00:00",
          "2022-10-10T00:00:00",
          "2022-10-11T00:00:00",
          "2022-10-12T00:00:00",
          "2022-10-13T00:00:00",
          "2022-10-14T00:00:00",
          "2022-10-15T00:00:00",
          "2022-10-16T00:00:00",
          "2022-10-17T00:00:00",
          "2022-10-18T00:00:00",
          "2022-10-19T00:00:00",
          "2022-10-20T00:00:00",
          "2022-10-21T00:00:00",
          "2022-10-22T00:00:00",
          "2022-10-23T00:00:00",
          "2022-10-24T00:00:00",
          "2022-10-25T00:00:00",
          "2022-10-26T00:00:00",
          "2022-10-27T00:00:00",
          "2022-10-28T00:00:00",
          "2022-10-29T00:00:00",
          "2022-10-30T00:00:00",
          "2022-10-31T00:00:00",
          "2022-11-01T00:00:00",
          "2022-11-02T00:00:00",
          "2022-11-03T00:00:00",
          "2022-11-04T00:00:00",
          "2022-11-05T00:00:00",
          "2022-11-06T00:00:00",
          "2022-11-07T00:00:00",
          "2022-11-08T00:00:00",
          "2022-11-09T00:00:00",
          "2022-11-10T00:00:00",
          "2022-11-11T00:00:00",
          "2022-11-12T00:00:00",
          "2022-11-13T00:00:00",
          "2022-11-14T00:00:00",
          "2022-11-15T00:00:00",
          "2022-11-16T00:00:00",
          "2022-11-17T00:00:00",
          "2022-11-18T00:00:00",
          "2022-11-19T00:00:00",
          "2022-11-20T00:00:00",
          "2022-11-21T00:00:00",
          "2022-11-22T00:00:00",
          "2022-11-23T00:00:00",
          "2022-11-24T00:00:00",
          "2022-11-25T00:00:00",
          "2022-11-26T00:00:00",
          "2022-11-27T00:00:00",
          "2022-11-28T00:00:00",
          "2022-11-29T00:00:00",
          "2022-11-30T00:00:00",
          "2022-12-01T00:00:00",
          "2022-12-02T00:00:00",
          "2022-12-03T00:00:00",
          "2022-12-04T00:00:00",
          "2022-12-05T00:00:00",
          "2022-12-06T00:00:00",
          "2022-12-07T00:00:00",
          "2022-12-08T00:00:00",
          "2022-12-09T00:00:00",
          "2022-12-10T00:00:00",
          "2022-12-11T00:00:00",
          "2022-12-12T00:00:00",
          "2022-12-13T00:00:00",
          "2022-12-14T00:00:00",
          "2022-12-15T00:00:00",
          "2022-12-16T00:00:00",
          "2022-12-17T00:00:00",
          "2022-12-18T00:00:00",
          "2022-12-19T00:00:00",
          "2022-12-20T00:00:00",
          "2022-12-21T00:00:00",
          "2022-12-22T00:00:00",
          "2022-12-23T00:00:00",
          "2022-12-24T00:00:00",
          "2022-12-25T00:00:00",
          "2022-12-26T00:00:00",
          "2022-12-27T00:00:00",
          "2022-12-28T00:00:00",
          "2022-12-29T00:00:00",
          "2022-12-30T00:00:00",
          "2022-12-31T00:00:00"
         ],
         "xaxis": "x",
         "y": [
          8533,
          13146,
          12012,
          11248,
          11159,
          10167,
          11150,
          8321,
          8788,
          8520,
          8008,
          11553,
          9564,
          10799,
          8761,
          9670,
          10299,
          11576,
          11487,
          11246,
          14586,
          10223,
          9998,
          10691,
          10912,
          11103,
          12401,
          13628,
          11067,
          14135,
          12187,
          11218,
          11569,
          13506,
          12327,
          11417,
          9994,
          11294,
          14704,
          13394,
          12463,
          14952,
          10230,
          14511,
          13735,
          13051,
          13149,
          12544,
          13820,
          10624,
          12048,
          11664,
          12366,
          15191,
          12739,
          21477,
          21715,
          14993,
          15133,
          18936,
          18655,
          12157,
          12275,
          9503,
          14031,
          11579,
          11271,
          10105,
          11899,
          11003,
          10979,
          11574,
          12563,
          12339,
          13798,
          12569,
          13343,
          11273,
          10645,
          12221,
          13081,
          14022,
          13757,
          13008,
          11748,
          11576,
          14342,
          12214,
          12984,
          13211,
          11691,
          10583,
          12795,
          12619,
          13237,
          14175,
          12679,
          13456,
          11193,
          11253,
          11455,
          13132,
          12741,
          18161,
          17162,
          12422,
          16867,
          11647,
          10864,
          12624,
          19261,
          14933,
          14090,
          17675,
          14224,
          13316,
          14058,
          12619,
          15075,
          12525,
          12489,
          14937,
          14668,
          14144,
          16248,
          16765,
          9140,
          8143,
          12599,
          11647,
          10678,
          15285,
          9483,
          8253,
          6774,
          10567,
          10468,
          8511,
          8635,
          9827,
          7547,
          6569,
          13820,
          12184,
          13045,
          11643,
          13056,
          11423,
          10876,
          11539,
          10711,
          8452,
          11073,
          11662,
          10500,
          10731,
          11752,
          10086,
          12071,
          11683,
          13802,
          10849,
          10253,
          15085,
          10638,
          14153,
          14358,
          7357,
          7007,
          13663,
          9562,
          9302,
          9816,
          10199,
          10286,
          10183,
          10637,
          10101,
          10080,
          9109,
          10574,
          9472,
          10572,
          10208,
          10737,
          9076,
          9737,
          9169,
          10815,
          9123,
          10856,
          11660,
          11146,
          9812,
          10964,
          10770,
          8404,
          9872,
          10130,
          10418,
          10036,
          9643,
          11634,
          8985,
          9064,
          9948,
          8809,
          9142,
          10116,
          10082,
          8877,
          8969,
          9521,
          9795,
          9525,
          9656,
          10548,
          8047,
          8000,
          10647,
          8930,
          10525,
          10429,
          12014,
          8195,
          8069,
          11584,
          11570,
          10661,
          11117,
          9491,
          8806,
          9351,
          12918,
          10597,
          11348,
          11578,
          12334,
          9884,
          10883,
          10346,
          10334,
          11420,
          10562,
          10531,
          9730,
          10891,
          13580,
          10106,
          10884,
          10486,
          12517,
          9645,
          10381,
          10809,
          10183,
          8544,
          11114,
          11737,
          10091,
          10081,
          11190,
          12571,
          12108,
          10784,
          12943,
          10501,
          9522,
          11612,
          9074,
          10532,
          11880,
          13979,
          14241,
          15781,
          10458,
          9766,
          10257,
          9532,
          11802,
          10645,
          9507,
          9646,
          11046,
          11134,
          10946,
          11550,
          9801,
          10653,
          12259,
          10363,
          11629,
          10526,
          11617,
          9884,
          8445,
          11659,
          9902,
          10925,
          10096,
          19007,
          18238,
          14719,
          7005,
          5853,
          9888,
          6831,
          7737,
          6605,
          9804,
          10581,
          9188,
          10851,
          9397,
          13189,
          14878,
          12679,
          12027,
          16559,
          10511,
          9556,
          11007,
          7979,
          7886,
          5382,
          7665,
          5472,
          4033,
          9001,
          7948,
          7967,
          8423,
          8579,
          8549,
          9001,
          7815,
          8858,
          8973,
          9824,
          10717,
          10960,
          11293,
          10910,
          9656,
          10233,
          11251,
          8561,
          11701,
          11957,
          12950,
          15465,
          12248,
          10361,
          12476,
          12679,
          11912,
          16523,
          13654,
          11021,
          15214,
          12077,
          11332,
          12226,
          15801,
          13216
         ],
         "yaxis": "y"
        },
        {
         "mode": "lines",
         "name": "média móvel",
         "type": "scatter",
         "x": [
          "2022-01-01T00:00:00",
          "2022-01-02T00:00:00",
          "2022-01-03T00:00:00",
          "2022-01-04T00:00:00",
          "2022-01-05T00:00:00",
          "2022-01-06T00:00:00",
          "2022-01-07T00:00:00",
          "2022-01-08T00:00:00",
          "2022-01-09T00:00:00",
          "2022-01-10T00:00:00",
          "2022-01-11T00:00:00",
          "2022-01-12T00:00:00",
          "2022-01-13T00:00:00",
          "2022-01-14T00:00:00",
          "2022-01-15T00:00:00",
          "2022-01-16T00:00:00",
          "2022-01-17T00:00:00",
          "2022-01-18T00:00:00",
          "2022-01-19T00:00:00",
          "2022-01-20T00:00:00",
          "2022-01-21T00:00:00",
          "2022-01-22T00:00:00",
          "2022-01-23T00:00:00",
          "2022-01-24T00:00:00",
          "2022-01-25T00:00:00",
          "2022-01-26T00:00:00",
          "2022-01-27T00:00:00",
          "2022-01-28T00:00:00",
          "2022-01-29T00:00:00",
          "2022-01-30T00:00:00",
          "2022-01-31T00:00:00",
          "2022-02-01T00:00:00",
          "2022-02-02T00:00:00",
          "2022-02-03T00:00:00",
          "2022-02-04T00:00:00",
          "2022-02-05T00:00:00",
          "2022-02-06T00:00:00",
          "2022-02-07T00:00:00",
          "2022-02-08T00:00:00",
          "2022-02-09T00:00:00",
          "2022-02-10T00:00:00",
          "2022-02-11T00:00:00",
          "2022-02-12T00:00:00",
          "2022-02-13T00:00:00",
          "2022-02-14T00:00:00",
          "2022-02-15T00:00:00",
          "2022-02-16T00:00:00",
          "2022-02-17T00:00:00",
          "2022-02-18T00:00:00",
          "2022-02-19T00:00:00",
          "2022-02-20T00:00:00",
          "2022-02-21T00:00:00",
          "2022-02-22T00:00:00",
          "2022-02-23T00:00:00",
          "2022-02-24T00:00:00",
          "2022-02-25T00:00:00",
          "2022-02-26T00:00:00",
          "2022-02-27T00:00:00",
          "2022-02-28T00:00:00",
          "2022-03-01T00:00:00",
          "2022-03-02T00:00:00",
          "2022-03-03T00:00:00",
          "2022-03-04T00:00:00",
          "2022-03-05T00:00:00",
          "2022-03-06T00:00:00",
          "2022-03-07T00:00:00",
          "2022-03-08T00:00:00",
          "2022-03-09T00:00:00",
          "2022-03-10T00:00:00",
          "2022-03-11T00:00:00",
          "2022-03-12T00:00:00",
          "2022-03-13T00:00:00",
          "2022-03-14T00:00:00",
          "2022-03-15T00:00:00",
          "2022-03-16T00:00:00",
          "2022-03-17T00:00:00",
          "2022-03-18T00:00:00",
          "2022-03-19T00:00:00",
          "2022-03-20T00:00:00",
          "2022-03-21T00:00:00",
          "2022-03-22T00:00:00",
          "2022-03-23T00:00:00",
          "2022-03-24T00:00:00",
          "2022-03-25T00:00:00",
          "2022-03-26T00:00:00",
          "2022-03-27T00:00:00",
          "2022-03-28T00:00:00",
          "2022-03-29T00:00:00",
          "2022-03-30T00:00:00",
          "2022-03-31T00:00:00",
          "2022-04-01T00:00:00",
          "2022-04-02T00:00:00",
          "2022-04-03T00:00:00",
          "2022-04-04T00:00:00",
          "2022-04-05T00:00:00",
          "2022-04-06T00:00:00",
          "2022-04-07T00:00:00",
          "2022-04-08T00:00:00",
          "2022-04-09T00:00:00",
          "2022-04-10T00:00:00",
          "2022-04-11T00:00:00",
          "2022-04-12T00:00:00",
          "2022-04-13T00:00:00",
          "2022-04-14T00:00:00",
          "2022-04-15T00:00:00",
          "2022-04-16T00:00:00",
          "2022-04-17T00:00:00",
          "2022-04-18T00:00:00",
          "2022-04-19T00:00:00",
          "2022-04-20T00:00:00",
          "2022-04-21T00:00:00",
          "2022-04-22T00:00:00",
          "2022-04-23T00:00:00",
          "2022-04-24T00:00:00",
          "2022-04-25T00:00:00",
          "2022-04-26T00:00:00",
          "2022-04-27T00:00:00",
          "2022-04-28T00:00:00",
          "2022-04-29T00:00:00",
          "2022-04-30T00:00:00",
          "2022-05-01T00:00:00",
          "2022-05-02T00:00:00",
          "2022-05-03T00:00:00",
          "2022-05-04T00:00:00",
          "2022-05-05T00:00:00",
          "2022-05-06T00:00:00",
          "2022-05-07T00:00:00",
          "2022-05-08T00:00:00",
          "2022-05-09T00:00:00",
          "2022-05-10T00:00:00",
          "2022-05-11T00:00:00",
          "2022-05-12T00:00:00",
          "2022-05-13T00:00:00",
          "2022-05-14T00:00:00",
          "2022-05-15T00:00:00",
          "2022-05-16T00:00:00",
          "2022-05-17T00:00:00",
          "2022-05-18T00:00:00",
          "2022-05-19T00:00:00",
          "2022-05-20T00:00:00",
          "2022-05-21T00:00:00",
          "2022-05-22T00:00:00",
          "2022-05-23T00:00:00",
          "2022-05-24T00:00:00",
          "2022-05-25T00:00:00",
          "2022-05-26T00:00:00",
          "2022-05-27T00:00:00",
          "2022-05-28T00:00:00",
          "2022-05-29T00:00:00",
          "2022-05-30T00:00:00",
          "2022-05-31T00:00:00",
          "2022-06-01T00:00:00",
          "2022-06-02T00:00:00",
          "2022-06-03T00:00:00",
          "2022-06-04T00:00:00",
          "2022-06-05T00:00:00",
          "2022-06-06T00:00:00",
          "2022-06-07T00:00:00",
          "2022-06-08T00:00:00",
          "2022-06-09T00:00:00",
          "2022-06-10T00:00:00",
          "2022-06-11T00:00:00",
          "2022-06-12T00:00:00",
          "2022-06-13T00:00:00",
          "2022-06-14T00:00:00",
          "2022-06-15T00:00:00",
          "2022-06-16T00:00:00",
          "2022-06-17T00:00:00",
          "2022-06-18T00:00:00",
          "2022-06-19T00:00:00",
          "2022-06-20T00:00:00",
          "2022-06-21T00:00:00",
          "2022-06-22T00:00:00",
          "2022-06-23T00:00:00",
          "2022-06-24T00:00:00",
          "2022-06-25T00:00:00",
          "2022-06-26T00:00:00",
          "2022-06-27T00:00:00",
          "2022-06-28T00:00:00",
          "2022-06-29T00:00:00",
          "2022-06-30T00:00:00",
          "2022-07-01T00:00:00",
          "2022-07-02T00:00:00",
          "2022-07-03T00:00:00",
          "2022-07-04T00:00:00",
          "2022-07-05T00:00:00",
          "2022-07-06T00:00:00",
          "2022-07-07T00:00:00",
          "2022-07-08T00:00:00",
          "2022-07-09T00:00:00",
          "2022-07-10T00:00:00",
          "2022-07-11T00:00:00",
          "2022-07-12T00:00:00",
          "2022-07-13T00:00:00",
          "2022-07-14T00:00:00",
          "2022-07-15T00:00:00",
          "2022-07-16T00:00:00",
          "2022-07-17T00:00:00",
          "2022-07-18T00:00:00",
          "2022-07-19T00:00:00",
          "2022-07-20T00:00:00",
          "2022-07-21T00:00:00",
          "2022-07-22T00:00:00",
          "2022-07-23T00:00:00",
          "2022-07-24T00:00:00",
          "2022-07-25T00:00:00",
          "2022-07-26T00:00:00",
          "2022-07-27T00:00:00",
          "2022-07-28T00:00:00",
          "2022-07-29T00:00:00",
          "2022-07-30T00:00:00",
          "2022-07-31T00:00:00",
          "2022-08-01T00:00:00",
          "2022-08-02T00:00:00",
          "2022-08-03T00:00:00",
          "2022-08-04T00:00:00",
          "2022-08-05T00:00:00",
          "2022-08-06T00:00:00",
          "2022-08-07T00:00:00",
          "2022-08-08T00:00:00",
          "2022-08-09T00:00:00",
          "2022-08-10T00:00:00",
          "2022-08-11T00:00:00",
          "2022-08-12T00:00:00",
          "2022-08-13T00:00:00",
          "2022-08-14T00:00:00",
          "2022-08-15T00:00:00",
          "2022-08-16T00:00:00",
          "2022-08-17T00:00:00",
          "2022-08-18T00:00:00",
          "2022-08-19T00:00:00",
          "2022-08-20T00:00:00",
          "2022-08-21T00:00:00",
          "2022-08-22T00:00:00",
          "2022-08-23T00:00:00",
          "2022-08-24T00:00:00",
          "2022-08-25T00:00:00",
          "2022-08-26T00:00:00",
          "2022-08-27T00:00:00",
          "2022-08-28T00:00:00",
          "2022-08-29T00:00:00",
          "2022-08-30T00:00:00",
          "2022-08-31T00:00:00",
          "2022-09-01T00:00:00",
          "2022-09-02T00:00:00",
          "2022-09-03T00:00:00",
          "2022-09-04T00:00:00",
          "2022-09-05T00:00:00",
          "2022-09-06T00:00:00",
          "2022-09-07T00:00:00",
          "2022-09-08T00:00:00",
          "2022-09-09T00:00:00",
          "2022-09-10T00:00:00",
          "2022-09-11T00:00:00",
          "2022-09-12T00:00:00",
          "2022-09-13T00:00:00",
          "2022-09-14T00:00:00",
          "2022-09-15T00:00:00",
          "2022-09-16T00:00:00",
          "2022-09-17T00:00:00",
          "2022-09-18T00:00:00",
          "2022-09-19T00:00:00",
          "2022-09-20T00:00:00",
          "2022-09-21T00:00:00",
          "2022-09-22T00:00:00",
          "2022-09-23T00:00:00",
          "2022-09-24T00:00:00",
          "2022-09-25T00:00:00",
          "2022-09-26T00:00:00",
          "2022-09-27T00:00:00",
          "2022-09-28T00:00:00",
          "2022-09-29T00:00:00",
          "2022-09-30T00:00:00",
          "2022-10-01T00:00:00",
          "2022-10-02T00:00:00",
          "2022-10-03T00:00:00",
          "2022-10-04T00:00:00",
          "2022-10-05T00:00:00",
          "2022-10-06T00:00:00",
          "2022-10-07T00:00:00",
          "2022-10-08T00:00:00",
          "2022-10-09T00:00:00",
          "2022-10-10T00:00:00",
          "2022-10-11T00:00:00",
          "2022-10-12T00:00:00",
          "2022-10-13T00:00:00",
          "2022-10-14T00:00:00",
          "2022-10-15T00:00:00",
          "2022-10-16T00:00:00",
          "2022-10-17T00:00:00",
          "2022-10-18T00:00:00",
          "2022-10-19T00:00:00",
          "2022-10-20T00:00:00",
          "2022-10-21T00:00:00",
          "2022-10-22T00:00:00",
          "2022-10-23T00:00:00",
          "2022-10-24T00:00:00",
          "2022-10-25T00:00:00",
          "2022-10-26T00:00:00",
          "2022-10-27T00:00:00",
          "2022-10-28T00:00:00",
          "2022-10-29T00:00:00",
          "2022-10-30T00:00:00",
          "2022-10-31T00:00:00",
          "2022-11-01T00:00:00",
          "2022-11-02T00:00:00",
          "2022-11-03T00:00:00",
          "2022-11-04T00:00:00",
          "2022-11-05T00:00:00",
          "2022-11-06T00:00:00",
          "2022-11-07T00:00:00",
          "2022-11-08T00:00:00",
          "2022-11-09T00:00:00",
          "2022-11-10T00:00:00",
          "2022-11-11T00:00:00",
          "2022-11-12T00:00:00",
          "2022-11-13T00:00:00",
          "2022-11-14T00:00:00",
          "2022-11-15T00:00:00",
          "2022-11-16T00:00:00",
          "2022-11-17T00:00:00",
          "2022-11-18T00:00:00",
          "2022-11-19T00:00:00",
          "2022-11-20T00:00:00",
          "2022-11-21T00:00:00",
          "2022-11-22T00:00:00",
          "2022-11-23T00:00:00",
          "2022-11-24T00:00:00",
          "2022-11-25T00:00:00",
          "2022-11-26T00:00:00",
          "2022-11-27T00:00:00",
          "2022-11-28T00:00:00",
          "2022-11-29T00:00:00",
          "2022-11-30T00:00:00",
          "2022-12-01T00:00:00",
          "2022-12-02T00:00:00",
          "2022-12-03T00:00:00",
          "2022-12-04T00:00:00",
          "2022-12-05T00:00:00",
          "2022-12-06T00:00:00",
          "2022-12-07T00:00:00",
          "2022-12-08T00:00:00",
          "2022-12-09T00:00:00",
          "2022-12-10T00:00:00",
          "2022-12-11T00:00:00",
          "2022-12-12T00:00:00",
          "2022-12-13T00:00:00",
          "2022-12-14T00:00:00",
          "2022-12-15T00:00:00",
          "2022-12-16T00:00:00",
          "2022-12-17T00:00:00",
          "2022-12-18T00:00:00",
          "2022-12-19T00:00:00",
          "2022-12-20T00:00:00",
          "2022-12-21T00:00:00",
          "2022-12-22T00:00:00",
          "2022-12-23T00:00:00",
          "2022-12-24T00:00:00",
          "2022-12-25T00:00:00",
          "2022-12-26T00:00:00",
          "2022-12-27T00:00:00",
          "2022-12-28T00:00:00",
          "2022-12-29T00:00:00",
          "2022-12-30T00:00:00",
          "2022-12-31T00:00:00"
         ],
         "xaxis": "x2",
         "y": [
          null,
          null,
          null,
          null,
          null,
          null,
          11059.285714285714,
          11029,
          10406.42857142857,
          9907.57142857143,
          9444.714285714286,
          9501,
          9414.857142857143,
          9364.714285714286,
          9427.57142857143,
          9553.57142857143,
          9807.714285714286,
          10317.42857142857,
          10308,
          10548.285714285714,
          11089.285714285714,
          11298.142857142857,
          11345,
          11401,
          11306.142857142857,
          11251.285714285714,
          11416.285714285714,
          11279.42857142857,
          11400,
          11991,
          12204.714285714286,
          12248.42857142857,
          12315,
          12472.857142857143,
          12287,
          12337,
          11745.42857142857,
          11617.857142857143,
          12115.857142857143,
          12376.57142857143,
          12227.57142857143,
          12602.57142857143,
          12433,
          13078.285714285714,
          13427,
          13190.857142857143,
          13155.857142857143,
          13167.42857142857,
          13005.714285714286,
          13062,
          12710.142857142857,
          12414.285714285714,
          12316.42857142857,
          12608.142857142857,
          12636,
          13729.857142857143,
          15314.285714285714,
          15735,
          16230.57142857143,
          17169.14285714286,
          17664,
          17580.85714285714,
          16266.285714285714,
          14521.714285714286,
          14384.285714285714,
          13876.57142857143,
          12781.57142857143,
          11560.142857142857,
          11523.285714285714,
          11341.57142857143,
          11552.42857142857,
          11201.42857142857,
          11342,
          11494.57142857143,
          12022.142857142857,
          12117.857142857143,
          12452.142857142857,
          12494.142857142857,
          12361.42857142857,
          12312.57142857143,
          12418.57142857143,
          12450.57142857143,
          12620.285714285714,
          12572.42857142857,
          12640.285714285714,
          12773.285714285714,
          13076.285714285714,
          12952.42857142857,
          12804.142857142857,
          12726.142857142857,
          12538,
          12371.57142857143,
          12545.714285714286,
          12299.57142857143,
          12445.714285714286,
          12615.857142857143,
          12539.857142857143,
          12792,
          12879.142857142857,
          12658.857142857143,
          12492.57142857143,
          12477.57142857143,
          12272.714285714286,
          13055.857142857143,
          13585.285714285714,
          13760.857142857143,
          14562.857142857143,
          14590.285714285714,
          14266.285714285714,
          14249.57142857143,
          14406.714285714286,
          14088.285714285714,
          14326.57142857143,
          14442,
          14810.142857142857,
          15160.42857142857,
          15365.285714285714,
          14416.42857142857,
          14436.714285714286,
          14213.142857142857,
          13472.285714285714,
          13574.142857142857,
          13767.285714285714,
          13779.57142857143,
          14298,
          14539.42857142857,
          14055.857142857143,
          13435,
          13101,
          12669.42857142857,
          12174.285714285714,
          12036.714285714286,
          10996.42857142857,
          10869.714285714286,
          10674.142857142857,
          10383.857142857143,
          10215.42857142857,
          9905.857142857143,
          8955.857142857143,
          9005,
          8904.142857142857,
          8874.857142857143,
          9339.57142857143,
          9584.714285714286,
          10232.42857142857,
          10662.142857142857,
          11123.42857142857,
          11677.142857142857,
          12292.42857142857,
          11966.57142857143,
          11756.142857142857,
          11100,
          11018.57142857143,
          10819.42857142857,
          10687.57142857143,
          10666.857142857143,
          10697.285714285714,
          10608,
          11125,
          11212.142857142857,
          11517.857142857143,
          11567.714285714286,
          11499.42857142857,
          11975.57142857143,
          12054.42857142857,
          12351.857142857143,
          12734,
          11813.285714285714,
          11264.42857142857,
          11751.57142857143,
          10962.57142857143,
          10771.714285714286,
          10152.142857142857,
          9558,
          9976.42857142857,
          10430.142857142857,
          9997.857142857143,
          10074.857142857143,
          10186,
          10085,
          10138.57142857143,
          10022.285714285714,
          10077.857142857143,
          10016.57142857143,
          10107.42857142857,
          9964,
          10053.714285714286,
          9853,
          10044.857142857143,
          9837.857142857143,
          9930.42857142857,
          10062.285714285714,
          10358,
          10368.714285714286,
          10625.142857142857,
          10618.714285714286,
          10516,
          10375.42857142857,
          10156.857142857143,
          10052.857142857143,
          10084.857142857143,
          9896.142857142857,
          10019.57142857143,
          10102.57142857143,
          9987.142857142857,
          9961.142857142857,
          9731.285714285714,
          9603.57142857143,
          9671.142857142857,
          9449.42857142857,
          9434,
          9420.42857142857,
          9359.42857142857,
          9500.285714285714,
          9555,
          9489.285714285714,
          9555.857142857143,
          9437.285714285714,
          9298.857142857143,
          9459.714285714286,
          9336.142857142857,
          9479,
          9589.42857142857,
          9798.857142857143,
          9820,
          9829.857142857143,
          9963.714285714286,
          10340.857142857143,
          10360.285714285714,
          10458.57142857143,
          10098.142857142857,
          10185.42857142857,
          10368.57142857143,
          10559.142857142857,
          10420.142857142857,
          10518.285714285714,
          10584.142857142857,
          10990.285714285714,
          11144.285714285714,
          11363.142857142857,
          10995.714285714286,
          10958.142857142857,
          10968.42857142857,
          10823.285714285714,
          10565.714285714286,
          10543.714285714286,
          10544.857142857143,
          11006.857142857143,
          10974.285714285714,
          10897.714285714286,
          10886.857142857143,
          11170.57142857143,
          11158.42857142857,
          11085.57142857143,
          10689.714285714286,
          10700.714285714286,
          10366.42857142857,
          10456.142857142857,
          10344.714285714286,
          10408.42857142857,
          10365.57142857143,
          10420,
          10761.142857142857,
          11270.285714285714,
          11223.142857142857,
          11395.42857142857,
          11454,
          11374.142857142857,
          11434.42857142857,
          10934.857142857143,
          10709.714285714286,
          10866.285714285714,
          11014.285714285714,
          11548.57142857143,
          12442.714285714286,
          12277.857142857143,
          12376.714285714286,
          12337.42857142857,
          12002,
          11691,
          11177.285714285714,
          10281,
          10165,
          10347.857142857143,
          10473.142857142857,
          10675.142857142857,
          10639.142857142857,
          10518.57142857143,
          10682.285714285714,
          11055.57142857143,
          10958,
          11028.714285714286,
          10968.714285714286,
          10978.285714285714,
          10990.142857142857,
          10674.714285714286,
          10589,
          10523.142857142857,
          10422.57142857143,
          10361.142857142857,
          11416.857142857143,
          12610.285714285714,
          13506.57142857143,
          12841.714285714286,
          12263.285714285714,
          12115.142857142857,
          11648.714285714286,
          10038.714285714286,
          8376.857142857143,
          7674.714285714285,
          8185.571428571428,
          8662,
          8799.57142857143,
          9166.142857142857,
          9945,
          11126.857142857143,
          11537.57142857143,
          11744.142857142857,
          12797.142857142857,
          12748.57142857143,
          12771.285714285714,
          12459.57142857143,
          11474,
          10789.285714285714,
          9840,
          8569.42857142857,
          7849.571428571428,
          7060.571428571428,
          6774,
          6769.571428571428,
          6781.142857142857,
          7215.571428571428,
          7346.142857142857,
          7785.714285714285,
          8495.42857142857,
          8326,
          8456,
          8599.714285714286,
          8799.857142857143,
          9105.285714285714,
          9449.714285714286,
          9777.142857142857,
          10219.285714285714,
          10333.285714285714,
          10513.285714285714,
          10717.142857142857,
          10409.142857142857,
          10515,
          10609.857142857143,
          10901.285714285714,
          11731.142857142857,
          12019,
          11891.857142857143,
          12451.142857142857,
          12590.857142857143,
          12584.42857142857,
          13094.857142857143,
          12836.142857142857,
          12660.857142857143,
          13354.142857142857,
          13297.142857142857,
          13104.714285714286,
          13149.57142857143,
          13046.42857142857,
          12983.857142857143
         ],
         "yaxis": "y2"
        }
       ],
       "layout": {
        "legend": {
         "orientation": "h",
         "x": 1,
         "xanchor": "right",
         "y": 1.02,
         "yanchor": "bottom"
        },
        "showlegend": true,
        "template": {
         "data": {
          "bar": [
           {
            "error_x": {
             "color": "#2a3f5f"
            },
            "error_y": {
             "color": "#2a3f5f"
            },
            "marker": {
             "line": {
              "color": "#E5ECF6",
              "width": 0.5
             },
             "pattern": {
              "fillmode": "overlay",
              "size": 10,
              "solidity": 0.2
             }
            },
            "type": "bar"
           }
          ],
          "barpolar": [
           {
            "marker": {
             "line": {
              "color": "#E5ECF6",
              "width": 0.5
             },
             "pattern": {
              "fillmode": "overlay",
              "size": 10,
              "solidity": 0.2
             }
            },
            "type": "barpolar"
           }
          ],
          "carpet": [
           {
            "aaxis": {
             "endlinecolor": "#2a3f5f",
             "gridcolor": "white",
             "linecolor": "white",
             "minorgridcolor": "white",
             "startlinecolor": "#2a3f5f"
            },
            "baxis": {
             "endlinecolor": "#2a3f5f",
             "gridcolor": "white",
             "linecolor": "white",
             "minorgridcolor": "white",
             "startlinecolor": "#2a3f5f"
            },
            "type": "carpet"
           }
          ],
          "choropleth": [
           {
            "colorbar": {
             "outlinewidth": 0,
             "ticks": ""
            },
            "type": "choropleth"
           }
          ],
          "contour": [
           {
            "colorbar": {
             "outlinewidth": 0,
             "ticks": ""
            },
            "colorscale": [
             [
              0,
              "#0d0887"
             ],
             [
              0.1111111111111111,
              "#46039f"
             ],
             [
              0.2222222222222222,
              "#7201a8"
             ],
             [
              0.3333333333333333,
              "#9c179e"
             ],
             [
              0.4444444444444444,
              "#bd3786"
             ],
             [
              0.5555555555555556,
              "#d8576b"
             ],
             [
              0.6666666666666666,
              "#ed7953"
             ],
             [
              0.7777777777777778,
              "#fb9f3a"
             ],
             [
              0.8888888888888888,
              "#fdca26"
             ],
             [
              1,
              "#f0f921"
             ]
            ],
            "type": "contour"
           }
          ],
          "contourcarpet": [
           {
            "colorbar": {
             "outlinewidth": 0,
             "ticks": ""
            },
            "type": "contourcarpet"
           }
          ],
          "heatmap": [
           {
            "colorbar": {
             "outlinewidth": 0,
             "ticks": ""
            },
            "colorscale": [
             [
              0,
              "#0d0887"
             ],
             [
              0.1111111111111111,
              "#46039f"
             ],
             [
              0.2222222222222222,
              "#7201a8"
             ],
             [
              0.3333333333333333,
              "#9c179e"
             ],
             [
              0.4444444444444444,
              "#bd3786"
             ],
             [
              0.5555555555555556,
              "#d8576b"
             ],
             [
              0.6666666666666666,
              "#ed7953"
             ],
             [
              0.7777777777777778,
              "#fb9f3a"
             ],
             [
              0.8888888888888888,
              "#fdca26"
             ],
             [
              1,
              "#f0f921"
             ]
            ],
            "type": "heatmap"
           }
          ],
          "heatmapgl": [
           {
            "colorbar": {
             "outlinewidth": 0,
             "ticks": ""
            },
            "colorscale": [
             [
              0,
              "#0d0887"
             ],
             [
              0.1111111111111111,
              "#46039f"
             ],
             [
              0.2222222222222222,
              "#7201a8"
             ],
             [
              0.3333333333333333,
              "#9c179e"
             ],
             [
              0.4444444444444444,
              "#bd3786"
             ],
             [
              0.5555555555555556,
              "#d8576b"
             ],
             [
              0.6666666666666666,
              "#ed7953"
             ],
             [
              0.7777777777777778,
              "#fb9f3a"
             ],
             [
              0.8888888888888888,
              "#fdca26"
             ],
             [
              1,
              "#f0f921"
             ]
            ],
            "type": "heatmapgl"
           }
          ],
          "histogram": [
           {
            "marker": {
             "pattern": {
              "fillmode": "overlay",
              "size": 10,
              "solidity": 0.2
             }
            },
            "type": "histogram"
           }
          ],
          "histogram2d": [
           {
            "colorbar": {
             "outlinewidth": 0,
             "ticks": ""
            },
            "colorscale": [
             [
              0,
              "#0d0887"
             ],
             [
              0.1111111111111111,
              "#46039f"
             ],
             [
              0.2222222222222222,
              "#7201a8"
             ],
             [
              0.3333333333333333,
              "#9c179e"
             ],
             [
              0.4444444444444444,
              "#bd3786"
             ],
             [
              0.5555555555555556,
              "#d8576b"
             ],
             [
              0.6666666666666666,
              "#ed7953"
             ],
             [
              0.7777777777777778,
              "#fb9f3a"
             ],
             [
              0.8888888888888888,
              "#fdca26"
             ],
             [
              1,
              "#f0f921"
             ]
            ],
            "type": "histogram2d"
           }
          ],
          "histogram2dcontour": [
           {
            "colorbar": {
             "outlinewidth": 0,
             "ticks": ""
            },
            "colorscale": [
             [
              0,
              "#0d0887"
             ],
             [
              0.1111111111111111,
              "#46039f"
             ],
             [
              0.2222222222222222,
              "#7201a8"
             ],
             [
              0.3333333333333333,
              "#9c179e"
             ],
             [
              0.4444444444444444,
              "#bd3786"
             ],
             [
              0.5555555555555556,
              "#d8576b"
             ],
             [
              0.6666666666666666,
              "#ed7953"
             ],
             [
              0.7777777777777778,
              "#fb9f3a"
             ],
             [
              0.8888888888888888,
              "#fdca26"
             ],
             [
              1,
              "#f0f921"
             ]
            ],
            "type": "histogram2dcontour"
           }
          ],
          "mesh3d": [
           {
            "colorbar": {
             "outlinewidth": 0,
             "ticks": ""
            },
            "type": "mesh3d"
           }
          ],
          "parcoords": [
           {
            "line": {
             "colorbar": {
              "outlinewidth": 0,
              "ticks": ""
             }
            },
            "type": "parcoords"
           }
          ],
          "pie": [
           {
            "automargin": true,
            "type": "pie"
           }
          ],
          "scatter": [
           {
            "fillpattern": {
             "fillmode": "overlay",
             "size": 10,
             "solidity": 0.2
            },
            "type": "scatter"
           }
          ],
          "scatter3d": [
           {
            "line": {
             "colorbar": {
              "outlinewidth": 0,
              "ticks": ""
             }
            },
            "marker": {
             "colorbar": {
              "outlinewidth": 0,
              "ticks": ""
             }
            },
            "type": "scatter3d"
           }
          ],
          "scattercarpet": [
           {
            "marker": {
             "colorbar": {
              "outlinewidth": 0,
              "ticks": ""
             }
            },
            "type": "scattercarpet"
           }
          ],
          "scattergeo": [
           {
            "marker": {
             "colorbar": {
              "outlinewidth": 0,
              "ticks": ""
             }
            },
            "type": "scattergeo"
           }
          ],
          "scattergl": [
           {
            "marker": {
             "colorbar": {
              "outlinewidth": 0,
              "ticks": ""
             }
            },
            "type": "scattergl"
           }
          ],
          "scattermapbox": [
           {
            "marker": {
             "colorbar": {
              "outlinewidth": 0,
              "ticks": ""
             }
            },
            "type": "scattermapbox"
           }
          ],
          "scatterpolar": [
           {
            "marker": {
             "colorbar": {
              "outlinewidth": 0,
              "ticks": ""
             }
            },
            "type": "scatterpolar"
           }
          ],
          "scatterpolargl": [
           {
            "marker": {
             "colorbar": {
              "outlinewidth": 0,
              "ticks": ""
             }
            },
            "type": "scatterpolargl"
           }
          ],
          "scatterternary": [
           {
            "marker": {
             "colorbar": {
              "outlinewidth": 0,
              "ticks": ""
             }
            },
            "type": "scatterternary"
           }
          ],
          "surface": [
           {
            "colorbar": {
             "outlinewidth": 0,
             "ticks": ""
            },
            "colorscale": [
             [
              0,
              "#0d0887"
             ],
             [
              0.1111111111111111,
              "#46039f"
             ],
             [
              0.2222222222222222,
              "#7201a8"
             ],
             [
              0.3333333333333333,
              "#9c179e"
             ],
             [
              0.4444444444444444,
              "#bd3786"
             ],
             [
              0.5555555555555556,
              "#d8576b"
             ],
             [
              0.6666666666666666,
              "#ed7953"
             ],
             [
              0.7777777777777778,
              "#fb9f3a"
             ],
             [
              0.8888888888888888,
              "#fdca26"
             ],
             [
              1,
              "#f0f921"
             ]
            ],
            "type": "surface"
           }
          ],
          "table": [
           {
            "cells": {
             "fill": {
              "color": "#EBF0F8"
             },
             "line": {
              "color": "white"
             }
            },
            "header": {
             "fill": {
              "color": "#C8D4E3"
             },
             "line": {
              "color": "white"
             }
            },
            "type": "table"
           }
          ]
         },
         "layout": {
          "annotationdefaults": {
           "arrowcolor": "#2a3f5f",
           "arrowhead": 0,
           "arrowwidth": 1
          },
          "autotypenumbers": "strict",
          "coloraxis": {
           "colorbar": {
            "outlinewidth": 0,
            "ticks": ""
           }
          },
          "colorscale": {
           "diverging": [
            [
             0,
             "#8e0152"
            ],
            [
             0.1,
             "#c51b7d"
            ],
            [
             0.2,
             "#de77ae"
            ],
            [
             0.3,
             "#f1b6da"
            ],
            [
             0.4,
             "#fde0ef"
            ],
            [
             0.5,
             "#f7f7f7"
            ],
            [
             0.6,
             "#e6f5d0"
            ],
            [
             0.7,
             "#b8e186"
            ],
            [
             0.8,
             "#7fbc41"
            ],
            [
             0.9,
             "#4d9221"
            ],
            [
             1,
             "#276419"
            ]
           ],
           "sequential": [
            [
             0,
             "#0d0887"
            ],
            [
             0.1111111111111111,
             "#46039f"
            ],
            [
             0.2222222222222222,
             "#7201a8"
            ],
            [
             0.3333333333333333,
             "#9c179e"
            ],
            [
             0.4444444444444444,
             "#bd3786"
            ],
            [
             0.5555555555555556,
             "#d8576b"
            ],
            [
             0.6666666666666666,
             "#ed7953"
            ],
            [
             0.7777777777777778,
             "#fb9f3a"
            ],
            [
             0.8888888888888888,
             "#fdca26"
            ],
            [
             1,
             "#f0f921"
            ]
           ],
           "sequentialminus": [
            [
             0,
             "#0d0887"
            ],
            [
             0.1111111111111111,
             "#46039f"
            ],
            [
             0.2222222222222222,
             "#7201a8"
            ],
            [
             0.3333333333333333,
             "#9c179e"
            ],
            [
             0.4444444444444444,
             "#bd3786"
            ],
            [
             0.5555555555555556,
             "#d8576b"
            ],
            [
             0.6666666666666666,
             "#ed7953"
            ],
            [
             0.7777777777777778,
             "#fb9f3a"
            ],
            [
             0.8888888888888888,
             "#fdca26"
            ],
            [
             1,
             "#f0f921"
            ]
           ]
          },
          "colorway": [
           "#636efa",
           "#EF553B",
           "#00cc96",
           "#ab63fa",
           "#FFA15A",
           "#19d3f3",
           "#FF6692",
           "#B6E880",
           "#FF97FF",
           "#FECB52"
          ],
          "font": {
           "color": "#2a3f5f"
          },
          "geo": {
           "bgcolor": "white",
           "lakecolor": "white",
           "landcolor": "#E5ECF6",
           "showlakes": true,
           "showland": true,
           "subunitcolor": "white"
          },
          "hoverlabel": {
           "align": "left"
          },
          "hovermode": "closest",
          "mapbox": {
           "style": "light"
          },
          "paper_bgcolor": "white",
          "plot_bgcolor": "#E5ECF6",
          "polar": {
           "angularaxis": {
            "gridcolor": "white",
            "linecolor": "white",
            "ticks": ""
           },
           "bgcolor": "#E5ECF6",
           "radialaxis": {
            "gridcolor": "white",
            "linecolor": "white",
            "ticks": ""
           }
          },
          "scene": {
           "xaxis": {
            "backgroundcolor": "#E5ECF6",
            "gridcolor": "white",
            "gridwidth": 2,
            "linecolor": "white",
            "showbackground": true,
            "ticks": "",
            "zerolinecolor": "white"
           },
           "yaxis": {
            "backgroundcolor": "#E5ECF6",
            "gridcolor": "white",
            "gridwidth": 2,
            "linecolor": "white",
            "showbackground": true,
            "ticks": "",
            "zerolinecolor": "white"
           },
           "zaxis": {
            "backgroundcolor": "#E5ECF6",
            "gridcolor": "white",
            "gridwidth": 2,
            "linecolor": "white",
            "showbackground": true,
            "ticks": "",
            "zerolinecolor": "white"
           }
          },
          "shapedefaults": {
           "line": {
            "color": "#2a3f5f"
           }
          },
          "ternary": {
           "aaxis": {
            "gridcolor": "white",
            "linecolor": "white",
            "ticks": ""
           },
           "baxis": {
            "gridcolor": "white",
            "linecolor": "white",
            "ticks": ""
           },
           "bgcolor": "#E5ECF6",
           "caxis": {
            "gridcolor": "white",
            "linecolor": "white",
            "ticks": ""
           }
          },
          "title": {
           "x": 0.05
          },
          "xaxis": {
           "automargin": true,
           "gridcolor": "white",
           "linecolor": "white",
           "ticks": "",
           "title": {
            "standoff": 15
           },
           "zerolinecolor": "white",
           "zerolinewidth": 2
          },
          "yaxis": {
           "automargin": true,
           "gridcolor": "white",
           "linecolor": "white",
           "ticks": "",
           "title": {
            "standoff": 15
           },
           "zerolinecolor": "white",
           "zerolinewidth": 2
          }
         }
        },
        "title": {
         "text": "Sistema de Grid"
        },
        "xaxis": {
         "anchor": "y",
         "domain": [
          0,
          0.45
         ]
        },
        "xaxis2": {
         "anchor": "y2",
         "domain": [
          0.55,
          1
         ]
        },
        "yaxis": {
         "anchor": "x",
         "domain": [
          0,
          1
         ]
        },
        "yaxis2": {
         "anchor": "x2",
         "domain": [
          0,
          1
         ]
        }
       }
      }
     },
     "metadata": {},
     "output_type": "display_data"
    }
   ],
   "source": [
    "# Sistema Grid\n",
    "\n",
    "# Grid\n",
    "\n",
    "grid = make_subplots(rows = 1, cols = 2)\n",
    "\n",
    "# Gráfico 1\n",
    "grid.add_trace(\n",
    "    go.Scatter(\n",
    "        x= multas_dia['data'],\n",
    "        y = multas_dia['quantidade'],\n",
    "        mode = 'lines',\n",
    "        name = 'qtd'\n",
    "    ),\n",
    "    row = 1, col = 1\n",
    ")\n",
    "\n",
    "# Gráfico 2\n",
    "grid.add_trace(\n",
    "    go.Scatter(\n",
    "        x= multas_dia['data'],\n",
    "        y = multas_dia['media_movel'],\n",
    "        mode = 'lines',\n",
    "        name = 'média móvel'\n",
    "    ),\n",
    "    row = 1, col = 2\n",
    ")\n",
    "\n",
    "# Ajuste de layout\n",
    "grid.update_layout(\n",
    "    # Título\n",
    "    title = 'Sistema de Grid',\n",
    "    # Legenda\n",
    "    showlegend = True,\n",
    "\n",
    "    # Ajuste o Plotply\n",
    "    legend = dict(\n",
    "        orientation = 'h',\n",
    "        yanchor = 'bottom',\n",
    "        y = 1.02,\n",
    "        xanchor = 'right',\n",
    "        x = 1\n",
    "    )\n",
    ")\n",
    "\n",
    "grid"
   ]
  }
 ],
 "metadata": {
  "kernelspec": {
   "display_name": "Python 3",
   "language": "python",
   "name": "python3"
  },
  "language_info": {
   "codemirror_mode": {
    "name": "ipython",
    "version": 3
   },
   "file_extension": ".py",
   "mimetype": "text/x-python",
   "name": "python",
   "nbconvert_exporter": "python",
   "pygments_lexer": "ipython3",
   "version": "3.11.2"
  },
  "orig_nbformat": 4
 },
 "nbformat": 4,
 "nbformat_minor": 2
}
